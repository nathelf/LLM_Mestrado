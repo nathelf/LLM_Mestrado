{
  "cells": [
    {
      "cell_type": "markdown",
      "metadata": {
        "id": "view-in-github",
        "colab_type": "text"
      },
      "source": [
        "<a href=\"https://colab.research.google.com/github/nathelf/LLM_Mestrado/blob/main/valorant_doc_generator.ipynb\" target=\"_parent\"><img src=\"https://colab.research.google.com/assets/colab-badge.svg\" alt=\"Open In Colab\"/></a>"
      ]
    },
    {
      "cell_type": "code",
      "execution_count": 3,
      "id": "b25320e4",
      "metadata": {
        "id": "b25320e4"
      },
      "outputs": [],
      "source": [
        "\n",
        "# ✅ Instalando pacotes necessários\n",
        "!pip install -q transformers accelerate markdown2 python-docx\n"
      ]
    },
    {
      "cell_type": "code",
      "execution_count": 4,
      "id": "40920caa",
      "metadata": {
        "id": "40920caa"
      },
      "outputs": [],
      "source": [
        "\n",
        "# ✅ Importação das bibliotecas essenciais\n",
        "from transformers import AutoTokenizer, AutoModelForSeq2SeqLM, pipeline\n",
        "import torch\n",
        "import os\n",
        "import json\n",
        "from docx import Document\n",
        "from google.colab import files\n",
        "from zipfile import ZipFile\n",
        "import shutil\n",
        "import gc\n",
        "from datetime import datetime\n"
      ]
    },
    {
      "cell_type": "code",
      "execution_count": 5,
      "id": "1c847b7f",
      "metadata": {
        "colab": {
          "base_uri": "https://localhost:8080/",
          "height": 304,
          "referenced_widgets": [
            "8ce7d1b8439f49188b6fa3f53c0aad39",
            "e62d97dcb8834577acd2f8df9799e744",
            "8f05806683504d1bac58e78f3fe8a52a",
            "d6805953f9af480492ba85e5d5c35a5f",
            "a611427967b444d7ad2adcbcca116acb",
            "e221cb3105c5492f82929ea1662bfbae",
            "811027291fdf4d1ab9b9ce467b7f4fe1",
            "6dfc1f9067cb448096d4ad794c737c9b",
            "07354ad7c23a4474b1c68b553e48380c",
            "daf97e3975fc432fadb6e13a038bb59a",
            "483bbf7262cd4d51bb51d3879c7adc90",
            "ec446560fa2e4d9f846ecd90465768db",
            "31d9c699b5f84edf89df8f4b8eff2fa7",
            "e2fb6047a6f643cfba49bca2e024d1a8",
            "d8d4f7dfb65948bf89b3499b794a6bb0",
            "b77a1aa69f6f4d4b8b4ebba35031cf12",
            "3c113d5d709f4e4c975310144c8caf11",
            "e5d647b19b0a49be950290a51bf34f3a",
            "3f1b7a65888d409693b78495372dd73e",
            "eb6eba5e776b453d9f425937b2ae1aab",
            "bdeae1da2b1144059211c33d9e4c69e6",
            "e6d12684c08a48f0b17ac4e51a99bb4e",
            "cc349b180605449cbb9a6491f635021f",
            "f874cf9499c643a6b5645ed6198b278f",
            "3f77125a5857451587f0ce148ec48226",
            "15d433b0faed4ad58aed68b4898c0586",
            "47e837c5d7344a9ebb7f3d09dc736e26",
            "522c938be4de42a1a088ae655e69b94e",
            "a6109e476f854bd3a437b3d7601ffe9b",
            "278a707a33e94041a6f4b2a9364fd7ff",
            "6baf9d8ab2a64a4182787526e8b0bda1",
            "3ebf7c393db84423b4480f961ed7333b",
            "1bf2a708f2544d8fbaee59936cf4f684",
            "a399c90df79b4e16bb327ba6ddd008bf",
            "6b550fd366374a62a01110cdb293808a",
            "529af660e5d64a5abe1291b9217787fb",
            "2b764cecfe524cb8b07aeb54025fe4af",
            "095d3051b12447ddbc5e8d51277accf9",
            "8408e1696f404297be8929027ac3fba9",
            "aa12909ef0ff4e13aa73a6c500113c63",
            "5f262d81c11b44499d1f1ffe38f74643",
            "b250dd5ebe7d45a4985138ca86cfa47e",
            "c05b53ff432f4a9494990b7391efa8ef",
            "08dd3809a5124ef5a0afa6de1ac0d2c7"
          ]
        },
        "id": "1c847b7f",
        "outputId": "7f33e304-204c-4b07-97c2-dc08489b81d9"
      },
      "outputs": [
        {
          "output_type": "stream",
          "name": "stderr",
          "text": [
            "/usr/local/lib/python3.11/dist-packages/huggingface_hub/utils/_auth.py:94: UserWarning: \n",
            "The secret `HF_TOKEN` does not exist in your Colab secrets.\n",
            "To authenticate with the Hugging Face Hub, create a token in your settings tab (https://huggingface.co/settings/tokens), set it as secret in your Google Colab and restart your session.\n",
            "You will be able to reuse this secret in all of your notebooks.\n",
            "Please note that authentication is recommended but still optional to access public models or datasets.\n",
            "  warnings.warn(\n"
          ]
        },
        {
          "output_type": "display_data",
          "data": {
            "text/plain": [
              "tokenizer_config.json:   0%|          | 0.00/2.54k [00:00<?, ?B/s]"
            ],
            "application/vnd.jupyter.widget-view+json": {
              "version_major": 2,
              "version_minor": 0,
              "model_id": "8ce7d1b8439f49188b6fa3f53c0aad39"
            }
          },
          "metadata": {}
        },
        {
          "output_type": "stream",
          "name": "stderr",
          "text": [
            "Xet Storage is enabled for this repo, but the 'hf_xet' package is not installed. Falling back to regular HTTP download. For better performance, install the package with: `pip install huggingface_hub[hf_xet]` or `pip install hf_xet`\n",
            "WARNING:huggingface_hub.file_download:Xet Storage is enabled for this repo, but the 'hf_xet' package is not installed. Falling back to regular HTTP download. For better performance, install the package with: `pip install huggingface_hub[hf_xet]` or `pip install hf_xet`\n"
          ]
        },
        {
          "output_type": "display_data",
          "data": {
            "text/plain": [
              "spiece.model:   0%|          | 0.00/792k [00:00<?, ?B/s]"
            ],
            "application/vnd.jupyter.widget-view+json": {
              "version_major": 2,
              "version_minor": 0,
              "model_id": "ec446560fa2e4d9f846ecd90465768db"
            }
          },
          "metadata": {}
        },
        {
          "output_type": "display_data",
          "data": {
            "text/plain": [
              "tokenizer.json:   0%|          | 0.00/2.42M [00:00<?, ?B/s]"
            ],
            "application/vnd.jupyter.widget-view+json": {
              "version_major": 2,
              "version_minor": 0,
              "model_id": "cc349b180605449cbb9a6491f635021f"
            }
          },
          "metadata": {}
        },
        {
          "output_type": "display_data",
          "data": {
            "text/plain": [
              "special_tokens_map.json:   0%|          | 0.00/2.20k [00:00<?, ?B/s]"
            ],
            "application/vnd.jupyter.widget-view+json": {
              "version_major": 2,
              "version_minor": 0,
              "model_id": "a399c90df79b4e16bb327ba6ddd008bf"
            }
          },
          "metadata": {}
        }
      ],
      "source": [
        "\n",
        "# ✅ Autodetecção de CPU ou GPU\n",
        "use_gpu = torch.cuda.is_available()\n",
        "device_id = 0 if use_gpu else -1\n",
        "\n",
        "# ✅ Modelo pequeno e eficiente\n",
        "model_id = \"google/flan-t5-base\"\n",
        "\n",
        "# ✅ Carrega tokenizer uma vez\n",
        "tokenizer = AutoTokenizer.from_pretrained(model_id)\n"
      ]
    },
    {
      "cell_type": "code",
      "execution_count": 6,
      "id": "3fc205fd",
      "metadata": {
        "id": "3fc205fd"
      },
      "outputs": [],
      "source": [
        "\n",
        "# ✅ Função que carrega, gera a documentação e libera o modelo\n",
        "def gerar_documentacao(prompt, max_tokens=512):\n",
        "    \"\"\"\n",
        "    Gera documentação a partir do prompt, carregando e liberando o modelo a cada execução.\n",
        "    \"\"\"\n",
        "    print(\"✅ Carregando modelo...\")\n",
        "    model = AutoModelForSeq2SeqLM.from_pretrained(model_id)\n",
        "\n",
        "    pipe = pipeline(\n",
        "        \"text2text-generation\",\n",
        "        model=model,\n",
        "        tokenizer=tokenizer,\n",
        "        device=device_id,\n",
        "        max_new_tokens=max_tokens\n",
        "    )\n",
        "\n",
        "    print(\"✅ Gerando documentação...\")\n",
        "    output = pipe(prompt)[0]['generated_text']\n",
        "\n",
        "    print(\"✅ Liberando modelo...\")\n",
        "    del model, pipe\n",
        "    gc.collect()\n",
        "    if use_gpu:\n",
        "        torch.cuda.empty_cache()\n",
        "\n",
        "    return output\n",
        "\n"
      ]
    },
    {
      "cell_type": "code",
      "execution_count": 7,
      "id": "7c1a2725",
      "metadata": {
        "id": "7c1a2725"
      },
      "outputs": [],
      "source": [
        "\n",
        "# ✅ Prompt padrão para gerar a documentação técnica\n",
        "prompt_base = '''Sua tarefa é analisar um objeto JSON contendo dados de um agente da API pública do jogo Valorant e gerar uma documentação técnica clara, precisa e adequada para desenvolvedores.\n",
        "\n",
        "---\n",
        "\n",
        "1. **Título:** Nome do agente (campo `displayName`)\n",
        "2. **Descrição geral** explicando o papel e o uso do agente no jogo.\n",
        "3. **Tabela com os principais campos**:\n",
        "   | Campo | Tipo de dado | Descrição |\n",
        "   |-------|--------------|-----------|\n",
        "   Preencha com os campos principais do JSON.\n",
        "4. **Subseções** para objetos aninhados como `role`, `abilities` e outros.\n",
        "5. Use Markdown estruturado (títulos `##`, listas `-` e tabelas).\n",
        "6. Não repita o JSON nem inclua comentários irrelevantes.\n",
        "\n",
        "JSON de entrada:\n",
        "\n",
        "{{json}}\n",
        "\n",
        "Gere a documentação de forma clara, objetiva e técnica.\n",
        "'''\n"
      ]
    },
    {
      "cell_type": "code",
      "execution_count": 33,
      "id": "9ceb72a3",
      "metadata": {
        "colab": {
          "base_uri": "https://localhost:8080/",
          "height": 994
        },
        "id": "9ceb72a3",
        "outputId": "9bed7442-7253-468b-8762-f42c2f456443"
      },
      "outputs": [
        {
          "output_type": "stream",
          "name": "stdout",
          "text": [
            "🔼 Envie os arquivos .json dos agentes (um por arquivo)...\n"
          ]
        },
        {
          "output_type": "display_data",
          "data": {
            "text/plain": [
              "<IPython.core.display.HTML object>"
            ],
            "text/html": [
              "\n",
              "     <input type=\"file\" id=\"files-36393afe-9d76-4868-a79a-f92695004ac1\" name=\"files[]\" multiple disabled\n",
              "        style=\"border:none\" />\n",
              "     <output id=\"result-36393afe-9d76-4868-a79a-f92695004ac1\">\n",
              "      Upload widget is only available when the cell has been executed in the\n",
              "      current browser session. Please rerun this cell to enable.\n",
              "      </output>\n",
              "      <script>// Copyright 2017 Google LLC\n",
              "//\n",
              "// Licensed under the Apache License, Version 2.0 (the \"License\");\n",
              "// you may not use this file except in compliance with the License.\n",
              "// You may obtain a copy of the License at\n",
              "//\n",
              "//      http://www.apache.org/licenses/LICENSE-2.0\n",
              "//\n",
              "// Unless required by applicable law or agreed to in writing, software\n",
              "// distributed under the License is distributed on an \"AS IS\" BASIS,\n",
              "// WITHOUT WARRANTIES OR CONDITIONS OF ANY KIND, either express or implied.\n",
              "// See the License for the specific language governing permissions and\n",
              "// limitations under the License.\n",
              "\n",
              "/**\n",
              " * @fileoverview Helpers for google.colab Python module.\n",
              " */\n",
              "(function(scope) {\n",
              "function span(text, styleAttributes = {}) {\n",
              "  const element = document.createElement('span');\n",
              "  element.textContent = text;\n",
              "  for (const key of Object.keys(styleAttributes)) {\n",
              "    element.style[key] = styleAttributes[key];\n",
              "  }\n",
              "  return element;\n",
              "}\n",
              "\n",
              "// Max number of bytes which will be uploaded at a time.\n",
              "const MAX_PAYLOAD_SIZE = 100 * 1024;\n",
              "\n",
              "function _uploadFiles(inputId, outputId) {\n",
              "  const steps = uploadFilesStep(inputId, outputId);\n",
              "  const outputElement = document.getElementById(outputId);\n",
              "  // Cache steps on the outputElement to make it available for the next call\n",
              "  // to uploadFilesContinue from Python.\n",
              "  outputElement.steps = steps;\n",
              "\n",
              "  return _uploadFilesContinue(outputId);\n",
              "}\n",
              "\n",
              "// This is roughly an async generator (not supported in the browser yet),\n",
              "// where there are multiple asynchronous steps and the Python side is going\n",
              "// to poll for completion of each step.\n",
              "// This uses a Promise to block the python side on completion of each step,\n",
              "// then passes the result of the previous step as the input to the next step.\n",
              "function _uploadFilesContinue(outputId) {\n",
              "  const outputElement = document.getElementById(outputId);\n",
              "  const steps = outputElement.steps;\n",
              "\n",
              "  const next = steps.next(outputElement.lastPromiseValue);\n",
              "  return Promise.resolve(next.value.promise).then((value) => {\n",
              "    // Cache the last promise value to make it available to the next\n",
              "    // step of the generator.\n",
              "    outputElement.lastPromiseValue = value;\n",
              "    return next.value.response;\n",
              "  });\n",
              "}\n",
              "\n",
              "/**\n",
              " * Generator function which is called between each async step of the upload\n",
              " * process.\n",
              " * @param {string} inputId Element ID of the input file picker element.\n",
              " * @param {string} outputId Element ID of the output display.\n",
              " * @return {!Iterable<!Object>} Iterable of next steps.\n",
              " */\n",
              "function* uploadFilesStep(inputId, outputId) {\n",
              "  const inputElement = document.getElementById(inputId);\n",
              "  inputElement.disabled = false;\n",
              "\n",
              "  const outputElement = document.getElementById(outputId);\n",
              "  outputElement.innerHTML = '';\n",
              "\n",
              "  const pickedPromise = new Promise((resolve) => {\n",
              "    inputElement.addEventListener('change', (e) => {\n",
              "      resolve(e.target.files);\n",
              "    });\n",
              "  });\n",
              "\n",
              "  const cancel = document.createElement('button');\n",
              "  inputElement.parentElement.appendChild(cancel);\n",
              "  cancel.textContent = 'Cancel upload';\n",
              "  const cancelPromise = new Promise((resolve) => {\n",
              "    cancel.onclick = () => {\n",
              "      resolve(null);\n",
              "    };\n",
              "  });\n",
              "\n",
              "  // Wait for the user to pick the files.\n",
              "  const files = yield {\n",
              "    promise: Promise.race([pickedPromise, cancelPromise]),\n",
              "    response: {\n",
              "      action: 'starting',\n",
              "    }\n",
              "  };\n",
              "\n",
              "  cancel.remove();\n",
              "\n",
              "  // Disable the input element since further picks are not allowed.\n",
              "  inputElement.disabled = true;\n",
              "\n",
              "  if (!files) {\n",
              "    return {\n",
              "      response: {\n",
              "        action: 'complete',\n",
              "      }\n",
              "    };\n",
              "  }\n",
              "\n",
              "  for (const file of files) {\n",
              "    const li = document.createElement('li');\n",
              "    li.append(span(file.name, {fontWeight: 'bold'}));\n",
              "    li.append(span(\n",
              "        `(${file.type || 'n/a'}) - ${file.size} bytes, ` +\n",
              "        `last modified: ${\n",
              "            file.lastModifiedDate ? file.lastModifiedDate.toLocaleDateString() :\n",
              "                                    'n/a'} - `));\n",
              "    const percent = span('0% done');\n",
              "    li.appendChild(percent);\n",
              "\n",
              "    outputElement.appendChild(li);\n",
              "\n",
              "    const fileDataPromise = new Promise((resolve) => {\n",
              "      const reader = new FileReader();\n",
              "      reader.onload = (e) => {\n",
              "        resolve(e.target.result);\n",
              "      };\n",
              "      reader.readAsArrayBuffer(file);\n",
              "    });\n",
              "    // Wait for the data to be ready.\n",
              "    let fileData = yield {\n",
              "      promise: fileDataPromise,\n",
              "      response: {\n",
              "        action: 'continue',\n",
              "      }\n",
              "    };\n",
              "\n",
              "    // Use a chunked sending to avoid message size limits. See b/62115660.\n",
              "    let position = 0;\n",
              "    do {\n",
              "      const length = Math.min(fileData.byteLength - position, MAX_PAYLOAD_SIZE);\n",
              "      const chunk = new Uint8Array(fileData, position, length);\n",
              "      position += length;\n",
              "\n",
              "      const base64 = btoa(String.fromCharCode.apply(null, chunk));\n",
              "      yield {\n",
              "        response: {\n",
              "          action: 'append',\n",
              "          file: file.name,\n",
              "          data: base64,\n",
              "        },\n",
              "      };\n",
              "\n",
              "      let percentDone = fileData.byteLength === 0 ?\n",
              "          100 :\n",
              "          Math.round((position / fileData.byteLength) * 100);\n",
              "      percent.textContent = `${percentDone}% done`;\n",
              "\n",
              "    } while (position < fileData.byteLength);\n",
              "  }\n",
              "\n",
              "  // All done.\n",
              "  yield {\n",
              "    response: {\n",
              "      action: 'complete',\n",
              "    }\n",
              "  };\n",
              "}\n",
              "\n",
              "scope.google = scope.google || {};\n",
              "scope.google.colab = scope.google.colab || {};\n",
              "scope.google.colab._files = {\n",
              "  _uploadFiles,\n",
              "  _uploadFilesContinue,\n",
              "};\n",
              "})(self);\n",
              "</script> "
            ]
          },
          "metadata": {}
        },
        {
          "output_type": "stream",
          "name": "stdout",
          "text": [
            "Saving astra.json to astra.json\n",
            "Saving breach.json to breach.json\n",
            "Saving brimstone.json to brimstone.json\n",
            "Saving chamber.json to chamber.json\n",
            "Saving clove.json to clove.json\n",
            "Saving cypher.json to cypher.json\n",
            "Saving deadlock.json to deadlock.json\n",
            "Saving fade.json to fade.json\n",
            "Saving gekko.json to gekko.json\n",
            "Saving harbor.json to harbor.json\n",
            "Saving iso.json to iso.json\n",
            "Saving jett.json to jett.json\n",
            "Saving kay_o.json to kay_o.json\n",
            "Saving killjoy.json to killjoy.json\n",
            "Saving neon.json to neon.json\n",
            "Saving omen.json to omen.json\n",
            "Saving phoenix.json to phoenix.json\n",
            "Saving raze.json to raze.json\n",
            "Saving reyna.json to reyna.json\n",
            "Saving sage.json to sage.json\n",
            "Saving skye.json to skye.json\n",
            "Saving sova.json to sova.json\n",
            "Saving tejo.json to tejo.json\n",
            "Saving viper.json to viper.json\n",
            "Saving vyse.json to vyse.json\n",
            "Saving waylay.json to waylay.json\n",
            "Saving yoru.json to yoru.json\n"
          ]
        }
      ],
      "source": [
        "\n",
        "# ✅ Criando diretórios\n",
        "os.makedirs(\"json_valorant\", exist_ok=True)\n",
        "os.makedirs(\"resultados\", exist_ok=True)\n",
        "os.makedirs(\"docx\", exist_ok=True)\n",
        "\n",
        "# ✅ Upload dos arquivos\n",
        "print(\"🔼 Envie os arquivos .json dos agentes (um por arquivo)...\")\n",
        "uploaded = files.upload()\n",
        "\n",
        "# ✅ Movendo arquivos enviados para a pasta\n",
        "for nome in uploaded:\n",
        "    shutil.move(nome, f\"json_valorant/{nome}\")\n"
      ]
    },
    {
      "cell_type": "code",
      "execution_count": 34,
      "id": "5a94b6a3",
      "metadata": {
        "id": "5a94b6a3"
      },
      "outputs": [],
      "source": [
        "\n",
        "# ✅ Função para converter Markdown em estrutura de DOCX\n",
        "def parse_markdown_to_docx(md_text: str, doc: Document):\n",
        "    tabela = None\n",
        "    for linha in md_text.split(\"\\n\"):\n",
        "        linha = linha.strip()\n",
        "        if linha.startswith(\"##\"):\n",
        "            doc.add_heading(linha.replace(\"##\", \"\").strip(), level=2)\n",
        "            tabela = None\n",
        "        elif linha.startswith(\"#\"):\n",
        "            doc.add_heading(linha.replace(\"#\", \"\").strip(), level=3)\n",
        "            tabela = None\n",
        "        elif linha.startswith(\"|\") and \"|\" in linha[1:]:\n",
        "            if \"Campo\" in linha or \"---\" in linha:\n",
        "                continue\n",
        "            valores = [c.strip() for c in linha.split(\"|\") if c.strip()]\n",
        "            if tabela is None:\n",
        "                tabela = doc.add_table(rows=1, cols=len(valores))\n",
        "                tabela.style = 'Table Grid'\n",
        "            row = tabela.add_row()\n",
        "            for i, val in enumerate(valores):\n",
        "                row.cells[i].text = val\n",
        "        elif linha.startswith(\"-\") or linha.startswith(\"*\"):\n",
        "            doc.add_paragraph(linha[1:].strip(), style=\"List Bullet\")\n",
        "        elif linha:\n",
        "            doc.add_paragraph(linha)\n"
      ]
    },
    {
      "cell_type": "code",
      "execution_count": 35,
      "id": "24c0075f",
      "metadata": {
        "id": "24c0075f"
      },
      "outputs": [],
      "source": [
        "# ✅ Função auxiliar para \"achatar\" JSONs aninhados em um único dicionário\n",
        "def flatten_json(y, prefix=''):\n",
        "    out = {}\n",
        "    for k, v in y.items():\n",
        "        if isinstance(v, dict):\n",
        "            out.update(flatten_json(v, prefix + k + '.'))\n",
        "        elif isinstance(v, list):\n",
        "            out[prefix + k] = str(v)\n",
        "        else:\n",
        "            out[prefix + k] = v\n",
        "    return out\n"
      ]
    },
    {
      "cell_type": "code",
      "source": [
        "# ✅ Processamento de cada JSON e geração de tabela com descrição gerada pela IA\n",
        "for filename in os.listdir(\"json_valorant\"):\n",
        "    if not filename.endswith(\".json\"):\n",
        "        continue\n",
        "\n",
        "    with open(f\"json_valorant/{filename}\", \"r\", encoding=\"utf-8\") as f:\n",
        "        data = json.load(f)\n",
        "\n",
        "    prompt = prompt_base.replace(\"{{json}}\", json.dumps(data, indent=2, ensure_ascii=False))\n",
        "\n",
        "    print(f\"📄 Gerando documentação para: {filename}\")\n",
        "    output = gerar_documentacao(prompt, max_tokens=3000)\n",
        "\n",
        "    # ✅ Salvando Markdown (opcional)\n",
        "    md_path = f\"resultados/{filename.replace('.json', '.md')}\"\n",
        "    with open(md_path, \"w\", encoding=\"utf-8\") as f:\n",
        "        f.write(output)\n",
        "\n",
        "    # ✅ Gerando DOCX\n",
        "    doc = Document()\n",
        "    doc.add_heading(f\"Documentação Técnica – {data.get('displayName', filename)}\", level=1)\n",
        "    doc.add_paragraph(\"Projeto: API Valorant\", style=\"Intense Quote\")\n",
        "    doc.add_paragraph(\"Data: \" + datetime.now().strftime(\"%d/%m/%Y\"), style=\"Intense Quote\")\n",
        "    doc.add_paragraph(\"\\n\")\n",
        "\n",
        "    # ✅ Achata o JSON para representar tudo como tabela\n",
        "    flat_data = flatten_json(data)\n",
        "\n",
        "    # ✅ Cria tabela com três colunas: Campo | Valor | Descrição\n",
        "    table = doc.add_table(rows=1, cols=3)\n",
        "    table.style = 'Table Grid'\n",
        "    hdr_cells = table.rows[0].cells\n",
        "    hdr_cells[0].text = 'Campo'\n",
        "    hdr_cells[1].text = 'Valor'\n",
        "    hdr_cells[2].text = 'Descrição'\n",
        "\n",
        "    for k, v in flat_data.items():\n",
        "        row_cells = table.add_row().cells\n",
        "        row_cells[0].text = str(k)\n",
        "        row_cells[1].text = str(v)\n",
        "\n",
        "        # ✅ IA gera automaticamente a descrição do campo\n",
        "        descricao_prompt = f\"Em um objeto JSON que representa um agente do jogo Valorant, o campo '{k}' possui uma função ou significado específico.\\n\"\n",
        "        f\"Descreva de maneira clara e objetiva qual a finalidade desse campo para desenvolvedores de software.\\n\"\n",
        "        f\"Não repita o nome do campo na resposta, apenas explique sua função.\"\n",
        "        print(f\"🧠 Gerando descrição para o campo: {k}\")\n",
        "        descricao = gerar_documentacao(descricao_prompt, max_tokens=200)\n",
        "        row_cells[2].text = descricao\n",
        "\n",
        "    docx_path = f\"docx/{filename.replace('.json', '.docx')}\"\n",
        "    doc.save(docx_path)\n",
        "\n",
        "    print(f\"✅ Documentação gerada para {filename}\")\n"
      ],
      "metadata": {
        "colab": {
          "base_uri": "https://localhost:8080/"
        },
        "id": "XRM9QNlPtMDr",
        "outputId": "37d331f2-28a3-46a6-c880-c090059c4f33"
      },
      "id": "XRM9QNlPtMDr",
      "execution_count": 36,
      "outputs": [
        {
          "output_type": "stream",
          "name": "stdout",
          "text": [
            "📄 Gerando documentação para: jett.json\n",
            "✅ Carregando modelo...\n"
          ]
        },
        {
          "output_type": "stream",
          "name": "stderr",
          "text": [
            "Device set to use cpu\n"
          ]
        },
        {
          "output_type": "stream",
          "name": "stdout",
          "text": [
            "✅ Gerando documentação...\n",
            "✅ Liberando modelo...\n",
            "🧠 Gerando descrição para o campo: uuid\n",
            "✅ Carregando modelo...\n"
          ]
        },
        {
          "output_type": "stream",
          "name": "stderr",
          "text": [
            "Device set to use cpu\n"
          ]
        },
        {
          "output_type": "stream",
          "name": "stdout",
          "text": [
            "✅ Gerando documentação...\n",
            "✅ Liberando modelo...\n",
            "🧠 Gerando descrição para o campo: displayName\n",
            "✅ Carregando modelo...\n"
          ]
        },
        {
          "output_type": "stream",
          "name": "stderr",
          "text": [
            "Device set to use cpu\n"
          ]
        },
        {
          "output_type": "stream",
          "name": "stdout",
          "text": [
            "✅ Gerando documentação...\n",
            "✅ Liberando modelo...\n",
            "🧠 Gerando descrição para o campo: description\n",
            "✅ Carregando modelo...\n"
          ]
        },
        {
          "output_type": "stream",
          "name": "stderr",
          "text": [
            "Device set to use cpu\n"
          ]
        },
        {
          "output_type": "stream",
          "name": "stdout",
          "text": [
            "✅ Gerando documentação...\n",
            "✅ Liberando modelo...\n",
            "🧠 Gerando descrição para o campo: developerName\n",
            "✅ Carregando modelo...\n"
          ]
        },
        {
          "output_type": "stream",
          "name": "stderr",
          "text": [
            "Device set to use cpu\n"
          ]
        },
        {
          "output_type": "stream",
          "name": "stdout",
          "text": [
            "✅ Gerando documentação...\n",
            "✅ Liberando modelo...\n",
            "🧠 Gerando descrição para o campo: releaseDate\n",
            "✅ Carregando modelo...\n"
          ]
        },
        {
          "output_type": "stream",
          "name": "stderr",
          "text": [
            "Device set to use cpu\n"
          ]
        },
        {
          "output_type": "stream",
          "name": "stdout",
          "text": [
            "✅ Gerando documentação...\n",
            "✅ Liberando modelo...\n",
            "🧠 Gerando descrição para o campo: characterTags\n",
            "✅ Carregando modelo...\n"
          ]
        },
        {
          "output_type": "stream",
          "name": "stderr",
          "text": [
            "Device set to use cpu\n"
          ]
        },
        {
          "output_type": "stream",
          "name": "stdout",
          "text": [
            "✅ Gerando documentação...\n",
            "✅ Liberando modelo...\n",
            "🧠 Gerando descrição para o campo: displayIcon\n",
            "✅ Carregando modelo...\n"
          ]
        },
        {
          "output_type": "stream",
          "name": "stderr",
          "text": [
            "Device set to use cpu\n"
          ]
        },
        {
          "output_type": "stream",
          "name": "stdout",
          "text": [
            "✅ Gerando documentação...\n",
            "✅ Liberando modelo...\n",
            "🧠 Gerando descrição para o campo: displayIconSmall\n",
            "✅ Carregando modelo...\n"
          ]
        },
        {
          "output_type": "stream",
          "name": "stderr",
          "text": [
            "Device set to use cpu\n"
          ]
        },
        {
          "output_type": "stream",
          "name": "stdout",
          "text": [
            "✅ Gerando documentação...\n",
            "✅ Liberando modelo...\n",
            "🧠 Gerando descrição para o campo: bustPortrait\n",
            "✅ Carregando modelo...\n"
          ]
        },
        {
          "output_type": "stream",
          "name": "stderr",
          "text": [
            "Device set to use cpu\n"
          ]
        },
        {
          "output_type": "stream",
          "name": "stdout",
          "text": [
            "✅ Gerando documentação...\n",
            "✅ Liberando modelo...\n",
            "🧠 Gerando descrição para o campo: fullPortrait\n",
            "✅ Carregando modelo...\n"
          ]
        },
        {
          "output_type": "stream",
          "name": "stderr",
          "text": [
            "Device set to use cpu\n"
          ]
        },
        {
          "output_type": "stream",
          "name": "stdout",
          "text": [
            "✅ Gerando documentação...\n",
            "✅ Liberando modelo...\n",
            "🧠 Gerando descrição para o campo: fullPortraitV2\n",
            "✅ Carregando modelo...\n"
          ]
        },
        {
          "output_type": "stream",
          "name": "stderr",
          "text": [
            "Device set to use cpu\n"
          ]
        },
        {
          "output_type": "stream",
          "name": "stdout",
          "text": [
            "✅ Gerando documentação...\n",
            "✅ Liberando modelo...\n",
            "🧠 Gerando descrição para o campo: killfeedPortrait\n",
            "✅ Carregando modelo...\n"
          ]
        },
        {
          "output_type": "stream",
          "name": "stderr",
          "text": [
            "Device set to use cpu\n"
          ]
        },
        {
          "output_type": "stream",
          "name": "stdout",
          "text": [
            "✅ Gerando documentação...\n",
            "✅ Liberando modelo...\n",
            "🧠 Gerando descrição para o campo: background\n",
            "✅ Carregando modelo...\n"
          ]
        },
        {
          "output_type": "stream",
          "name": "stderr",
          "text": [
            "Device set to use cpu\n"
          ]
        },
        {
          "output_type": "stream",
          "name": "stdout",
          "text": [
            "✅ Gerando documentação...\n",
            "✅ Liberando modelo...\n",
            "🧠 Gerando descrição para o campo: backgroundGradientColors\n",
            "✅ Carregando modelo...\n"
          ]
        },
        {
          "output_type": "stream",
          "name": "stderr",
          "text": [
            "Device set to use cpu\n"
          ]
        },
        {
          "output_type": "stream",
          "name": "stdout",
          "text": [
            "✅ Gerando documentação...\n",
            "✅ Liberando modelo...\n",
            "🧠 Gerando descrição para o campo: assetPath\n",
            "✅ Carregando modelo...\n"
          ]
        },
        {
          "output_type": "stream",
          "name": "stderr",
          "text": [
            "Device set to use cpu\n"
          ]
        },
        {
          "output_type": "stream",
          "name": "stdout",
          "text": [
            "✅ Gerando documentação...\n",
            "✅ Liberando modelo...\n",
            "🧠 Gerando descrição para o campo: isFullPortraitRightFacing\n",
            "✅ Carregando modelo...\n"
          ]
        },
        {
          "output_type": "stream",
          "name": "stderr",
          "text": [
            "Device set to use cpu\n"
          ]
        },
        {
          "output_type": "stream",
          "name": "stdout",
          "text": [
            "✅ Gerando documentação...\n",
            "✅ Liberando modelo...\n",
            "🧠 Gerando descrição para o campo: isPlayableCharacter\n",
            "✅ Carregando modelo...\n"
          ]
        },
        {
          "output_type": "stream",
          "name": "stderr",
          "text": [
            "Device set to use cpu\n"
          ]
        },
        {
          "output_type": "stream",
          "name": "stdout",
          "text": [
            "✅ Gerando documentação...\n",
            "✅ Liberando modelo...\n",
            "🧠 Gerando descrição para o campo: isAvailableForTest\n",
            "✅ Carregando modelo...\n"
          ]
        },
        {
          "output_type": "stream",
          "name": "stderr",
          "text": [
            "Device set to use cpu\n"
          ]
        },
        {
          "output_type": "stream",
          "name": "stdout",
          "text": [
            "✅ Gerando documentação...\n",
            "✅ Liberando modelo...\n",
            "🧠 Gerando descrição para o campo: isBaseContent\n",
            "✅ Carregando modelo...\n"
          ]
        },
        {
          "output_type": "stream",
          "name": "stderr",
          "text": [
            "Device set to use cpu\n"
          ]
        },
        {
          "output_type": "stream",
          "name": "stdout",
          "text": [
            "✅ Gerando documentação...\n",
            "✅ Liberando modelo...\n",
            "🧠 Gerando descrição para o campo: role.uuid\n",
            "✅ Carregando modelo...\n"
          ]
        },
        {
          "output_type": "stream",
          "name": "stderr",
          "text": [
            "Device set to use cpu\n"
          ]
        },
        {
          "output_type": "stream",
          "name": "stdout",
          "text": [
            "✅ Gerando documentação...\n",
            "✅ Liberando modelo...\n",
            "🧠 Gerando descrição para o campo: role.displayName\n",
            "✅ Carregando modelo...\n"
          ]
        },
        {
          "output_type": "stream",
          "name": "stderr",
          "text": [
            "Device set to use cpu\n"
          ]
        },
        {
          "output_type": "stream",
          "name": "stdout",
          "text": [
            "✅ Gerando documentação...\n",
            "✅ Liberando modelo...\n",
            "🧠 Gerando descrição para o campo: role.description\n",
            "✅ Carregando modelo...\n"
          ]
        },
        {
          "output_type": "stream",
          "name": "stderr",
          "text": [
            "Device set to use cpu\n"
          ]
        },
        {
          "output_type": "stream",
          "name": "stdout",
          "text": [
            "✅ Gerando documentação...\n",
            "✅ Liberando modelo...\n",
            "🧠 Gerando descrição para o campo: role.displayIcon\n",
            "✅ Carregando modelo...\n"
          ]
        },
        {
          "output_type": "stream",
          "name": "stderr",
          "text": [
            "Device set to use cpu\n"
          ]
        },
        {
          "output_type": "stream",
          "name": "stdout",
          "text": [
            "✅ Gerando documentação...\n",
            "✅ Liberando modelo...\n",
            "🧠 Gerando descrição para o campo: role.assetPath\n",
            "✅ Carregando modelo...\n"
          ]
        },
        {
          "output_type": "stream",
          "name": "stderr",
          "text": [
            "Device set to use cpu\n"
          ]
        },
        {
          "output_type": "stream",
          "name": "stdout",
          "text": [
            "✅ Gerando documentação...\n",
            "✅ Liberando modelo...\n",
            "🧠 Gerando descrição para o campo: recruitmentData\n",
            "✅ Carregando modelo...\n"
          ]
        },
        {
          "output_type": "stream",
          "name": "stderr",
          "text": [
            "Device set to use cpu\n"
          ]
        },
        {
          "output_type": "stream",
          "name": "stdout",
          "text": [
            "✅ Gerando documentação...\n",
            "✅ Liberando modelo...\n",
            "🧠 Gerando descrição para o campo: abilities\n",
            "✅ Carregando modelo...\n"
          ]
        },
        {
          "output_type": "stream",
          "name": "stderr",
          "text": [
            "Device set to use cpu\n"
          ]
        },
        {
          "output_type": "stream",
          "name": "stdout",
          "text": [
            "✅ Gerando documentação...\n",
            "✅ Liberando modelo...\n",
            "🧠 Gerando descrição para o campo: voiceLine\n",
            "✅ Carregando modelo...\n"
          ]
        },
        {
          "output_type": "stream",
          "name": "stderr",
          "text": [
            "Device set to use cpu\n"
          ]
        },
        {
          "output_type": "stream",
          "name": "stdout",
          "text": [
            "✅ Gerando documentação...\n",
            "✅ Liberando modelo...\n",
            "✅ Documentação gerada para jett.json\n",
            "📄 Gerando documentação para: chamber.json\n",
            "✅ Carregando modelo...\n"
          ]
        },
        {
          "output_type": "stream",
          "name": "stderr",
          "text": [
            "Device set to use cpu\n"
          ]
        },
        {
          "output_type": "stream",
          "name": "stdout",
          "text": [
            "✅ Gerando documentação...\n",
            "✅ Liberando modelo...\n",
            "🧠 Gerando descrição para o campo: uuid\n",
            "✅ Carregando modelo...\n"
          ]
        },
        {
          "output_type": "stream",
          "name": "stderr",
          "text": [
            "Device set to use cpu\n"
          ]
        },
        {
          "output_type": "stream",
          "name": "stdout",
          "text": [
            "✅ Gerando documentação...\n",
            "✅ Liberando modelo...\n",
            "🧠 Gerando descrição para o campo: displayName\n",
            "✅ Carregando modelo...\n"
          ]
        },
        {
          "output_type": "stream",
          "name": "stderr",
          "text": [
            "Device set to use cpu\n"
          ]
        },
        {
          "output_type": "stream",
          "name": "stdout",
          "text": [
            "✅ Gerando documentação...\n",
            "✅ Liberando modelo...\n",
            "🧠 Gerando descrição para o campo: description\n",
            "✅ Carregando modelo...\n"
          ]
        },
        {
          "output_type": "stream",
          "name": "stderr",
          "text": [
            "Device set to use cpu\n"
          ]
        },
        {
          "output_type": "stream",
          "name": "stdout",
          "text": [
            "✅ Gerando documentação...\n",
            "✅ Liberando modelo...\n",
            "🧠 Gerando descrição para o campo: developerName\n",
            "✅ Carregando modelo...\n"
          ]
        },
        {
          "output_type": "stream",
          "name": "stderr",
          "text": [
            "Device set to use cpu\n"
          ]
        },
        {
          "output_type": "stream",
          "name": "stdout",
          "text": [
            "✅ Gerando documentação...\n",
            "✅ Liberando modelo...\n",
            "🧠 Gerando descrição para o campo: releaseDate\n",
            "✅ Carregando modelo...\n"
          ]
        },
        {
          "output_type": "stream",
          "name": "stderr",
          "text": [
            "Device set to use cpu\n"
          ]
        },
        {
          "output_type": "stream",
          "name": "stdout",
          "text": [
            "✅ Gerando documentação...\n",
            "✅ Liberando modelo...\n",
            "🧠 Gerando descrição para o campo: characterTags\n",
            "✅ Carregando modelo...\n"
          ]
        },
        {
          "output_type": "stream",
          "name": "stderr",
          "text": [
            "Device set to use cpu\n"
          ]
        },
        {
          "output_type": "stream",
          "name": "stdout",
          "text": [
            "✅ Gerando documentação...\n",
            "✅ Liberando modelo...\n",
            "🧠 Gerando descrição para o campo: displayIcon\n",
            "✅ Carregando modelo...\n"
          ]
        },
        {
          "output_type": "stream",
          "name": "stderr",
          "text": [
            "Device set to use cpu\n"
          ]
        },
        {
          "output_type": "stream",
          "name": "stdout",
          "text": [
            "✅ Gerando documentação...\n",
            "✅ Liberando modelo...\n",
            "🧠 Gerando descrição para o campo: displayIconSmall\n",
            "✅ Carregando modelo...\n"
          ]
        },
        {
          "output_type": "stream",
          "name": "stderr",
          "text": [
            "Device set to use cpu\n"
          ]
        },
        {
          "output_type": "stream",
          "name": "stdout",
          "text": [
            "✅ Gerando documentação...\n",
            "✅ Liberando modelo...\n",
            "🧠 Gerando descrição para o campo: bustPortrait\n",
            "✅ Carregando modelo...\n"
          ]
        },
        {
          "output_type": "stream",
          "name": "stderr",
          "text": [
            "Device set to use cpu\n"
          ]
        },
        {
          "output_type": "stream",
          "name": "stdout",
          "text": [
            "✅ Gerando documentação...\n",
            "✅ Liberando modelo...\n",
            "🧠 Gerando descrição para o campo: fullPortrait\n",
            "✅ Carregando modelo...\n"
          ]
        },
        {
          "output_type": "stream",
          "name": "stderr",
          "text": [
            "Device set to use cpu\n"
          ]
        },
        {
          "output_type": "stream",
          "name": "stdout",
          "text": [
            "✅ Gerando documentação...\n",
            "✅ Liberando modelo...\n",
            "🧠 Gerando descrição para o campo: fullPortraitV2\n",
            "✅ Carregando modelo...\n"
          ]
        },
        {
          "output_type": "stream",
          "name": "stderr",
          "text": [
            "Device set to use cpu\n"
          ]
        },
        {
          "output_type": "stream",
          "name": "stdout",
          "text": [
            "✅ Gerando documentação...\n",
            "✅ Liberando modelo...\n",
            "🧠 Gerando descrição para o campo: killfeedPortrait\n",
            "✅ Carregando modelo...\n"
          ]
        },
        {
          "output_type": "stream",
          "name": "stderr",
          "text": [
            "Device set to use cpu\n"
          ]
        },
        {
          "output_type": "stream",
          "name": "stdout",
          "text": [
            "✅ Gerando documentação...\n",
            "✅ Liberando modelo...\n",
            "🧠 Gerando descrição para o campo: background\n",
            "✅ Carregando modelo...\n"
          ]
        },
        {
          "output_type": "stream",
          "name": "stderr",
          "text": [
            "Device set to use cpu\n"
          ]
        },
        {
          "output_type": "stream",
          "name": "stdout",
          "text": [
            "✅ Gerando documentação...\n",
            "✅ Liberando modelo...\n",
            "🧠 Gerando descrição para o campo: backgroundGradientColors\n",
            "✅ Carregando modelo...\n"
          ]
        },
        {
          "output_type": "stream",
          "name": "stderr",
          "text": [
            "Device set to use cpu\n"
          ]
        },
        {
          "output_type": "stream",
          "name": "stdout",
          "text": [
            "✅ Gerando documentação...\n",
            "✅ Liberando modelo...\n",
            "🧠 Gerando descrição para o campo: assetPath\n",
            "✅ Carregando modelo...\n"
          ]
        },
        {
          "output_type": "stream",
          "name": "stderr",
          "text": [
            "Device set to use cpu\n"
          ]
        },
        {
          "output_type": "stream",
          "name": "stdout",
          "text": [
            "✅ Gerando documentação...\n",
            "✅ Liberando modelo...\n",
            "🧠 Gerando descrição para o campo: isFullPortraitRightFacing\n",
            "✅ Carregando modelo...\n"
          ]
        },
        {
          "output_type": "stream",
          "name": "stderr",
          "text": [
            "Device set to use cpu\n"
          ]
        },
        {
          "output_type": "stream",
          "name": "stdout",
          "text": [
            "✅ Gerando documentação...\n",
            "✅ Liberando modelo...\n",
            "🧠 Gerando descrição para o campo: isPlayableCharacter\n",
            "✅ Carregando modelo...\n"
          ]
        },
        {
          "output_type": "stream",
          "name": "stderr",
          "text": [
            "Device set to use cpu\n"
          ]
        },
        {
          "output_type": "stream",
          "name": "stdout",
          "text": [
            "✅ Gerando documentação...\n",
            "✅ Liberando modelo...\n",
            "🧠 Gerando descrição para o campo: isAvailableForTest\n",
            "✅ Carregando modelo...\n"
          ]
        },
        {
          "output_type": "stream",
          "name": "stderr",
          "text": [
            "Device set to use cpu\n"
          ]
        },
        {
          "output_type": "stream",
          "name": "stdout",
          "text": [
            "✅ Gerando documentação...\n",
            "✅ Liberando modelo...\n",
            "🧠 Gerando descrição para o campo: isBaseContent\n",
            "✅ Carregando modelo...\n"
          ]
        },
        {
          "output_type": "stream",
          "name": "stderr",
          "text": [
            "Device set to use cpu\n"
          ]
        },
        {
          "output_type": "stream",
          "name": "stdout",
          "text": [
            "✅ Gerando documentação...\n",
            "✅ Liberando modelo...\n",
            "🧠 Gerando descrição para o campo: role.uuid\n",
            "✅ Carregando modelo...\n"
          ]
        },
        {
          "output_type": "stream",
          "name": "stderr",
          "text": [
            "Device set to use cpu\n"
          ]
        },
        {
          "output_type": "stream",
          "name": "stdout",
          "text": [
            "✅ Gerando documentação...\n",
            "✅ Liberando modelo...\n",
            "🧠 Gerando descrição para o campo: role.displayName\n",
            "✅ Carregando modelo...\n"
          ]
        },
        {
          "output_type": "stream",
          "name": "stderr",
          "text": [
            "Device set to use cpu\n"
          ]
        },
        {
          "output_type": "stream",
          "name": "stdout",
          "text": [
            "✅ Gerando documentação...\n",
            "✅ Liberando modelo...\n",
            "🧠 Gerando descrição para o campo: role.description\n",
            "✅ Carregando modelo...\n"
          ]
        },
        {
          "output_type": "stream",
          "name": "stderr",
          "text": [
            "Device set to use cpu\n"
          ]
        },
        {
          "output_type": "stream",
          "name": "stdout",
          "text": [
            "✅ Gerando documentação...\n",
            "✅ Liberando modelo...\n",
            "🧠 Gerando descrição para o campo: role.displayIcon\n",
            "✅ Carregando modelo...\n"
          ]
        },
        {
          "output_type": "stream",
          "name": "stderr",
          "text": [
            "Device set to use cpu\n"
          ]
        },
        {
          "output_type": "stream",
          "name": "stdout",
          "text": [
            "✅ Gerando documentação...\n",
            "✅ Liberando modelo...\n",
            "🧠 Gerando descrição para o campo: role.assetPath\n",
            "✅ Carregando modelo...\n"
          ]
        },
        {
          "output_type": "stream",
          "name": "stderr",
          "text": [
            "Device set to use cpu\n"
          ]
        },
        {
          "output_type": "stream",
          "name": "stdout",
          "text": [
            "✅ Gerando documentação...\n",
            "✅ Liberando modelo...\n",
            "🧠 Gerando descrição para o campo: recruitmentData\n",
            "✅ Carregando modelo...\n"
          ]
        },
        {
          "output_type": "stream",
          "name": "stderr",
          "text": [
            "Device set to use cpu\n"
          ]
        },
        {
          "output_type": "stream",
          "name": "stdout",
          "text": [
            "✅ Gerando documentação...\n",
            "✅ Liberando modelo...\n",
            "🧠 Gerando descrição para o campo: abilities\n",
            "✅ Carregando modelo...\n"
          ]
        },
        {
          "output_type": "stream",
          "name": "stderr",
          "text": [
            "Device set to use cpu\n"
          ]
        },
        {
          "output_type": "stream",
          "name": "stdout",
          "text": [
            "✅ Gerando documentação...\n",
            "✅ Liberando modelo...\n",
            "🧠 Gerando descrição para o campo: voiceLine\n",
            "✅ Carregando modelo...\n"
          ]
        },
        {
          "output_type": "stream",
          "name": "stderr",
          "text": [
            "Device set to use cpu\n"
          ]
        },
        {
          "output_type": "stream",
          "name": "stdout",
          "text": [
            "✅ Gerando documentação...\n",
            "✅ Liberando modelo...\n",
            "✅ Documentação gerada para chamber.json\n",
            "📄 Gerando documentação para: breach.json\n",
            "✅ Carregando modelo...\n"
          ]
        },
        {
          "output_type": "stream",
          "name": "stderr",
          "text": [
            "Device set to use cpu\n"
          ]
        },
        {
          "output_type": "stream",
          "name": "stdout",
          "text": [
            "✅ Gerando documentação...\n",
            "✅ Liberando modelo...\n",
            "🧠 Gerando descrição para o campo: uuid\n",
            "✅ Carregando modelo...\n"
          ]
        },
        {
          "output_type": "stream",
          "name": "stderr",
          "text": [
            "Device set to use cpu\n"
          ]
        },
        {
          "output_type": "stream",
          "name": "stdout",
          "text": [
            "✅ Gerando documentação...\n",
            "✅ Liberando modelo...\n",
            "🧠 Gerando descrição para o campo: displayName\n",
            "✅ Carregando modelo...\n"
          ]
        },
        {
          "output_type": "stream",
          "name": "stderr",
          "text": [
            "Device set to use cpu\n"
          ]
        },
        {
          "output_type": "stream",
          "name": "stdout",
          "text": [
            "✅ Gerando documentação...\n",
            "✅ Liberando modelo...\n",
            "🧠 Gerando descrição para o campo: description\n",
            "✅ Carregando modelo...\n"
          ]
        },
        {
          "output_type": "stream",
          "name": "stderr",
          "text": [
            "Device set to use cpu\n"
          ]
        },
        {
          "output_type": "stream",
          "name": "stdout",
          "text": [
            "✅ Gerando documentação...\n",
            "✅ Liberando modelo...\n",
            "🧠 Gerando descrição para o campo: developerName\n",
            "✅ Carregando modelo...\n"
          ]
        },
        {
          "output_type": "stream",
          "name": "stderr",
          "text": [
            "Device set to use cpu\n"
          ]
        },
        {
          "output_type": "stream",
          "name": "stdout",
          "text": [
            "✅ Gerando documentação...\n",
            "✅ Liberando modelo...\n",
            "🧠 Gerando descrição para o campo: releaseDate\n",
            "✅ Carregando modelo...\n"
          ]
        },
        {
          "output_type": "stream",
          "name": "stderr",
          "text": [
            "Device set to use cpu\n"
          ]
        },
        {
          "output_type": "stream",
          "name": "stdout",
          "text": [
            "✅ Gerando documentação...\n",
            "✅ Liberando modelo...\n",
            "🧠 Gerando descrição para o campo: characterTags\n",
            "✅ Carregando modelo...\n"
          ]
        },
        {
          "output_type": "stream",
          "name": "stderr",
          "text": [
            "Device set to use cpu\n"
          ]
        },
        {
          "output_type": "stream",
          "name": "stdout",
          "text": [
            "✅ Gerando documentação...\n",
            "✅ Liberando modelo...\n",
            "🧠 Gerando descrição para o campo: displayIcon\n",
            "✅ Carregando modelo...\n"
          ]
        },
        {
          "output_type": "stream",
          "name": "stderr",
          "text": [
            "Device set to use cpu\n"
          ]
        },
        {
          "output_type": "stream",
          "name": "stdout",
          "text": [
            "✅ Gerando documentação...\n",
            "✅ Liberando modelo...\n",
            "🧠 Gerando descrição para o campo: displayIconSmall\n",
            "✅ Carregando modelo...\n"
          ]
        },
        {
          "output_type": "stream",
          "name": "stderr",
          "text": [
            "Device set to use cpu\n"
          ]
        },
        {
          "output_type": "stream",
          "name": "stdout",
          "text": [
            "✅ Gerando documentação...\n",
            "✅ Liberando modelo...\n",
            "🧠 Gerando descrição para o campo: bustPortrait\n",
            "✅ Carregando modelo...\n"
          ]
        },
        {
          "output_type": "stream",
          "name": "stderr",
          "text": [
            "Device set to use cpu\n"
          ]
        },
        {
          "output_type": "stream",
          "name": "stdout",
          "text": [
            "✅ Gerando documentação...\n",
            "✅ Liberando modelo...\n",
            "🧠 Gerando descrição para o campo: fullPortrait\n",
            "✅ Carregando modelo...\n"
          ]
        },
        {
          "output_type": "stream",
          "name": "stderr",
          "text": [
            "Device set to use cpu\n"
          ]
        },
        {
          "output_type": "stream",
          "name": "stdout",
          "text": [
            "✅ Gerando documentação...\n",
            "✅ Liberando modelo...\n",
            "🧠 Gerando descrição para o campo: fullPortraitV2\n",
            "✅ Carregando modelo...\n"
          ]
        },
        {
          "output_type": "stream",
          "name": "stderr",
          "text": [
            "Device set to use cpu\n"
          ]
        },
        {
          "output_type": "stream",
          "name": "stdout",
          "text": [
            "✅ Gerando documentação...\n",
            "✅ Liberando modelo...\n",
            "🧠 Gerando descrição para o campo: killfeedPortrait\n",
            "✅ Carregando modelo...\n"
          ]
        },
        {
          "output_type": "stream",
          "name": "stderr",
          "text": [
            "Device set to use cpu\n"
          ]
        },
        {
          "output_type": "stream",
          "name": "stdout",
          "text": [
            "✅ Gerando documentação...\n",
            "✅ Liberando modelo...\n",
            "🧠 Gerando descrição para o campo: background\n",
            "✅ Carregando modelo...\n"
          ]
        },
        {
          "output_type": "stream",
          "name": "stderr",
          "text": [
            "Device set to use cpu\n"
          ]
        },
        {
          "output_type": "stream",
          "name": "stdout",
          "text": [
            "✅ Gerando documentação...\n",
            "✅ Liberando modelo...\n",
            "🧠 Gerando descrição para o campo: backgroundGradientColors\n",
            "✅ Carregando modelo...\n"
          ]
        },
        {
          "output_type": "stream",
          "name": "stderr",
          "text": [
            "Device set to use cpu\n"
          ]
        },
        {
          "output_type": "stream",
          "name": "stdout",
          "text": [
            "✅ Gerando documentação...\n",
            "✅ Liberando modelo...\n",
            "🧠 Gerando descrição para o campo: assetPath\n",
            "✅ Carregando modelo...\n"
          ]
        },
        {
          "output_type": "stream",
          "name": "stderr",
          "text": [
            "Device set to use cpu\n"
          ]
        },
        {
          "output_type": "stream",
          "name": "stdout",
          "text": [
            "✅ Gerando documentação...\n",
            "✅ Liberando modelo...\n",
            "🧠 Gerando descrição para o campo: isFullPortraitRightFacing\n",
            "✅ Carregando modelo...\n"
          ]
        },
        {
          "output_type": "stream",
          "name": "stderr",
          "text": [
            "Device set to use cpu\n"
          ]
        },
        {
          "output_type": "stream",
          "name": "stdout",
          "text": [
            "✅ Gerando documentação...\n",
            "✅ Liberando modelo...\n",
            "🧠 Gerando descrição para o campo: isPlayableCharacter\n",
            "✅ Carregando modelo...\n"
          ]
        },
        {
          "output_type": "stream",
          "name": "stderr",
          "text": [
            "Device set to use cpu\n"
          ]
        },
        {
          "output_type": "stream",
          "name": "stdout",
          "text": [
            "✅ Gerando documentação...\n",
            "✅ Liberando modelo...\n",
            "🧠 Gerando descrição para o campo: isAvailableForTest\n",
            "✅ Carregando modelo...\n"
          ]
        },
        {
          "output_type": "stream",
          "name": "stderr",
          "text": [
            "Device set to use cpu\n"
          ]
        },
        {
          "output_type": "stream",
          "name": "stdout",
          "text": [
            "✅ Gerando documentação...\n",
            "✅ Liberando modelo...\n",
            "🧠 Gerando descrição para o campo: isBaseContent\n",
            "✅ Carregando modelo...\n"
          ]
        },
        {
          "output_type": "stream",
          "name": "stderr",
          "text": [
            "Device set to use cpu\n"
          ]
        },
        {
          "output_type": "stream",
          "name": "stdout",
          "text": [
            "✅ Gerando documentação...\n",
            "✅ Liberando modelo...\n",
            "🧠 Gerando descrição para o campo: role.uuid\n",
            "✅ Carregando modelo...\n"
          ]
        },
        {
          "output_type": "stream",
          "name": "stderr",
          "text": [
            "Device set to use cpu\n"
          ]
        },
        {
          "output_type": "stream",
          "name": "stdout",
          "text": [
            "✅ Gerando documentação...\n",
            "✅ Liberando modelo...\n",
            "🧠 Gerando descrição para o campo: role.displayName\n",
            "✅ Carregando modelo...\n"
          ]
        },
        {
          "output_type": "stream",
          "name": "stderr",
          "text": [
            "Device set to use cpu\n"
          ]
        },
        {
          "output_type": "stream",
          "name": "stdout",
          "text": [
            "✅ Gerando documentação...\n",
            "✅ Liberando modelo...\n",
            "🧠 Gerando descrição para o campo: role.description\n",
            "✅ Carregando modelo...\n"
          ]
        },
        {
          "output_type": "stream",
          "name": "stderr",
          "text": [
            "Device set to use cpu\n"
          ]
        },
        {
          "output_type": "stream",
          "name": "stdout",
          "text": [
            "✅ Gerando documentação...\n",
            "✅ Liberando modelo...\n",
            "🧠 Gerando descrição para o campo: role.displayIcon\n",
            "✅ Carregando modelo...\n"
          ]
        },
        {
          "output_type": "stream",
          "name": "stderr",
          "text": [
            "Device set to use cpu\n"
          ]
        },
        {
          "output_type": "stream",
          "name": "stdout",
          "text": [
            "✅ Gerando documentação...\n",
            "✅ Liberando modelo...\n",
            "🧠 Gerando descrição para o campo: role.assetPath\n",
            "✅ Carregando modelo...\n"
          ]
        },
        {
          "output_type": "stream",
          "name": "stderr",
          "text": [
            "Device set to use cpu\n"
          ]
        },
        {
          "output_type": "stream",
          "name": "stdout",
          "text": [
            "✅ Gerando documentação...\n",
            "✅ Liberando modelo...\n",
            "🧠 Gerando descrição para o campo: recruitmentData\n",
            "✅ Carregando modelo...\n"
          ]
        },
        {
          "output_type": "stream",
          "name": "stderr",
          "text": [
            "Device set to use cpu\n"
          ]
        },
        {
          "output_type": "stream",
          "name": "stdout",
          "text": [
            "✅ Gerando documentação...\n",
            "✅ Liberando modelo...\n",
            "🧠 Gerando descrição para o campo: abilities\n",
            "✅ Carregando modelo...\n"
          ]
        },
        {
          "output_type": "stream",
          "name": "stderr",
          "text": [
            "Device set to use cpu\n"
          ]
        },
        {
          "output_type": "stream",
          "name": "stdout",
          "text": [
            "✅ Gerando documentação...\n",
            "✅ Liberando modelo...\n",
            "🧠 Gerando descrição para o campo: voiceLine\n",
            "✅ Carregando modelo...\n"
          ]
        },
        {
          "output_type": "stream",
          "name": "stderr",
          "text": [
            "Device set to use cpu\n"
          ]
        },
        {
          "output_type": "stream",
          "name": "stdout",
          "text": [
            "✅ Gerando documentação...\n",
            "✅ Liberando modelo...\n",
            "✅ Documentação gerada para breach.json\n",
            "📄 Gerando documentação para: skye.json\n",
            "✅ Carregando modelo...\n"
          ]
        },
        {
          "output_type": "stream",
          "name": "stderr",
          "text": [
            "Device set to use cpu\n"
          ]
        },
        {
          "output_type": "stream",
          "name": "stdout",
          "text": [
            "✅ Gerando documentação...\n",
            "✅ Liberando modelo...\n",
            "🧠 Gerando descrição para o campo: uuid\n",
            "✅ Carregando modelo...\n"
          ]
        },
        {
          "output_type": "stream",
          "name": "stderr",
          "text": [
            "Device set to use cpu\n"
          ]
        },
        {
          "output_type": "stream",
          "name": "stdout",
          "text": [
            "✅ Gerando documentação...\n",
            "✅ Liberando modelo...\n",
            "🧠 Gerando descrição para o campo: displayName\n",
            "✅ Carregando modelo...\n"
          ]
        },
        {
          "output_type": "stream",
          "name": "stderr",
          "text": [
            "Device set to use cpu\n"
          ]
        },
        {
          "output_type": "stream",
          "name": "stdout",
          "text": [
            "✅ Gerando documentação...\n",
            "✅ Liberando modelo...\n",
            "🧠 Gerando descrição para o campo: description\n",
            "✅ Carregando modelo...\n"
          ]
        },
        {
          "output_type": "stream",
          "name": "stderr",
          "text": [
            "Device set to use cpu\n"
          ]
        },
        {
          "output_type": "stream",
          "name": "stdout",
          "text": [
            "✅ Gerando documentação...\n",
            "✅ Liberando modelo...\n",
            "🧠 Gerando descrição para o campo: developerName\n",
            "✅ Carregando modelo...\n"
          ]
        },
        {
          "output_type": "stream",
          "name": "stderr",
          "text": [
            "Device set to use cpu\n"
          ]
        },
        {
          "output_type": "stream",
          "name": "stdout",
          "text": [
            "✅ Gerando documentação...\n",
            "✅ Liberando modelo...\n",
            "🧠 Gerando descrição para o campo: releaseDate\n",
            "✅ Carregando modelo...\n"
          ]
        },
        {
          "output_type": "stream",
          "name": "stderr",
          "text": [
            "Device set to use cpu\n"
          ]
        },
        {
          "output_type": "stream",
          "name": "stdout",
          "text": [
            "✅ Gerando documentação...\n",
            "✅ Liberando modelo...\n",
            "🧠 Gerando descrição para o campo: characterTags\n",
            "✅ Carregando modelo...\n"
          ]
        },
        {
          "output_type": "stream",
          "name": "stderr",
          "text": [
            "Device set to use cpu\n"
          ]
        },
        {
          "output_type": "stream",
          "name": "stdout",
          "text": [
            "✅ Gerando documentação...\n",
            "✅ Liberando modelo...\n",
            "🧠 Gerando descrição para o campo: displayIcon\n",
            "✅ Carregando modelo...\n"
          ]
        },
        {
          "output_type": "stream",
          "name": "stderr",
          "text": [
            "Device set to use cpu\n"
          ]
        },
        {
          "output_type": "stream",
          "name": "stdout",
          "text": [
            "✅ Gerando documentação...\n",
            "✅ Liberando modelo...\n",
            "🧠 Gerando descrição para o campo: displayIconSmall\n",
            "✅ Carregando modelo...\n"
          ]
        },
        {
          "output_type": "stream",
          "name": "stderr",
          "text": [
            "Device set to use cpu\n"
          ]
        },
        {
          "output_type": "stream",
          "name": "stdout",
          "text": [
            "✅ Gerando documentação...\n",
            "✅ Liberando modelo...\n",
            "🧠 Gerando descrição para o campo: bustPortrait\n",
            "✅ Carregando modelo...\n"
          ]
        },
        {
          "output_type": "stream",
          "name": "stderr",
          "text": [
            "Device set to use cpu\n"
          ]
        },
        {
          "output_type": "stream",
          "name": "stdout",
          "text": [
            "✅ Gerando documentação...\n",
            "✅ Liberando modelo...\n",
            "🧠 Gerando descrição para o campo: fullPortrait\n",
            "✅ Carregando modelo...\n"
          ]
        },
        {
          "output_type": "stream",
          "name": "stderr",
          "text": [
            "Device set to use cpu\n"
          ]
        },
        {
          "output_type": "stream",
          "name": "stdout",
          "text": [
            "✅ Gerando documentação...\n",
            "✅ Liberando modelo...\n",
            "🧠 Gerando descrição para o campo: fullPortraitV2\n",
            "✅ Carregando modelo...\n"
          ]
        },
        {
          "output_type": "stream",
          "name": "stderr",
          "text": [
            "Device set to use cpu\n"
          ]
        },
        {
          "output_type": "stream",
          "name": "stdout",
          "text": [
            "✅ Gerando documentação...\n",
            "✅ Liberando modelo...\n",
            "🧠 Gerando descrição para o campo: killfeedPortrait\n",
            "✅ Carregando modelo...\n"
          ]
        },
        {
          "output_type": "stream",
          "name": "stderr",
          "text": [
            "Device set to use cpu\n"
          ]
        },
        {
          "output_type": "stream",
          "name": "stdout",
          "text": [
            "✅ Gerando documentação...\n",
            "✅ Liberando modelo...\n",
            "🧠 Gerando descrição para o campo: background\n",
            "✅ Carregando modelo...\n"
          ]
        },
        {
          "output_type": "stream",
          "name": "stderr",
          "text": [
            "Device set to use cpu\n"
          ]
        },
        {
          "output_type": "stream",
          "name": "stdout",
          "text": [
            "✅ Gerando documentação...\n",
            "✅ Liberando modelo...\n",
            "🧠 Gerando descrição para o campo: backgroundGradientColors\n",
            "✅ Carregando modelo...\n"
          ]
        },
        {
          "output_type": "stream",
          "name": "stderr",
          "text": [
            "Device set to use cpu\n"
          ]
        },
        {
          "output_type": "stream",
          "name": "stdout",
          "text": [
            "✅ Gerando documentação...\n",
            "✅ Liberando modelo...\n",
            "🧠 Gerando descrição para o campo: assetPath\n",
            "✅ Carregando modelo...\n"
          ]
        },
        {
          "output_type": "stream",
          "name": "stderr",
          "text": [
            "Device set to use cpu\n"
          ]
        },
        {
          "output_type": "stream",
          "name": "stdout",
          "text": [
            "✅ Gerando documentação...\n",
            "✅ Liberando modelo...\n",
            "🧠 Gerando descrição para o campo: isFullPortraitRightFacing\n",
            "✅ Carregando modelo...\n"
          ]
        },
        {
          "output_type": "stream",
          "name": "stderr",
          "text": [
            "Device set to use cpu\n"
          ]
        },
        {
          "output_type": "stream",
          "name": "stdout",
          "text": [
            "✅ Gerando documentação...\n",
            "✅ Liberando modelo...\n",
            "🧠 Gerando descrição para o campo: isPlayableCharacter\n",
            "✅ Carregando modelo...\n"
          ]
        },
        {
          "output_type": "stream",
          "name": "stderr",
          "text": [
            "Device set to use cpu\n"
          ]
        },
        {
          "output_type": "stream",
          "name": "stdout",
          "text": [
            "✅ Gerando documentação...\n",
            "✅ Liberando modelo...\n",
            "🧠 Gerando descrição para o campo: isAvailableForTest\n",
            "✅ Carregando modelo...\n"
          ]
        },
        {
          "output_type": "stream",
          "name": "stderr",
          "text": [
            "Device set to use cpu\n"
          ]
        },
        {
          "output_type": "stream",
          "name": "stdout",
          "text": [
            "✅ Gerando documentação...\n",
            "✅ Liberando modelo...\n",
            "🧠 Gerando descrição para o campo: isBaseContent\n",
            "✅ Carregando modelo...\n"
          ]
        },
        {
          "output_type": "stream",
          "name": "stderr",
          "text": [
            "Device set to use cpu\n"
          ]
        },
        {
          "output_type": "stream",
          "name": "stdout",
          "text": [
            "✅ Gerando documentação...\n",
            "✅ Liberando modelo...\n",
            "🧠 Gerando descrição para o campo: role.uuid\n",
            "✅ Carregando modelo...\n"
          ]
        },
        {
          "output_type": "stream",
          "name": "stderr",
          "text": [
            "Device set to use cpu\n"
          ]
        },
        {
          "output_type": "stream",
          "name": "stdout",
          "text": [
            "✅ Gerando documentação...\n",
            "✅ Liberando modelo...\n",
            "🧠 Gerando descrição para o campo: role.displayName\n",
            "✅ Carregando modelo...\n"
          ]
        },
        {
          "output_type": "stream",
          "name": "stderr",
          "text": [
            "Device set to use cpu\n"
          ]
        },
        {
          "output_type": "stream",
          "name": "stdout",
          "text": [
            "✅ Gerando documentação...\n",
            "✅ Liberando modelo...\n",
            "🧠 Gerando descrição para o campo: role.description\n",
            "✅ Carregando modelo...\n"
          ]
        },
        {
          "output_type": "stream",
          "name": "stderr",
          "text": [
            "Device set to use cpu\n"
          ]
        },
        {
          "output_type": "stream",
          "name": "stdout",
          "text": [
            "✅ Gerando documentação...\n",
            "✅ Liberando modelo...\n",
            "🧠 Gerando descrição para o campo: role.displayIcon\n",
            "✅ Carregando modelo...\n"
          ]
        },
        {
          "output_type": "stream",
          "name": "stderr",
          "text": [
            "Device set to use cpu\n"
          ]
        },
        {
          "output_type": "stream",
          "name": "stdout",
          "text": [
            "✅ Gerando documentação...\n",
            "✅ Liberando modelo...\n",
            "🧠 Gerando descrição para o campo: role.assetPath\n",
            "✅ Carregando modelo...\n"
          ]
        },
        {
          "output_type": "stream",
          "name": "stderr",
          "text": [
            "Device set to use cpu\n"
          ]
        },
        {
          "output_type": "stream",
          "name": "stdout",
          "text": [
            "✅ Gerando documentação...\n",
            "✅ Liberando modelo...\n",
            "🧠 Gerando descrição para o campo: recruitmentData\n",
            "✅ Carregando modelo...\n"
          ]
        },
        {
          "output_type": "stream",
          "name": "stderr",
          "text": [
            "Device set to use cpu\n"
          ]
        },
        {
          "output_type": "stream",
          "name": "stdout",
          "text": [
            "✅ Gerando documentação...\n",
            "✅ Liberando modelo...\n",
            "🧠 Gerando descrição para o campo: abilities\n",
            "✅ Carregando modelo...\n"
          ]
        },
        {
          "output_type": "stream",
          "name": "stderr",
          "text": [
            "Device set to use cpu\n"
          ]
        },
        {
          "output_type": "stream",
          "name": "stdout",
          "text": [
            "✅ Gerando documentação...\n",
            "✅ Liberando modelo...\n",
            "🧠 Gerando descrição para o campo: voiceLine\n",
            "✅ Carregando modelo...\n"
          ]
        },
        {
          "output_type": "stream",
          "name": "stderr",
          "text": [
            "Device set to use cpu\n"
          ]
        },
        {
          "output_type": "stream",
          "name": "stdout",
          "text": [
            "✅ Gerando documentação...\n",
            "✅ Liberando modelo...\n",
            "✅ Documentação gerada para skye.json\n",
            "📄 Gerando documentação para: brimstone.json\n",
            "✅ Carregando modelo...\n"
          ]
        },
        {
          "output_type": "stream",
          "name": "stderr",
          "text": [
            "Device set to use cpu\n"
          ]
        },
        {
          "output_type": "stream",
          "name": "stdout",
          "text": [
            "✅ Gerando documentação...\n",
            "✅ Liberando modelo...\n",
            "🧠 Gerando descrição para o campo: uuid\n",
            "✅ Carregando modelo...\n"
          ]
        },
        {
          "output_type": "stream",
          "name": "stderr",
          "text": [
            "Device set to use cpu\n"
          ]
        },
        {
          "output_type": "stream",
          "name": "stdout",
          "text": [
            "✅ Gerando documentação...\n",
            "✅ Liberando modelo...\n",
            "🧠 Gerando descrição para o campo: displayName\n",
            "✅ Carregando modelo...\n"
          ]
        },
        {
          "output_type": "stream",
          "name": "stderr",
          "text": [
            "Device set to use cpu\n"
          ]
        },
        {
          "output_type": "stream",
          "name": "stdout",
          "text": [
            "✅ Gerando documentação...\n",
            "✅ Liberando modelo...\n",
            "🧠 Gerando descrição para o campo: description\n",
            "✅ Carregando modelo...\n"
          ]
        },
        {
          "output_type": "stream",
          "name": "stderr",
          "text": [
            "Device set to use cpu\n"
          ]
        },
        {
          "output_type": "stream",
          "name": "stdout",
          "text": [
            "✅ Gerando documentação...\n",
            "✅ Liberando modelo...\n",
            "🧠 Gerando descrição para o campo: developerName\n",
            "✅ Carregando modelo...\n"
          ]
        },
        {
          "output_type": "stream",
          "name": "stderr",
          "text": [
            "Device set to use cpu\n"
          ]
        },
        {
          "output_type": "stream",
          "name": "stdout",
          "text": [
            "✅ Gerando documentação...\n",
            "✅ Liberando modelo...\n",
            "🧠 Gerando descrição para o campo: releaseDate\n",
            "✅ Carregando modelo...\n"
          ]
        },
        {
          "output_type": "stream",
          "name": "stderr",
          "text": [
            "Device set to use cpu\n"
          ]
        },
        {
          "output_type": "stream",
          "name": "stdout",
          "text": [
            "✅ Gerando documentação...\n",
            "✅ Liberando modelo...\n",
            "🧠 Gerando descrição para o campo: characterTags\n",
            "✅ Carregando modelo...\n"
          ]
        },
        {
          "output_type": "stream",
          "name": "stderr",
          "text": [
            "Device set to use cpu\n"
          ]
        },
        {
          "output_type": "stream",
          "name": "stdout",
          "text": [
            "✅ Gerando documentação...\n",
            "✅ Liberando modelo...\n",
            "🧠 Gerando descrição para o campo: displayIcon\n",
            "✅ Carregando modelo...\n"
          ]
        },
        {
          "output_type": "stream",
          "name": "stderr",
          "text": [
            "Device set to use cpu\n"
          ]
        },
        {
          "output_type": "stream",
          "name": "stdout",
          "text": [
            "✅ Gerando documentação...\n",
            "✅ Liberando modelo...\n",
            "🧠 Gerando descrição para o campo: displayIconSmall\n",
            "✅ Carregando modelo...\n"
          ]
        },
        {
          "output_type": "stream",
          "name": "stderr",
          "text": [
            "Device set to use cpu\n"
          ]
        },
        {
          "output_type": "stream",
          "name": "stdout",
          "text": [
            "✅ Gerando documentação...\n",
            "✅ Liberando modelo...\n",
            "🧠 Gerando descrição para o campo: bustPortrait\n",
            "✅ Carregando modelo...\n"
          ]
        },
        {
          "output_type": "stream",
          "name": "stderr",
          "text": [
            "Device set to use cpu\n"
          ]
        },
        {
          "output_type": "stream",
          "name": "stdout",
          "text": [
            "✅ Gerando documentação...\n",
            "✅ Liberando modelo...\n",
            "🧠 Gerando descrição para o campo: fullPortrait\n",
            "✅ Carregando modelo...\n"
          ]
        },
        {
          "output_type": "stream",
          "name": "stderr",
          "text": [
            "Device set to use cpu\n"
          ]
        },
        {
          "output_type": "stream",
          "name": "stdout",
          "text": [
            "✅ Gerando documentação...\n",
            "✅ Liberando modelo...\n",
            "🧠 Gerando descrição para o campo: fullPortraitV2\n",
            "✅ Carregando modelo...\n"
          ]
        },
        {
          "output_type": "stream",
          "name": "stderr",
          "text": [
            "Device set to use cpu\n"
          ]
        },
        {
          "output_type": "stream",
          "name": "stdout",
          "text": [
            "✅ Gerando documentação...\n",
            "✅ Liberando modelo...\n",
            "🧠 Gerando descrição para o campo: killfeedPortrait\n",
            "✅ Carregando modelo...\n"
          ]
        },
        {
          "output_type": "stream",
          "name": "stderr",
          "text": [
            "Device set to use cpu\n"
          ]
        },
        {
          "output_type": "stream",
          "name": "stdout",
          "text": [
            "✅ Gerando documentação...\n",
            "✅ Liberando modelo...\n",
            "🧠 Gerando descrição para o campo: background\n",
            "✅ Carregando modelo...\n"
          ]
        },
        {
          "output_type": "stream",
          "name": "stderr",
          "text": [
            "Device set to use cpu\n"
          ]
        },
        {
          "output_type": "stream",
          "name": "stdout",
          "text": [
            "✅ Gerando documentação...\n",
            "✅ Liberando modelo...\n",
            "🧠 Gerando descrição para o campo: backgroundGradientColors\n",
            "✅ Carregando modelo...\n"
          ]
        },
        {
          "output_type": "stream",
          "name": "stderr",
          "text": [
            "Device set to use cpu\n"
          ]
        },
        {
          "output_type": "stream",
          "name": "stdout",
          "text": [
            "✅ Gerando documentação...\n",
            "✅ Liberando modelo...\n",
            "🧠 Gerando descrição para o campo: assetPath\n",
            "✅ Carregando modelo...\n"
          ]
        },
        {
          "output_type": "stream",
          "name": "stderr",
          "text": [
            "Device set to use cpu\n"
          ]
        },
        {
          "output_type": "stream",
          "name": "stdout",
          "text": [
            "✅ Gerando documentação...\n",
            "✅ Liberando modelo...\n",
            "🧠 Gerando descrição para o campo: isFullPortraitRightFacing\n",
            "✅ Carregando modelo...\n"
          ]
        },
        {
          "output_type": "stream",
          "name": "stderr",
          "text": [
            "Device set to use cpu\n"
          ]
        },
        {
          "output_type": "stream",
          "name": "stdout",
          "text": [
            "✅ Gerando documentação...\n",
            "✅ Liberando modelo...\n",
            "🧠 Gerando descrição para o campo: isPlayableCharacter\n",
            "✅ Carregando modelo...\n"
          ]
        },
        {
          "output_type": "stream",
          "name": "stderr",
          "text": [
            "Device set to use cpu\n"
          ]
        },
        {
          "output_type": "stream",
          "name": "stdout",
          "text": [
            "✅ Gerando documentação...\n",
            "✅ Liberando modelo...\n",
            "🧠 Gerando descrição para o campo: isAvailableForTest\n",
            "✅ Carregando modelo...\n"
          ]
        },
        {
          "output_type": "stream",
          "name": "stderr",
          "text": [
            "Device set to use cpu\n"
          ]
        },
        {
          "output_type": "stream",
          "name": "stdout",
          "text": [
            "✅ Gerando documentação...\n",
            "✅ Liberando modelo...\n",
            "🧠 Gerando descrição para o campo: isBaseContent\n",
            "✅ Carregando modelo...\n"
          ]
        },
        {
          "output_type": "stream",
          "name": "stderr",
          "text": [
            "Device set to use cpu\n"
          ]
        },
        {
          "output_type": "stream",
          "name": "stdout",
          "text": [
            "✅ Gerando documentação...\n",
            "✅ Liberando modelo...\n",
            "🧠 Gerando descrição para o campo: role.uuid\n",
            "✅ Carregando modelo...\n"
          ]
        },
        {
          "output_type": "stream",
          "name": "stderr",
          "text": [
            "Device set to use cpu\n"
          ]
        },
        {
          "output_type": "stream",
          "name": "stdout",
          "text": [
            "✅ Gerando documentação...\n",
            "✅ Liberando modelo...\n",
            "🧠 Gerando descrição para o campo: role.displayName\n",
            "✅ Carregando modelo...\n"
          ]
        },
        {
          "output_type": "stream",
          "name": "stderr",
          "text": [
            "Device set to use cpu\n"
          ]
        },
        {
          "output_type": "stream",
          "name": "stdout",
          "text": [
            "✅ Gerando documentação...\n",
            "✅ Liberando modelo...\n",
            "🧠 Gerando descrição para o campo: role.description\n",
            "✅ Carregando modelo...\n"
          ]
        },
        {
          "output_type": "stream",
          "name": "stderr",
          "text": [
            "Device set to use cpu\n"
          ]
        },
        {
          "output_type": "stream",
          "name": "stdout",
          "text": [
            "✅ Gerando documentação...\n",
            "✅ Liberando modelo...\n",
            "🧠 Gerando descrição para o campo: role.displayIcon\n",
            "✅ Carregando modelo...\n"
          ]
        },
        {
          "output_type": "stream",
          "name": "stderr",
          "text": [
            "Device set to use cpu\n"
          ]
        },
        {
          "output_type": "stream",
          "name": "stdout",
          "text": [
            "✅ Gerando documentação...\n",
            "✅ Liberando modelo...\n",
            "🧠 Gerando descrição para o campo: role.assetPath\n",
            "✅ Carregando modelo...\n"
          ]
        },
        {
          "output_type": "stream",
          "name": "stderr",
          "text": [
            "Device set to use cpu\n"
          ]
        },
        {
          "output_type": "stream",
          "name": "stdout",
          "text": [
            "✅ Gerando documentação...\n",
            "✅ Liberando modelo...\n",
            "🧠 Gerando descrição para o campo: recruitmentData\n",
            "✅ Carregando modelo...\n"
          ]
        },
        {
          "output_type": "stream",
          "name": "stderr",
          "text": [
            "Device set to use cpu\n"
          ]
        },
        {
          "output_type": "stream",
          "name": "stdout",
          "text": [
            "✅ Gerando documentação...\n",
            "✅ Liberando modelo...\n",
            "🧠 Gerando descrição para o campo: abilities\n",
            "✅ Carregando modelo...\n"
          ]
        },
        {
          "output_type": "stream",
          "name": "stderr",
          "text": [
            "Device set to use cpu\n"
          ]
        },
        {
          "output_type": "stream",
          "name": "stdout",
          "text": [
            "✅ Gerando documentação...\n",
            "✅ Liberando modelo...\n",
            "🧠 Gerando descrição para o campo: voiceLine\n",
            "✅ Carregando modelo...\n"
          ]
        },
        {
          "output_type": "stream",
          "name": "stderr",
          "text": [
            "Device set to use cpu\n"
          ]
        },
        {
          "output_type": "stream",
          "name": "stdout",
          "text": [
            "✅ Gerando documentação...\n",
            "✅ Liberando modelo...\n",
            "✅ Documentação gerada para brimstone.json\n",
            "📄 Gerando documentação para: sova.json\n",
            "✅ Carregando modelo...\n"
          ]
        },
        {
          "output_type": "stream",
          "name": "stderr",
          "text": [
            "Device set to use cpu\n"
          ]
        },
        {
          "output_type": "stream",
          "name": "stdout",
          "text": [
            "✅ Gerando documentação...\n",
            "✅ Liberando modelo...\n",
            "🧠 Gerando descrição para o campo: uuid\n",
            "✅ Carregando modelo...\n"
          ]
        },
        {
          "output_type": "stream",
          "name": "stderr",
          "text": [
            "Device set to use cpu\n"
          ]
        },
        {
          "output_type": "stream",
          "name": "stdout",
          "text": [
            "✅ Gerando documentação...\n",
            "✅ Liberando modelo...\n",
            "🧠 Gerando descrição para o campo: displayName\n",
            "✅ Carregando modelo...\n"
          ]
        },
        {
          "output_type": "stream",
          "name": "stderr",
          "text": [
            "Device set to use cpu\n"
          ]
        },
        {
          "output_type": "stream",
          "name": "stdout",
          "text": [
            "✅ Gerando documentação...\n",
            "✅ Liberando modelo...\n",
            "🧠 Gerando descrição para o campo: description\n",
            "✅ Carregando modelo...\n"
          ]
        },
        {
          "output_type": "stream",
          "name": "stderr",
          "text": [
            "Device set to use cpu\n"
          ]
        },
        {
          "output_type": "stream",
          "name": "stdout",
          "text": [
            "✅ Gerando documentação...\n",
            "✅ Liberando modelo...\n",
            "🧠 Gerando descrição para o campo: developerName\n",
            "✅ Carregando modelo...\n"
          ]
        },
        {
          "output_type": "stream",
          "name": "stderr",
          "text": [
            "Device set to use cpu\n"
          ]
        },
        {
          "output_type": "stream",
          "name": "stdout",
          "text": [
            "✅ Gerando documentação...\n",
            "✅ Liberando modelo...\n",
            "🧠 Gerando descrição para o campo: releaseDate\n",
            "✅ Carregando modelo...\n"
          ]
        },
        {
          "output_type": "stream",
          "name": "stderr",
          "text": [
            "Device set to use cpu\n"
          ]
        },
        {
          "output_type": "stream",
          "name": "stdout",
          "text": [
            "✅ Gerando documentação...\n",
            "✅ Liberando modelo...\n",
            "🧠 Gerando descrição para o campo: characterTags\n",
            "✅ Carregando modelo...\n"
          ]
        },
        {
          "output_type": "stream",
          "name": "stderr",
          "text": [
            "Device set to use cpu\n"
          ]
        },
        {
          "output_type": "stream",
          "name": "stdout",
          "text": [
            "✅ Gerando documentação...\n",
            "✅ Liberando modelo...\n",
            "🧠 Gerando descrição para o campo: displayIcon\n",
            "✅ Carregando modelo...\n"
          ]
        },
        {
          "output_type": "stream",
          "name": "stderr",
          "text": [
            "Device set to use cpu\n"
          ]
        },
        {
          "output_type": "stream",
          "name": "stdout",
          "text": [
            "✅ Gerando documentação...\n",
            "✅ Liberando modelo...\n",
            "🧠 Gerando descrição para o campo: displayIconSmall\n",
            "✅ Carregando modelo...\n"
          ]
        },
        {
          "output_type": "stream",
          "name": "stderr",
          "text": [
            "Device set to use cpu\n"
          ]
        },
        {
          "output_type": "stream",
          "name": "stdout",
          "text": [
            "✅ Gerando documentação...\n",
            "✅ Liberando modelo...\n",
            "🧠 Gerando descrição para o campo: bustPortrait\n",
            "✅ Carregando modelo...\n"
          ]
        },
        {
          "output_type": "stream",
          "name": "stderr",
          "text": [
            "Device set to use cpu\n"
          ]
        },
        {
          "output_type": "stream",
          "name": "stdout",
          "text": [
            "✅ Gerando documentação...\n",
            "✅ Liberando modelo...\n",
            "🧠 Gerando descrição para o campo: fullPortrait\n",
            "✅ Carregando modelo...\n"
          ]
        },
        {
          "output_type": "stream",
          "name": "stderr",
          "text": [
            "Device set to use cpu\n"
          ]
        },
        {
          "output_type": "stream",
          "name": "stdout",
          "text": [
            "✅ Gerando documentação...\n",
            "✅ Liberando modelo...\n",
            "🧠 Gerando descrição para o campo: fullPortraitV2\n",
            "✅ Carregando modelo...\n"
          ]
        },
        {
          "output_type": "stream",
          "name": "stderr",
          "text": [
            "Device set to use cpu\n"
          ]
        },
        {
          "output_type": "stream",
          "name": "stdout",
          "text": [
            "✅ Gerando documentação...\n",
            "✅ Liberando modelo...\n",
            "🧠 Gerando descrição para o campo: killfeedPortrait\n",
            "✅ Carregando modelo...\n"
          ]
        },
        {
          "output_type": "stream",
          "name": "stderr",
          "text": [
            "Device set to use cpu\n"
          ]
        },
        {
          "output_type": "stream",
          "name": "stdout",
          "text": [
            "✅ Gerando documentação...\n",
            "✅ Liberando modelo...\n",
            "🧠 Gerando descrição para o campo: background\n",
            "✅ Carregando modelo...\n"
          ]
        },
        {
          "output_type": "stream",
          "name": "stderr",
          "text": [
            "Device set to use cpu\n"
          ]
        },
        {
          "output_type": "stream",
          "name": "stdout",
          "text": [
            "✅ Gerando documentação...\n",
            "✅ Liberando modelo...\n",
            "🧠 Gerando descrição para o campo: backgroundGradientColors\n",
            "✅ Carregando modelo...\n"
          ]
        },
        {
          "output_type": "stream",
          "name": "stderr",
          "text": [
            "Device set to use cpu\n"
          ]
        },
        {
          "output_type": "stream",
          "name": "stdout",
          "text": [
            "✅ Gerando documentação...\n",
            "✅ Liberando modelo...\n",
            "🧠 Gerando descrição para o campo: assetPath\n",
            "✅ Carregando modelo...\n"
          ]
        },
        {
          "output_type": "stream",
          "name": "stderr",
          "text": [
            "Device set to use cpu\n"
          ]
        },
        {
          "output_type": "stream",
          "name": "stdout",
          "text": [
            "✅ Gerando documentação...\n",
            "✅ Liberando modelo...\n",
            "🧠 Gerando descrição para o campo: isFullPortraitRightFacing\n",
            "✅ Carregando modelo...\n"
          ]
        },
        {
          "output_type": "stream",
          "name": "stderr",
          "text": [
            "Device set to use cpu\n"
          ]
        },
        {
          "output_type": "stream",
          "name": "stdout",
          "text": [
            "✅ Gerando documentação...\n",
            "✅ Liberando modelo...\n",
            "🧠 Gerando descrição para o campo: isPlayableCharacter\n",
            "✅ Carregando modelo...\n"
          ]
        },
        {
          "output_type": "stream",
          "name": "stderr",
          "text": [
            "Device set to use cpu\n"
          ]
        },
        {
          "output_type": "stream",
          "name": "stdout",
          "text": [
            "✅ Gerando documentação...\n",
            "✅ Liberando modelo...\n",
            "🧠 Gerando descrição para o campo: isAvailableForTest\n",
            "✅ Carregando modelo...\n"
          ]
        },
        {
          "output_type": "stream",
          "name": "stderr",
          "text": [
            "Device set to use cpu\n"
          ]
        },
        {
          "output_type": "stream",
          "name": "stdout",
          "text": [
            "✅ Gerando documentação...\n",
            "✅ Liberando modelo...\n",
            "🧠 Gerando descrição para o campo: isBaseContent\n",
            "✅ Carregando modelo...\n"
          ]
        },
        {
          "output_type": "stream",
          "name": "stderr",
          "text": [
            "Device set to use cpu\n"
          ]
        },
        {
          "output_type": "stream",
          "name": "stdout",
          "text": [
            "✅ Gerando documentação...\n",
            "✅ Liberando modelo...\n",
            "🧠 Gerando descrição para o campo: role.uuid\n",
            "✅ Carregando modelo...\n"
          ]
        },
        {
          "output_type": "stream",
          "name": "stderr",
          "text": [
            "Device set to use cpu\n"
          ]
        },
        {
          "output_type": "stream",
          "name": "stdout",
          "text": [
            "✅ Gerando documentação...\n",
            "✅ Liberando modelo...\n",
            "🧠 Gerando descrição para o campo: role.displayName\n",
            "✅ Carregando modelo...\n"
          ]
        },
        {
          "output_type": "stream",
          "name": "stderr",
          "text": [
            "Device set to use cpu\n"
          ]
        },
        {
          "output_type": "stream",
          "name": "stdout",
          "text": [
            "✅ Gerando documentação...\n",
            "✅ Liberando modelo...\n",
            "🧠 Gerando descrição para o campo: role.description\n",
            "✅ Carregando modelo...\n"
          ]
        },
        {
          "output_type": "stream",
          "name": "stderr",
          "text": [
            "Device set to use cpu\n"
          ]
        },
        {
          "output_type": "stream",
          "name": "stdout",
          "text": [
            "✅ Gerando documentação...\n",
            "✅ Liberando modelo...\n",
            "🧠 Gerando descrição para o campo: role.displayIcon\n",
            "✅ Carregando modelo...\n"
          ]
        },
        {
          "output_type": "stream",
          "name": "stderr",
          "text": [
            "Device set to use cpu\n"
          ]
        },
        {
          "output_type": "stream",
          "name": "stdout",
          "text": [
            "✅ Gerando documentação...\n",
            "✅ Liberando modelo...\n",
            "🧠 Gerando descrição para o campo: role.assetPath\n",
            "✅ Carregando modelo...\n"
          ]
        },
        {
          "output_type": "stream",
          "name": "stderr",
          "text": [
            "Device set to use cpu\n"
          ]
        },
        {
          "output_type": "stream",
          "name": "stdout",
          "text": [
            "✅ Gerando documentação...\n",
            "✅ Liberando modelo...\n",
            "🧠 Gerando descrição para o campo: recruitmentData\n",
            "✅ Carregando modelo...\n"
          ]
        },
        {
          "output_type": "stream",
          "name": "stderr",
          "text": [
            "Device set to use cpu\n"
          ]
        },
        {
          "output_type": "stream",
          "name": "stdout",
          "text": [
            "✅ Gerando documentação...\n",
            "✅ Liberando modelo...\n",
            "🧠 Gerando descrição para o campo: abilities\n",
            "✅ Carregando modelo...\n"
          ]
        },
        {
          "output_type": "stream",
          "name": "stderr",
          "text": [
            "Device set to use cpu\n"
          ]
        },
        {
          "output_type": "stream",
          "name": "stdout",
          "text": [
            "✅ Gerando documentação...\n",
            "✅ Liberando modelo...\n",
            "🧠 Gerando descrição para o campo: voiceLine\n",
            "✅ Carregando modelo...\n"
          ]
        },
        {
          "output_type": "stream",
          "name": "stderr",
          "text": [
            "Device set to use cpu\n"
          ]
        },
        {
          "output_type": "stream",
          "name": "stdout",
          "text": [
            "✅ Gerando documentação...\n",
            "✅ Liberando modelo...\n",
            "✅ Documentação gerada para sova.json\n",
            "📄 Gerando documentação para: sage.json\n",
            "✅ Carregando modelo...\n"
          ]
        },
        {
          "output_type": "stream",
          "name": "stderr",
          "text": [
            "Device set to use cpu\n"
          ]
        },
        {
          "output_type": "stream",
          "name": "stdout",
          "text": [
            "✅ Gerando documentação...\n",
            "✅ Liberando modelo...\n",
            "🧠 Gerando descrição para o campo: uuid\n",
            "✅ Carregando modelo...\n"
          ]
        },
        {
          "output_type": "stream",
          "name": "stderr",
          "text": [
            "Device set to use cpu\n"
          ]
        },
        {
          "output_type": "stream",
          "name": "stdout",
          "text": [
            "✅ Gerando documentação...\n",
            "✅ Liberando modelo...\n",
            "🧠 Gerando descrição para o campo: displayName\n",
            "✅ Carregando modelo...\n"
          ]
        },
        {
          "output_type": "stream",
          "name": "stderr",
          "text": [
            "Device set to use cpu\n"
          ]
        },
        {
          "output_type": "stream",
          "name": "stdout",
          "text": [
            "✅ Gerando documentação...\n",
            "✅ Liberando modelo...\n",
            "🧠 Gerando descrição para o campo: description\n",
            "✅ Carregando modelo...\n"
          ]
        },
        {
          "output_type": "stream",
          "name": "stderr",
          "text": [
            "Device set to use cpu\n"
          ]
        },
        {
          "output_type": "stream",
          "name": "stdout",
          "text": [
            "✅ Gerando documentação...\n",
            "✅ Liberando modelo...\n",
            "🧠 Gerando descrição para o campo: developerName\n",
            "✅ Carregando modelo...\n"
          ]
        },
        {
          "output_type": "stream",
          "name": "stderr",
          "text": [
            "Device set to use cpu\n"
          ]
        },
        {
          "output_type": "stream",
          "name": "stdout",
          "text": [
            "✅ Gerando documentação...\n",
            "✅ Liberando modelo...\n",
            "🧠 Gerando descrição para o campo: releaseDate\n",
            "✅ Carregando modelo...\n"
          ]
        },
        {
          "output_type": "stream",
          "name": "stderr",
          "text": [
            "Device set to use cpu\n"
          ]
        },
        {
          "output_type": "stream",
          "name": "stdout",
          "text": [
            "✅ Gerando documentação...\n",
            "✅ Liberando modelo...\n",
            "🧠 Gerando descrição para o campo: characterTags\n",
            "✅ Carregando modelo...\n"
          ]
        },
        {
          "output_type": "stream",
          "name": "stderr",
          "text": [
            "Device set to use cpu\n"
          ]
        },
        {
          "output_type": "stream",
          "name": "stdout",
          "text": [
            "✅ Gerando documentação...\n",
            "✅ Liberando modelo...\n",
            "🧠 Gerando descrição para o campo: displayIcon\n",
            "✅ Carregando modelo...\n"
          ]
        },
        {
          "output_type": "stream",
          "name": "stderr",
          "text": [
            "Device set to use cpu\n"
          ]
        },
        {
          "output_type": "stream",
          "name": "stdout",
          "text": [
            "✅ Gerando documentação...\n",
            "✅ Liberando modelo...\n",
            "🧠 Gerando descrição para o campo: displayIconSmall\n",
            "✅ Carregando modelo...\n"
          ]
        },
        {
          "output_type": "stream",
          "name": "stderr",
          "text": [
            "Device set to use cpu\n"
          ]
        },
        {
          "output_type": "stream",
          "name": "stdout",
          "text": [
            "✅ Gerando documentação...\n",
            "✅ Liberando modelo...\n",
            "🧠 Gerando descrição para o campo: bustPortrait\n",
            "✅ Carregando modelo...\n"
          ]
        },
        {
          "output_type": "stream",
          "name": "stderr",
          "text": [
            "Device set to use cpu\n"
          ]
        },
        {
          "output_type": "stream",
          "name": "stdout",
          "text": [
            "✅ Gerando documentação...\n",
            "✅ Liberando modelo...\n",
            "🧠 Gerando descrição para o campo: fullPortrait\n",
            "✅ Carregando modelo...\n"
          ]
        },
        {
          "output_type": "stream",
          "name": "stderr",
          "text": [
            "Device set to use cpu\n"
          ]
        },
        {
          "output_type": "stream",
          "name": "stdout",
          "text": [
            "✅ Gerando documentação...\n",
            "✅ Liberando modelo...\n",
            "🧠 Gerando descrição para o campo: fullPortraitV2\n",
            "✅ Carregando modelo...\n"
          ]
        },
        {
          "output_type": "stream",
          "name": "stderr",
          "text": [
            "Device set to use cpu\n"
          ]
        },
        {
          "output_type": "stream",
          "name": "stdout",
          "text": [
            "✅ Gerando documentação...\n",
            "✅ Liberando modelo...\n",
            "🧠 Gerando descrição para o campo: killfeedPortrait\n",
            "✅ Carregando modelo...\n"
          ]
        },
        {
          "output_type": "stream",
          "name": "stderr",
          "text": [
            "Device set to use cpu\n"
          ]
        },
        {
          "output_type": "stream",
          "name": "stdout",
          "text": [
            "✅ Gerando documentação...\n",
            "✅ Liberando modelo...\n",
            "🧠 Gerando descrição para o campo: background\n",
            "✅ Carregando modelo...\n"
          ]
        },
        {
          "output_type": "stream",
          "name": "stderr",
          "text": [
            "Device set to use cpu\n"
          ]
        },
        {
          "output_type": "stream",
          "name": "stdout",
          "text": [
            "✅ Gerando documentação...\n",
            "✅ Liberando modelo...\n",
            "🧠 Gerando descrição para o campo: backgroundGradientColors\n",
            "✅ Carregando modelo...\n"
          ]
        },
        {
          "output_type": "stream",
          "name": "stderr",
          "text": [
            "Device set to use cpu\n"
          ]
        },
        {
          "output_type": "stream",
          "name": "stdout",
          "text": [
            "✅ Gerando documentação...\n",
            "✅ Liberando modelo...\n",
            "🧠 Gerando descrição para o campo: assetPath\n",
            "✅ Carregando modelo...\n"
          ]
        },
        {
          "output_type": "stream",
          "name": "stderr",
          "text": [
            "Device set to use cpu\n"
          ]
        },
        {
          "output_type": "stream",
          "name": "stdout",
          "text": [
            "✅ Gerando documentação...\n",
            "✅ Liberando modelo...\n",
            "🧠 Gerando descrição para o campo: isFullPortraitRightFacing\n",
            "✅ Carregando modelo...\n"
          ]
        },
        {
          "output_type": "stream",
          "name": "stderr",
          "text": [
            "Device set to use cpu\n"
          ]
        },
        {
          "output_type": "stream",
          "name": "stdout",
          "text": [
            "✅ Gerando documentação...\n",
            "✅ Liberando modelo...\n",
            "🧠 Gerando descrição para o campo: isPlayableCharacter\n",
            "✅ Carregando modelo...\n"
          ]
        },
        {
          "output_type": "stream",
          "name": "stderr",
          "text": [
            "Device set to use cpu\n"
          ]
        },
        {
          "output_type": "stream",
          "name": "stdout",
          "text": [
            "✅ Gerando documentação...\n",
            "✅ Liberando modelo...\n",
            "🧠 Gerando descrição para o campo: isAvailableForTest\n",
            "✅ Carregando modelo...\n"
          ]
        },
        {
          "output_type": "stream",
          "name": "stderr",
          "text": [
            "Device set to use cpu\n"
          ]
        },
        {
          "output_type": "stream",
          "name": "stdout",
          "text": [
            "✅ Gerando documentação...\n",
            "✅ Liberando modelo...\n",
            "🧠 Gerando descrição para o campo: isBaseContent\n",
            "✅ Carregando modelo...\n"
          ]
        },
        {
          "output_type": "stream",
          "name": "stderr",
          "text": [
            "Device set to use cpu\n"
          ]
        },
        {
          "output_type": "stream",
          "name": "stdout",
          "text": [
            "✅ Gerando documentação...\n",
            "✅ Liberando modelo...\n",
            "🧠 Gerando descrição para o campo: role.uuid\n",
            "✅ Carregando modelo...\n"
          ]
        },
        {
          "output_type": "stream",
          "name": "stderr",
          "text": [
            "Device set to use cpu\n"
          ]
        },
        {
          "output_type": "stream",
          "name": "stdout",
          "text": [
            "✅ Gerando documentação...\n",
            "✅ Liberando modelo...\n",
            "🧠 Gerando descrição para o campo: role.displayName\n",
            "✅ Carregando modelo...\n"
          ]
        },
        {
          "output_type": "stream",
          "name": "stderr",
          "text": [
            "Device set to use cpu\n"
          ]
        },
        {
          "output_type": "stream",
          "name": "stdout",
          "text": [
            "✅ Gerando documentação...\n",
            "✅ Liberando modelo...\n",
            "🧠 Gerando descrição para o campo: role.description\n",
            "✅ Carregando modelo...\n"
          ]
        },
        {
          "output_type": "stream",
          "name": "stderr",
          "text": [
            "Device set to use cpu\n"
          ]
        },
        {
          "output_type": "stream",
          "name": "stdout",
          "text": [
            "✅ Gerando documentação...\n",
            "✅ Liberando modelo...\n",
            "🧠 Gerando descrição para o campo: role.displayIcon\n",
            "✅ Carregando modelo...\n"
          ]
        },
        {
          "output_type": "stream",
          "name": "stderr",
          "text": [
            "Device set to use cpu\n"
          ]
        },
        {
          "output_type": "stream",
          "name": "stdout",
          "text": [
            "✅ Gerando documentação...\n",
            "✅ Liberando modelo...\n",
            "🧠 Gerando descrição para o campo: role.assetPath\n",
            "✅ Carregando modelo...\n"
          ]
        },
        {
          "output_type": "stream",
          "name": "stderr",
          "text": [
            "Device set to use cpu\n"
          ]
        },
        {
          "output_type": "stream",
          "name": "stdout",
          "text": [
            "✅ Gerando documentação...\n",
            "✅ Liberando modelo...\n",
            "🧠 Gerando descrição para o campo: recruitmentData\n",
            "✅ Carregando modelo...\n"
          ]
        },
        {
          "output_type": "stream",
          "name": "stderr",
          "text": [
            "Device set to use cpu\n"
          ]
        },
        {
          "output_type": "stream",
          "name": "stdout",
          "text": [
            "✅ Gerando documentação...\n",
            "✅ Liberando modelo...\n",
            "🧠 Gerando descrição para o campo: abilities\n",
            "✅ Carregando modelo...\n"
          ]
        },
        {
          "output_type": "stream",
          "name": "stderr",
          "text": [
            "Device set to use cpu\n"
          ]
        },
        {
          "output_type": "stream",
          "name": "stdout",
          "text": [
            "✅ Gerando documentação...\n",
            "✅ Liberando modelo...\n",
            "🧠 Gerando descrição para o campo: voiceLine\n",
            "✅ Carregando modelo...\n"
          ]
        },
        {
          "output_type": "stream",
          "name": "stderr",
          "text": [
            "Device set to use cpu\n"
          ]
        },
        {
          "output_type": "stream",
          "name": "stdout",
          "text": [
            "✅ Gerando documentação...\n",
            "✅ Liberando modelo...\n",
            "✅ Documentação gerada para sage.json\n",
            "📄 Gerando documentação para: clove.json\n",
            "✅ Carregando modelo...\n"
          ]
        },
        {
          "output_type": "stream",
          "name": "stderr",
          "text": [
            "Device set to use cpu\n"
          ]
        },
        {
          "output_type": "stream",
          "name": "stdout",
          "text": [
            "✅ Gerando documentação...\n",
            "✅ Liberando modelo...\n",
            "🧠 Gerando descrição para o campo: uuid\n",
            "✅ Carregando modelo...\n"
          ]
        },
        {
          "output_type": "stream",
          "name": "stderr",
          "text": [
            "Device set to use cpu\n"
          ]
        },
        {
          "output_type": "stream",
          "name": "stdout",
          "text": [
            "✅ Gerando documentação...\n",
            "✅ Liberando modelo...\n",
            "🧠 Gerando descrição para o campo: displayName\n",
            "✅ Carregando modelo...\n"
          ]
        },
        {
          "output_type": "stream",
          "name": "stderr",
          "text": [
            "Device set to use cpu\n"
          ]
        },
        {
          "output_type": "stream",
          "name": "stdout",
          "text": [
            "✅ Gerando documentação...\n",
            "✅ Liberando modelo...\n",
            "🧠 Gerando descrição para o campo: description\n",
            "✅ Carregando modelo...\n"
          ]
        },
        {
          "output_type": "stream",
          "name": "stderr",
          "text": [
            "Device set to use cpu\n"
          ]
        },
        {
          "output_type": "stream",
          "name": "stdout",
          "text": [
            "✅ Gerando documentação...\n",
            "✅ Liberando modelo...\n",
            "🧠 Gerando descrição para o campo: developerName\n",
            "✅ Carregando modelo...\n"
          ]
        },
        {
          "output_type": "stream",
          "name": "stderr",
          "text": [
            "Device set to use cpu\n"
          ]
        },
        {
          "output_type": "stream",
          "name": "stdout",
          "text": [
            "✅ Gerando documentação...\n",
            "✅ Liberando modelo...\n",
            "🧠 Gerando descrição para o campo: releaseDate\n",
            "✅ Carregando modelo...\n"
          ]
        },
        {
          "output_type": "stream",
          "name": "stderr",
          "text": [
            "Device set to use cpu\n"
          ]
        },
        {
          "output_type": "stream",
          "name": "stdout",
          "text": [
            "✅ Gerando documentação...\n",
            "✅ Liberando modelo...\n",
            "🧠 Gerando descrição para o campo: characterTags\n",
            "✅ Carregando modelo...\n"
          ]
        },
        {
          "output_type": "stream",
          "name": "stderr",
          "text": [
            "Device set to use cpu\n"
          ]
        },
        {
          "output_type": "stream",
          "name": "stdout",
          "text": [
            "✅ Gerando documentação...\n",
            "✅ Liberando modelo...\n",
            "🧠 Gerando descrição para o campo: displayIcon\n",
            "✅ Carregando modelo...\n"
          ]
        },
        {
          "output_type": "stream",
          "name": "stderr",
          "text": [
            "Device set to use cpu\n"
          ]
        },
        {
          "output_type": "stream",
          "name": "stdout",
          "text": [
            "✅ Gerando documentação...\n",
            "✅ Liberando modelo...\n",
            "🧠 Gerando descrição para o campo: displayIconSmall\n",
            "✅ Carregando modelo...\n"
          ]
        },
        {
          "output_type": "stream",
          "name": "stderr",
          "text": [
            "Device set to use cpu\n"
          ]
        },
        {
          "output_type": "stream",
          "name": "stdout",
          "text": [
            "✅ Gerando documentação...\n",
            "✅ Liberando modelo...\n",
            "🧠 Gerando descrição para o campo: bustPortrait\n",
            "✅ Carregando modelo...\n"
          ]
        },
        {
          "output_type": "stream",
          "name": "stderr",
          "text": [
            "Device set to use cpu\n"
          ]
        },
        {
          "output_type": "stream",
          "name": "stdout",
          "text": [
            "✅ Gerando documentação...\n",
            "✅ Liberando modelo...\n",
            "🧠 Gerando descrição para o campo: fullPortrait\n",
            "✅ Carregando modelo...\n"
          ]
        },
        {
          "output_type": "stream",
          "name": "stderr",
          "text": [
            "Device set to use cpu\n"
          ]
        },
        {
          "output_type": "stream",
          "name": "stdout",
          "text": [
            "✅ Gerando documentação...\n",
            "✅ Liberando modelo...\n",
            "🧠 Gerando descrição para o campo: fullPortraitV2\n",
            "✅ Carregando modelo...\n"
          ]
        },
        {
          "output_type": "stream",
          "name": "stderr",
          "text": [
            "Device set to use cpu\n"
          ]
        },
        {
          "output_type": "stream",
          "name": "stdout",
          "text": [
            "✅ Gerando documentação...\n",
            "✅ Liberando modelo...\n",
            "🧠 Gerando descrição para o campo: killfeedPortrait\n",
            "✅ Carregando modelo...\n"
          ]
        },
        {
          "output_type": "stream",
          "name": "stderr",
          "text": [
            "Device set to use cpu\n"
          ]
        },
        {
          "output_type": "stream",
          "name": "stdout",
          "text": [
            "✅ Gerando documentação...\n",
            "✅ Liberando modelo...\n",
            "🧠 Gerando descrição para o campo: background\n",
            "✅ Carregando modelo...\n"
          ]
        },
        {
          "output_type": "stream",
          "name": "stderr",
          "text": [
            "Device set to use cpu\n"
          ]
        },
        {
          "output_type": "stream",
          "name": "stdout",
          "text": [
            "✅ Gerando documentação...\n",
            "✅ Liberando modelo...\n",
            "🧠 Gerando descrição para o campo: backgroundGradientColors\n",
            "✅ Carregando modelo...\n"
          ]
        },
        {
          "output_type": "stream",
          "name": "stderr",
          "text": [
            "Device set to use cpu\n"
          ]
        },
        {
          "output_type": "stream",
          "name": "stdout",
          "text": [
            "✅ Gerando documentação...\n",
            "✅ Liberando modelo...\n",
            "🧠 Gerando descrição para o campo: assetPath\n",
            "✅ Carregando modelo...\n"
          ]
        },
        {
          "output_type": "stream",
          "name": "stderr",
          "text": [
            "Device set to use cpu\n"
          ]
        },
        {
          "output_type": "stream",
          "name": "stdout",
          "text": [
            "✅ Gerando documentação...\n",
            "✅ Liberando modelo...\n",
            "🧠 Gerando descrição para o campo: isFullPortraitRightFacing\n",
            "✅ Carregando modelo...\n"
          ]
        },
        {
          "output_type": "stream",
          "name": "stderr",
          "text": [
            "Device set to use cpu\n"
          ]
        },
        {
          "output_type": "stream",
          "name": "stdout",
          "text": [
            "✅ Gerando documentação...\n",
            "✅ Liberando modelo...\n",
            "🧠 Gerando descrição para o campo: isPlayableCharacter\n",
            "✅ Carregando modelo...\n"
          ]
        },
        {
          "output_type": "stream",
          "name": "stderr",
          "text": [
            "Device set to use cpu\n"
          ]
        },
        {
          "output_type": "stream",
          "name": "stdout",
          "text": [
            "✅ Gerando documentação...\n",
            "✅ Liberando modelo...\n",
            "🧠 Gerando descrição para o campo: isAvailableForTest\n",
            "✅ Carregando modelo...\n"
          ]
        },
        {
          "output_type": "stream",
          "name": "stderr",
          "text": [
            "Device set to use cpu\n"
          ]
        },
        {
          "output_type": "stream",
          "name": "stdout",
          "text": [
            "✅ Gerando documentação...\n",
            "✅ Liberando modelo...\n",
            "🧠 Gerando descrição para o campo: isBaseContent\n",
            "✅ Carregando modelo...\n"
          ]
        },
        {
          "output_type": "stream",
          "name": "stderr",
          "text": [
            "Device set to use cpu\n"
          ]
        },
        {
          "output_type": "stream",
          "name": "stdout",
          "text": [
            "✅ Gerando documentação...\n",
            "✅ Liberando modelo...\n",
            "🧠 Gerando descrição para o campo: role.uuid\n",
            "✅ Carregando modelo...\n"
          ]
        },
        {
          "output_type": "stream",
          "name": "stderr",
          "text": [
            "Device set to use cpu\n"
          ]
        },
        {
          "output_type": "stream",
          "name": "stdout",
          "text": [
            "✅ Gerando documentação...\n",
            "✅ Liberando modelo...\n",
            "🧠 Gerando descrição para o campo: role.displayName\n",
            "✅ Carregando modelo...\n"
          ]
        },
        {
          "output_type": "stream",
          "name": "stderr",
          "text": [
            "Device set to use cpu\n"
          ]
        },
        {
          "output_type": "stream",
          "name": "stdout",
          "text": [
            "✅ Gerando documentação...\n",
            "✅ Liberando modelo...\n",
            "🧠 Gerando descrição para o campo: role.description\n",
            "✅ Carregando modelo...\n"
          ]
        },
        {
          "output_type": "stream",
          "name": "stderr",
          "text": [
            "Device set to use cpu\n"
          ]
        },
        {
          "output_type": "stream",
          "name": "stdout",
          "text": [
            "✅ Gerando documentação...\n",
            "✅ Liberando modelo...\n",
            "🧠 Gerando descrição para o campo: role.displayIcon\n",
            "✅ Carregando modelo...\n"
          ]
        },
        {
          "output_type": "stream",
          "name": "stderr",
          "text": [
            "Device set to use cpu\n"
          ]
        },
        {
          "output_type": "stream",
          "name": "stdout",
          "text": [
            "✅ Gerando documentação...\n",
            "✅ Liberando modelo...\n",
            "🧠 Gerando descrição para o campo: role.assetPath\n",
            "✅ Carregando modelo...\n"
          ]
        },
        {
          "output_type": "stream",
          "name": "stderr",
          "text": [
            "Device set to use cpu\n"
          ]
        },
        {
          "output_type": "stream",
          "name": "stdout",
          "text": [
            "✅ Gerando documentação...\n",
            "✅ Liberando modelo...\n",
            "🧠 Gerando descrição para o campo: recruitmentData.counterId\n",
            "✅ Carregando modelo...\n"
          ]
        },
        {
          "output_type": "stream",
          "name": "stderr",
          "text": [
            "Device set to use cpu\n"
          ]
        },
        {
          "output_type": "stream",
          "name": "stdout",
          "text": [
            "✅ Gerando documentação...\n",
            "✅ Liberando modelo...\n",
            "🧠 Gerando descrição para o campo: recruitmentData.milestoneId\n",
            "✅ Carregando modelo...\n"
          ]
        },
        {
          "output_type": "stream",
          "name": "stderr",
          "text": [
            "Device set to use cpu\n"
          ]
        },
        {
          "output_type": "stream",
          "name": "stdout",
          "text": [
            "✅ Gerando documentação...\n",
            "✅ Liberando modelo...\n",
            "🧠 Gerando descrição para o campo: recruitmentData.milestoneThreshold\n",
            "✅ Carregando modelo...\n"
          ]
        },
        {
          "output_type": "stream",
          "name": "stderr",
          "text": [
            "Device set to use cpu\n"
          ]
        },
        {
          "output_type": "stream",
          "name": "stdout",
          "text": [
            "✅ Gerando documentação...\n",
            "✅ Liberando modelo...\n",
            "🧠 Gerando descrição para o campo: recruitmentData.useLevelVpCostOverride\n",
            "✅ Carregando modelo...\n"
          ]
        },
        {
          "output_type": "stream",
          "name": "stderr",
          "text": [
            "Device set to use cpu\n"
          ]
        },
        {
          "output_type": "stream",
          "name": "stdout",
          "text": [
            "✅ Gerando documentação...\n",
            "✅ Liberando modelo...\n",
            "🧠 Gerando descrição para o campo: recruitmentData.levelVpCostOverride\n",
            "✅ Carregando modelo...\n"
          ]
        },
        {
          "output_type": "stream",
          "name": "stderr",
          "text": [
            "Device set to use cpu\n"
          ]
        },
        {
          "output_type": "stream",
          "name": "stdout",
          "text": [
            "✅ Gerando documentação...\n",
            "✅ Liberando modelo...\n",
            "🧠 Gerando descrição para o campo: recruitmentData.startDate\n",
            "✅ Carregando modelo...\n"
          ]
        },
        {
          "output_type": "stream",
          "name": "stderr",
          "text": [
            "Device set to use cpu\n"
          ]
        },
        {
          "output_type": "stream",
          "name": "stdout",
          "text": [
            "✅ Gerando documentação...\n",
            "✅ Liberando modelo...\n",
            "🧠 Gerando descrição para o campo: recruitmentData.endDate\n",
            "✅ Carregando modelo...\n"
          ]
        },
        {
          "output_type": "stream",
          "name": "stderr",
          "text": [
            "Device set to use cpu\n"
          ]
        },
        {
          "output_type": "stream",
          "name": "stdout",
          "text": [
            "✅ Gerando documentação...\n",
            "✅ Liberando modelo...\n",
            "🧠 Gerando descrição para o campo: abilities\n",
            "✅ Carregando modelo...\n"
          ]
        },
        {
          "output_type": "stream",
          "name": "stderr",
          "text": [
            "Device set to use cpu\n"
          ]
        },
        {
          "output_type": "stream",
          "name": "stdout",
          "text": [
            "✅ Gerando documentação...\n",
            "✅ Liberando modelo...\n",
            "🧠 Gerando descrição para o campo: voiceLine\n",
            "✅ Carregando modelo...\n"
          ]
        },
        {
          "output_type": "stream",
          "name": "stderr",
          "text": [
            "Device set to use cpu\n"
          ]
        },
        {
          "output_type": "stream",
          "name": "stdout",
          "text": [
            "✅ Gerando documentação...\n",
            "✅ Liberando modelo...\n",
            "✅ Documentação gerada para clove.json\n",
            "📄 Gerando documentação para: waylay.json\n",
            "✅ Carregando modelo...\n"
          ]
        },
        {
          "output_type": "stream",
          "name": "stderr",
          "text": [
            "Device set to use cpu\n"
          ]
        },
        {
          "output_type": "stream",
          "name": "stdout",
          "text": [
            "✅ Gerando documentação...\n",
            "✅ Liberando modelo...\n",
            "🧠 Gerando descrição para o campo: uuid\n",
            "✅ Carregando modelo...\n"
          ]
        },
        {
          "output_type": "stream",
          "name": "stderr",
          "text": [
            "Device set to use cpu\n"
          ]
        },
        {
          "output_type": "stream",
          "name": "stdout",
          "text": [
            "✅ Gerando documentação...\n",
            "✅ Liberando modelo...\n",
            "🧠 Gerando descrição para o campo: displayName\n",
            "✅ Carregando modelo...\n"
          ]
        },
        {
          "output_type": "stream",
          "name": "stderr",
          "text": [
            "Device set to use cpu\n"
          ]
        },
        {
          "output_type": "stream",
          "name": "stdout",
          "text": [
            "✅ Gerando documentação...\n",
            "✅ Liberando modelo...\n",
            "🧠 Gerando descrição para o campo: description\n",
            "✅ Carregando modelo...\n"
          ]
        },
        {
          "output_type": "stream",
          "name": "stderr",
          "text": [
            "Device set to use cpu\n"
          ]
        },
        {
          "output_type": "stream",
          "name": "stdout",
          "text": [
            "✅ Gerando documentação...\n",
            "✅ Liberando modelo...\n",
            "🧠 Gerando descrição para o campo: developerName\n",
            "✅ Carregando modelo...\n"
          ]
        },
        {
          "output_type": "stream",
          "name": "stderr",
          "text": [
            "Device set to use cpu\n"
          ]
        },
        {
          "output_type": "stream",
          "name": "stdout",
          "text": [
            "✅ Gerando documentação...\n",
            "✅ Liberando modelo...\n",
            "🧠 Gerando descrição para o campo: releaseDate\n",
            "✅ Carregando modelo...\n"
          ]
        },
        {
          "output_type": "stream",
          "name": "stderr",
          "text": [
            "Device set to use cpu\n"
          ]
        },
        {
          "output_type": "stream",
          "name": "stdout",
          "text": [
            "✅ Gerando documentação...\n",
            "✅ Liberando modelo...\n",
            "🧠 Gerando descrição para o campo: characterTags\n",
            "✅ Carregando modelo...\n"
          ]
        },
        {
          "output_type": "stream",
          "name": "stderr",
          "text": [
            "Device set to use cpu\n"
          ]
        },
        {
          "output_type": "stream",
          "name": "stdout",
          "text": [
            "✅ Gerando documentação...\n",
            "✅ Liberando modelo...\n",
            "🧠 Gerando descrição para o campo: displayIcon\n",
            "✅ Carregando modelo...\n"
          ]
        },
        {
          "output_type": "stream",
          "name": "stderr",
          "text": [
            "Device set to use cpu\n"
          ]
        },
        {
          "output_type": "stream",
          "name": "stdout",
          "text": [
            "✅ Gerando documentação...\n",
            "✅ Liberando modelo...\n",
            "🧠 Gerando descrição para o campo: displayIconSmall\n",
            "✅ Carregando modelo...\n"
          ]
        },
        {
          "output_type": "stream",
          "name": "stderr",
          "text": [
            "Device set to use cpu\n"
          ]
        },
        {
          "output_type": "stream",
          "name": "stdout",
          "text": [
            "✅ Gerando documentação...\n",
            "✅ Liberando modelo...\n",
            "🧠 Gerando descrição para o campo: bustPortrait\n",
            "✅ Carregando modelo...\n"
          ]
        },
        {
          "output_type": "stream",
          "name": "stderr",
          "text": [
            "Device set to use cpu\n"
          ]
        },
        {
          "output_type": "stream",
          "name": "stdout",
          "text": [
            "✅ Gerando documentação...\n",
            "✅ Liberando modelo...\n",
            "🧠 Gerando descrição para o campo: fullPortrait\n",
            "✅ Carregando modelo...\n"
          ]
        },
        {
          "output_type": "stream",
          "name": "stderr",
          "text": [
            "Device set to use cpu\n"
          ]
        },
        {
          "output_type": "stream",
          "name": "stdout",
          "text": [
            "✅ Gerando documentação...\n",
            "✅ Liberando modelo...\n",
            "🧠 Gerando descrição para o campo: fullPortraitV2\n",
            "✅ Carregando modelo...\n"
          ]
        },
        {
          "output_type": "stream",
          "name": "stderr",
          "text": [
            "Device set to use cpu\n"
          ]
        },
        {
          "output_type": "stream",
          "name": "stdout",
          "text": [
            "✅ Gerando documentação...\n",
            "✅ Liberando modelo...\n",
            "🧠 Gerando descrição para o campo: killfeedPortrait\n",
            "✅ Carregando modelo...\n"
          ]
        },
        {
          "output_type": "stream",
          "name": "stderr",
          "text": [
            "Device set to use cpu\n"
          ]
        },
        {
          "output_type": "stream",
          "name": "stdout",
          "text": [
            "✅ Gerando documentação...\n",
            "✅ Liberando modelo...\n",
            "🧠 Gerando descrição para o campo: background\n",
            "✅ Carregando modelo...\n"
          ]
        },
        {
          "output_type": "stream",
          "name": "stderr",
          "text": [
            "Device set to use cpu\n"
          ]
        },
        {
          "output_type": "stream",
          "name": "stdout",
          "text": [
            "✅ Gerando documentação...\n",
            "✅ Liberando modelo...\n",
            "🧠 Gerando descrição para o campo: backgroundGradientColors\n",
            "✅ Carregando modelo...\n"
          ]
        },
        {
          "output_type": "stream",
          "name": "stderr",
          "text": [
            "Device set to use cpu\n"
          ]
        },
        {
          "output_type": "stream",
          "name": "stdout",
          "text": [
            "✅ Gerando documentação...\n",
            "✅ Liberando modelo...\n",
            "🧠 Gerando descrição para o campo: assetPath\n",
            "✅ Carregando modelo...\n"
          ]
        },
        {
          "output_type": "stream",
          "name": "stderr",
          "text": [
            "Device set to use cpu\n"
          ]
        },
        {
          "output_type": "stream",
          "name": "stdout",
          "text": [
            "✅ Gerando documentação...\n",
            "✅ Liberando modelo...\n",
            "🧠 Gerando descrição para o campo: isFullPortraitRightFacing\n",
            "✅ Carregando modelo...\n"
          ]
        },
        {
          "output_type": "stream",
          "name": "stderr",
          "text": [
            "Device set to use cpu\n"
          ]
        },
        {
          "output_type": "stream",
          "name": "stdout",
          "text": [
            "✅ Gerando documentação...\n",
            "✅ Liberando modelo...\n",
            "🧠 Gerando descrição para o campo: isPlayableCharacter\n",
            "✅ Carregando modelo...\n"
          ]
        },
        {
          "output_type": "stream",
          "name": "stderr",
          "text": [
            "Device set to use cpu\n"
          ]
        },
        {
          "output_type": "stream",
          "name": "stdout",
          "text": [
            "✅ Gerando documentação...\n",
            "✅ Liberando modelo...\n",
            "🧠 Gerando descrição para o campo: isAvailableForTest\n",
            "✅ Carregando modelo...\n"
          ]
        },
        {
          "output_type": "stream",
          "name": "stderr",
          "text": [
            "Device set to use cpu\n"
          ]
        },
        {
          "output_type": "stream",
          "name": "stdout",
          "text": [
            "✅ Gerando documentação...\n",
            "✅ Liberando modelo...\n",
            "🧠 Gerando descrição para o campo: isBaseContent\n",
            "✅ Carregando modelo...\n"
          ]
        },
        {
          "output_type": "stream",
          "name": "stderr",
          "text": [
            "Device set to use cpu\n"
          ]
        },
        {
          "output_type": "stream",
          "name": "stdout",
          "text": [
            "✅ Gerando documentação...\n",
            "✅ Liberando modelo...\n",
            "🧠 Gerando descrição para o campo: role.uuid\n",
            "✅ Carregando modelo...\n"
          ]
        },
        {
          "output_type": "stream",
          "name": "stderr",
          "text": [
            "Device set to use cpu\n"
          ]
        },
        {
          "output_type": "stream",
          "name": "stdout",
          "text": [
            "✅ Gerando documentação...\n",
            "✅ Liberando modelo...\n",
            "🧠 Gerando descrição para o campo: role.displayName\n",
            "✅ Carregando modelo...\n"
          ]
        },
        {
          "output_type": "stream",
          "name": "stderr",
          "text": [
            "Device set to use cpu\n"
          ]
        },
        {
          "output_type": "stream",
          "name": "stdout",
          "text": [
            "✅ Gerando documentação...\n",
            "✅ Liberando modelo...\n",
            "🧠 Gerando descrição para o campo: role.description\n",
            "✅ Carregando modelo...\n"
          ]
        },
        {
          "output_type": "stream",
          "name": "stderr",
          "text": [
            "Device set to use cpu\n"
          ]
        },
        {
          "output_type": "stream",
          "name": "stdout",
          "text": [
            "✅ Gerando documentação...\n",
            "✅ Liberando modelo...\n",
            "🧠 Gerando descrição para o campo: role.displayIcon\n",
            "✅ Carregando modelo...\n"
          ]
        },
        {
          "output_type": "stream",
          "name": "stderr",
          "text": [
            "Device set to use cpu\n"
          ]
        },
        {
          "output_type": "stream",
          "name": "stdout",
          "text": [
            "✅ Gerando documentação...\n",
            "✅ Liberando modelo...\n",
            "🧠 Gerando descrição para o campo: role.assetPath\n",
            "✅ Carregando modelo...\n"
          ]
        },
        {
          "output_type": "stream",
          "name": "stderr",
          "text": [
            "Device set to use cpu\n"
          ]
        },
        {
          "output_type": "stream",
          "name": "stdout",
          "text": [
            "✅ Gerando documentação...\n",
            "✅ Liberando modelo...\n",
            "🧠 Gerando descrição para o campo: recruitmentData.counterId\n",
            "✅ Carregando modelo...\n"
          ]
        },
        {
          "output_type": "stream",
          "name": "stderr",
          "text": [
            "Device set to use cpu\n"
          ]
        },
        {
          "output_type": "stream",
          "name": "stdout",
          "text": [
            "✅ Gerando documentação...\n",
            "✅ Liberando modelo...\n",
            "🧠 Gerando descrição para o campo: recruitmentData.milestoneId\n",
            "✅ Carregando modelo...\n"
          ]
        },
        {
          "output_type": "stream",
          "name": "stderr",
          "text": [
            "Device set to use cpu\n"
          ]
        },
        {
          "output_type": "stream",
          "name": "stdout",
          "text": [
            "✅ Gerando documentação...\n",
            "✅ Liberando modelo...\n",
            "🧠 Gerando descrição para o campo: recruitmentData.milestoneThreshold\n",
            "✅ Carregando modelo...\n"
          ]
        },
        {
          "output_type": "stream",
          "name": "stderr",
          "text": [
            "Device set to use cpu\n"
          ]
        },
        {
          "output_type": "stream",
          "name": "stdout",
          "text": [
            "✅ Gerando documentação...\n",
            "✅ Liberando modelo...\n",
            "🧠 Gerando descrição para o campo: recruitmentData.useLevelVpCostOverride\n",
            "✅ Carregando modelo...\n"
          ]
        },
        {
          "output_type": "stream",
          "name": "stderr",
          "text": [
            "Device set to use cpu\n"
          ]
        },
        {
          "output_type": "stream",
          "name": "stdout",
          "text": [
            "✅ Gerando documentação...\n",
            "✅ Liberando modelo...\n",
            "🧠 Gerando descrição para o campo: recruitmentData.levelVpCostOverride\n",
            "✅ Carregando modelo...\n"
          ]
        },
        {
          "output_type": "stream",
          "name": "stderr",
          "text": [
            "Device set to use cpu\n"
          ]
        },
        {
          "output_type": "stream",
          "name": "stdout",
          "text": [
            "✅ Gerando documentação...\n",
            "✅ Liberando modelo...\n",
            "🧠 Gerando descrição para o campo: recruitmentData.startDate\n",
            "✅ Carregando modelo...\n"
          ]
        },
        {
          "output_type": "stream",
          "name": "stderr",
          "text": [
            "Device set to use cpu\n"
          ]
        },
        {
          "output_type": "stream",
          "name": "stdout",
          "text": [
            "✅ Gerando documentação...\n",
            "✅ Liberando modelo...\n",
            "🧠 Gerando descrição para o campo: recruitmentData.endDate\n",
            "✅ Carregando modelo...\n"
          ]
        },
        {
          "output_type": "stream",
          "name": "stderr",
          "text": [
            "Device set to use cpu\n"
          ]
        },
        {
          "output_type": "stream",
          "name": "stdout",
          "text": [
            "✅ Gerando documentação...\n",
            "✅ Liberando modelo...\n",
            "🧠 Gerando descrição para o campo: abilities\n",
            "✅ Carregando modelo...\n"
          ]
        },
        {
          "output_type": "stream",
          "name": "stderr",
          "text": [
            "Device set to use cpu\n"
          ]
        },
        {
          "output_type": "stream",
          "name": "stdout",
          "text": [
            "✅ Gerando documentação...\n",
            "✅ Liberando modelo...\n",
            "🧠 Gerando descrição para o campo: voiceLine\n",
            "✅ Carregando modelo...\n"
          ]
        },
        {
          "output_type": "stream",
          "name": "stderr",
          "text": [
            "Device set to use cpu\n"
          ]
        },
        {
          "output_type": "stream",
          "name": "stdout",
          "text": [
            "✅ Gerando documentação...\n",
            "✅ Liberando modelo...\n",
            "✅ Documentação gerada para waylay.json\n",
            "📄 Gerando documentação para: viper.json\n",
            "✅ Carregando modelo...\n"
          ]
        },
        {
          "output_type": "stream",
          "name": "stderr",
          "text": [
            "Device set to use cpu\n"
          ]
        },
        {
          "output_type": "stream",
          "name": "stdout",
          "text": [
            "✅ Gerando documentação...\n",
            "✅ Liberando modelo...\n",
            "🧠 Gerando descrição para o campo: uuid\n",
            "✅ Carregando modelo...\n"
          ]
        },
        {
          "output_type": "stream",
          "name": "stderr",
          "text": [
            "Device set to use cpu\n"
          ]
        },
        {
          "output_type": "stream",
          "name": "stdout",
          "text": [
            "✅ Gerando documentação...\n",
            "✅ Liberando modelo...\n",
            "🧠 Gerando descrição para o campo: displayName\n",
            "✅ Carregando modelo...\n"
          ]
        },
        {
          "output_type": "stream",
          "name": "stderr",
          "text": [
            "Device set to use cpu\n"
          ]
        },
        {
          "output_type": "stream",
          "name": "stdout",
          "text": [
            "✅ Gerando documentação...\n",
            "✅ Liberando modelo...\n",
            "🧠 Gerando descrição para o campo: description\n",
            "✅ Carregando modelo...\n"
          ]
        },
        {
          "output_type": "stream",
          "name": "stderr",
          "text": [
            "Device set to use cpu\n"
          ]
        },
        {
          "output_type": "stream",
          "name": "stdout",
          "text": [
            "✅ Gerando documentação...\n",
            "✅ Liberando modelo...\n",
            "🧠 Gerando descrição para o campo: developerName\n",
            "✅ Carregando modelo...\n"
          ]
        },
        {
          "output_type": "stream",
          "name": "stderr",
          "text": [
            "Device set to use cpu\n"
          ]
        },
        {
          "output_type": "stream",
          "name": "stdout",
          "text": [
            "✅ Gerando documentação...\n",
            "✅ Liberando modelo...\n",
            "🧠 Gerando descrição para o campo: releaseDate\n",
            "✅ Carregando modelo...\n"
          ]
        },
        {
          "output_type": "stream",
          "name": "stderr",
          "text": [
            "Device set to use cpu\n"
          ]
        },
        {
          "output_type": "stream",
          "name": "stdout",
          "text": [
            "✅ Gerando documentação...\n",
            "✅ Liberando modelo...\n",
            "🧠 Gerando descrição para o campo: characterTags\n",
            "✅ Carregando modelo...\n"
          ]
        },
        {
          "output_type": "stream",
          "name": "stderr",
          "text": [
            "Device set to use cpu\n"
          ]
        },
        {
          "output_type": "stream",
          "name": "stdout",
          "text": [
            "✅ Gerando documentação...\n",
            "✅ Liberando modelo...\n",
            "🧠 Gerando descrição para o campo: displayIcon\n",
            "✅ Carregando modelo...\n"
          ]
        },
        {
          "output_type": "stream",
          "name": "stderr",
          "text": [
            "Device set to use cpu\n"
          ]
        },
        {
          "output_type": "stream",
          "name": "stdout",
          "text": [
            "✅ Gerando documentação...\n",
            "✅ Liberando modelo...\n",
            "🧠 Gerando descrição para o campo: displayIconSmall\n",
            "✅ Carregando modelo...\n"
          ]
        },
        {
          "output_type": "stream",
          "name": "stderr",
          "text": [
            "Device set to use cpu\n"
          ]
        },
        {
          "output_type": "stream",
          "name": "stdout",
          "text": [
            "✅ Gerando documentação...\n",
            "✅ Liberando modelo...\n",
            "🧠 Gerando descrição para o campo: bustPortrait\n",
            "✅ Carregando modelo...\n"
          ]
        },
        {
          "output_type": "stream",
          "name": "stderr",
          "text": [
            "Device set to use cpu\n"
          ]
        },
        {
          "output_type": "stream",
          "name": "stdout",
          "text": [
            "✅ Gerando documentação...\n",
            "✅ Liberando modelo...\n",
            "🧠 Gerando descrição para o campo: fullPortrait\n",
            "✅ Carregando modelo...\n"
          ]
        },
        {
          "output_type": "stream",
          "name": "stderr",
          "text": [
            "Device set to use cpu\n"
          ]
        },
        {
          "output_type": "stream",
          "name": "stdout",
          "text": [
            "✅ Gerando documentação...\n",
            "✅ Liberando modelo...\n",
            "🧠 Gerando descrição para o campo: fullPortraitV2\n",
            "✅ Carregando modelo...\n"
          ]
        },
        {
          "output_type": "stream",
          "name": "stderr",
          "text": [
            "Device set to use cpu\n"
          ]
        },
        {
          "output_type": "stream",
          "name": "stdout",
          "text": [
            "✅ Gerando documentação...\n",
            "✅ Liberando modelo...\n",
            "🧠 Gerando descrição para o campo: killfeedPortrait\n",
            "✅ Carregando modelo...\n"
          ]
        },
        {
          "output_type": "stream",
          "name": "stderr",
          "text": [
            "Device set to use cpu\n"
          ]
        },
        {
          "output_type": "stream",
          "name": "stdout",
          "text": [
            "✅ Gerando documentação...\n",
            "✅ Liberando modelo...\n",
            "🧠 Gerando descrição para o campo: background\n",
            "✅ Carregando modelo...\n"
          ]
        },
        {
          "output_type": "stream",
          "name": "stderr",
          "text": [
            "Device set to use cpu\n"
          ]
        },
        {
          "output_type": "stream",
          "name": "stdout",
          "text": [
            "✅ Gerando documentação...\n",
            "✅ Liberando modelo...\n",
            "🧠 Gerando descrição para o campo: backgroundGradientColors\n",
            "✅ Carregando modelo...\n"
          ]
        },
        {
          "output_type": "stream",
          "name": "stderr",
          "text": [
            "Device set to use cpu\n"
          ]
        },
        {
          "output_type": "stream",
          "name": "stdout",
          "text": [
            "✅ Gerando documentação...\n",
            "✅ Liberando modelo...\n",
            "🧠 Gerando descrição para o campo: assetPath\n",
            "✅ Carregando modelo...\n"
          ]
        },
        {
          "output_type": "stream",
          "name": "stderr",
          "text": [
            "Device set to use cpu\n"
          ]
        },
        {
          "output_type": "stream",
          "name": "stdout",
          "text": [
            "✅ Gerando documentação...\n",
            "✅ Liberando modelo...\n",
            "🧠 Gerando descrição para o campo: isFullPortraitRightFacing\n",
            "✅ Carregando modelo...\n"
          ]
        },
        {
          "output_type": "stream",
          "name": "stderr",
          "text": [
            "Device set to use cpu\n"
          ]
        },
        {
          "output_type": "stream",
          "name": "stdout",
          "text": [
            "✅ Gerando documentação...\n",
            "✅ Liberando modelo...\n",
            "🧠 Gerando descrição para o campo: isPlayableCharacter\n",
            "✅ Carregando modelo...\n"
          ]
        },
        {
          "output_type": "stream",
          "name": "stderr",
          "text": [
            "Device set to use cpu\n"
          ]
        },
        {
          "output_type": "stream",
          "name": "stdout",
          "text": [
            "✅ Gerando documentação...\n",
            "✅ Liberando modelo...\n",
            "🧠 Gerando descrição para o campo: isAvailableForTest\n",
            "✅ Carregando modelo...\n"
          ]
        },
        {
          "output_type": "stream",
          "name": "stderr",
          "text": [
            "Device set to use cpu\n"
          ]
        },
        {
          "output_type": "stream",
          "name": "stdout",
          "text": [
            "✅ Gerando documentação...\n",
            "✅ Liberando modelo...\n",
            "🧠 Gerando descrição para o campo: isBaseContent\n",
            "✅ Carregando modelo...\n"
          ]
        },
        {
          "output_type": "stream",
          "name": "stderr",
          "text": [
            "Device set to use cpu\n"
          ]
        },
        {
          "output_type": "stream",
          "name": "stdout",
          "text": [
            "✅ Gerando documentação...\n",
            "✅ Liberando modelo...\n",
            "🧠 Gerando descrição para o campo: role.uuid\n",
            "✅ Carregando modelo...\n"
          ]
        },
        {
          "output_type": "stream",
          "name": "stderr",
          "text": [
            "Device set to use cpu\n"
          ]
        },
        {
          "output_type": "stream",
          "name": "stdout",
          "text": [
            "✅ Gerando documentação...\n",
            "✅ Liberando modelo...\n",
            "🧠 Gerando descrição para o campo: role.displayName\n",
            "✅ Carregando modelo...\n"
          ]
        },
        {
          "output_type": "stream",
          "name": "stderr",
          "text": [
            "Device set to use cpu\n"
          ]
        },
        {
          "output_type": "stream",
          "name": "stdout",
          "text": [
            "✅ Gerando documentação...\n",
            "✅ Liberando modelo...\n",
            "🧠 Gerando descrição para o campo: role.description\n",
            "✅ Carregando modelo...\n"
          ]
        },
        {
          "output_type": "stream",
          "name": "stderr",
          "text": [
            "Device set to use cpu\n"
          ]
        },
        {
          "output_type": "stream",
          "name": "stdout",
          "text": [
            "✅ Gerando documentação...\n",
            "✅ Liberando modelo...\n",
            "🧠 Gerando descrição para o campo: role.displayIcon\n",
            "✅ Carregando modelo...\n"
          ]
        },
        {
          "output_type": "stream",
          "name": "stderr",
          "text": [
            "Device set to use cpu\n"
          ]
        },
        {
          "output_type": "stream",
          "name": "stdout",
          "text": [
            "✅ Gerando documentação...\n",
            "✅ Liberando modelo...\n",
            "🧠 Gerando descrição para o campo: role.assetPath\n",
            "✅ Carregando modelo...\n"
          ]
        },
        {
          "output_type": "stream",
          "name": "stderr",
          "text": [
            "Device set to use cpu\n"
          ]
        },
        {
          "output_type": "stream",
          "name": "stdout",
          "text": [
            "✅ Gerando documentação...\n",
            "✅ Liberando modelo...\n",
            "🧠 Gerando descrição para o campo: recruitmentData\n",
            "✅ Carregando modelo...\n"
          ]
        },
        {
          "output_type": "stream",
          "name": "stderr",
          "text": [
            "Device set to use cpu\n"
          ]
        },
        {
          "output_type": "stream",
          "name": "stdout",
          "text": [
            "✅ Gerando documentação...\n",
            "✅ Liberando modelo...\n",
            "🧠 Gerando descrição para o campo: abilities\n",
            "✅ Carregando modelo...\n"
          ]
        },
        {
          "output_type": "stream",
          "name": "stderr",
          "text": [
            "Device set to use cpu\n"
          ]
        },
        {
          "output_type": "stream",
          "name": "stdout",
          "text": [
            "✅ Gerando documentação...\n",
            "✅ Liberando modelo...\n",
            "🧠 Gerando descrição para o campo: voiceLine\n",
            "✅ Carregando modelo...\n"
          ]
        },
        {
          "output_type": "stream",
          "name": "stderr",
          "text": [
            "Device set to use cpu\n"
          ]
        },
        {
          "output_type": "stream",
          "name": "stdout",
          "text": [
            "✅ Gerando documentação...\n",
            "✅ Liberando modelo...\n",
            "✅ Documentação gerada para viper.json\n",
            "📄 Gerando documentação para: tejo.json\n",
            "✅ Carregando modelo...\n"
          ]
        },
        {
          "output_type": "stream",
          "name": "stderr",
          "text": [
            "Device set to use cpu\n"
          ]
        },
        {
          "output_type": "stream",
          "name": "stdout",
          "text": [
            "✅ Gerando documentação...\n",
            "✅ Liberando modelo...\n",
            "🧠 Gerando descrição para o campo: uuid\n",
            "✅ Carregando modelo...\n"
          ]
        },
        {
          "output_type": "stream",
          "name": "stderr",
          "text": [
            "Device set to use cpu\n"
          ]
        },
        {
          "output_type": "stream",
          "name": "stdout",
          "text": [
            "✅ Gerando documentação...\n",
            "✅ Liberando modelo...\n",
            "🧠 Gerando descrição para o campo: displayName\n",
            "✅ Carregando modelo...\n"
          ]
        },
        {
          "output_type": "stream",
          "name": "stderr",
          "text": [
            "Device set to use cpu\n"
          ]
        },
        {
          "output_type": "stream",
          "name": "stdout",
          "text": [
            "✅ Gerando documentação...\n",
            "✅ Liberando modelo...\n",
            "🧠 Gerando descrição para o campo: description\n",
            "✅ Carregando modelo...\n"
          ]
        },
        {
          "output_type": "stream",
          "name": "stderr",
          "text": [
            "Device set to use cpu\n"
          ]
        },
        {
          "output_type": "stream",
          "name": "stdout",
          "text": [
            "✅ Gerando documentação...\n",
            "✅ Liberando modelo...\n",
            "🧠 Gerando descrição para o campo: developerName\n",
            "✅ Carregando modelo...\n"
          ]
        },
        {
          "output_type": "stream",
          "name": "stderr",
          "text": [
            "Device set to use cpu\n"
          ]
        },
        {
          "output_type": "stream",
          "name": "stdout",
          "text": [
            "✅ Gerando documentação...\n",
            "✅ Liberando modelo...\n",
            "🧠 Gerando descrição para o campo: releaseDate\n",
            "✅ Carregando modelo...\n"
          ]
        },
        {
          "output_type": "stream",
          "name": "stderr",
          "text": [
            "Device set to use cpu\n"
          ]
        },
        {
          "output_type": "stream",
          "name": "stdout",
          "text": [
            "✅ Gerando documentação...\n",
            "✅ Liberando modelo...\n",
            "🧠 Gerando descrição para o campo: characterTags\n",
            "✅ Carregando modelo...\n"
          ]
        },
        {
          "output_type": "stream",
          "name": "stderr",
          "text": [
            "Device set to use cpu\n"
          ]
        },
        {
          "output_type": "stream",
          "name": "stdout",
          "text": [
            "✅ Gerando documentação...\n",
            "✅ Liberando modelo...\n",
            "🧠 Gerando descrição para o campo: displayIcon\n",
            "✅ Carregando modelo...\n"
          ]
        },
        {
          "output_type": "stream",
          "name": "stderr",
          "text": [
            "Device set to use cpu\n"
          ]
        },
        {
          "output_type": "stream",
          "name": "stdout",
          "text": [
            "✅ Gerando documentação...\n",
            "✅ Liberando modelo...\n",
            "🧠 Gerando descrição para o campo: displayIconSmall\n",
            "✅ Carregando modelo...\n"
          ]
        },
        {
          "output_type": "stream",
          "name": "stderr",
          "text": [
            "Device set to use cpu\n"
          ]
        },
        {
          "output_type": "stream",
          "name": "stdout",
          "text": [
            "✅ Gerando documentação...\n",
            "✅ Liberando modelo...\n",
            "🧠 Gerando descrição para o campo: bustPortrait\n",
            "✅ Carregando modelo...\n"
          ]
        },
        {
          "output_type": "stream",
          "name": "stderr",
          "text": [
            "Device set to use cpu\n"
          ]
        },
        {
          "output_type": "stream",
          "name": "stdout",
          "text": [
            "✅ Gerando documentação...\n",
            "✅ Liberando modelo...\n",
            "🧠 Gerando descrição para o campo: fullPortrait\n",
            "✅ Carregando modelo...\n"
          ]
        },
        {
          "output_type": "stream",
          "name": "stderr",
          "text": [
            "Device set to use cpu\n"
          ]
        },
        {
          "output_type": "stream",
          "name": "stdout",
          "text": [
            "✅ Gerando documentação...\n",
            "✅ Liberando modelo...\n",
            "🧠 Gerando descrição para o campo: fullPortraitV2\n",
            "✅ Carregando modelo...\n"
          ]
        },
        {
          "output_type": "stream",
          "name": "stderr",
          "text": [
            "Device set to use cpu\n"
          ]
        },
        {
          "output_type": "stream",
          "name": "stdout",
          "text": [
            "✅ Gerando documentação...\n",
            "✅ Liberando modelo...\n",
            "🧠 Gerando descrição para o campo: killfeedPortrait\n",
            "✅ Carregando modelo...\n"
          ]
        },
        {
          "output_type": "stream",
          "name": "stderr",
          "text": [
            "Device set to use cpu\n"
          ]
        },
        {
          "output_type": "stream",
          "name": "stdout",
          "text": [
            "✅ Gerando documentação...\n",
            "✅ Liberando modelo...\n",
            "🧠 Gerando descrição para o campo: background\n",
            "✅ Carregando modelo...\n"
          ]
        },
        {
          "output_type": "stream",
          "name": "stderr",
          "text": [
            "Device set to use cpu\n"
          ]
        },
        {
          "output_type": "stream",
          "name": "stdout",
          "text": [
            "✅ Gerando documentação...\n",
            "✅ Liberando modelo...\n",
            "🧠 Gerando descrição para o campo: backgroundGradientColors\n",
            "✅ Carregando modelo...\n"
          ]
        },
        {
          "output_type": "stream",
          "name": "stderr",
          "text": [
            "Device set to use cpu\n"
          ]
        },
        {
          "output_type": "stream",
          "name": "stdout",
          "text": [
            "✅ Gerando documentação...\n",
            "✅ Liberando modelo...\n",
            "🧠 Gerando descrição para o campo: assetPath\n",
            "✅ Carregando modelo...\n"
          ]
        },
        {
          "output_type": "stream",
          "name": "stderr",
          "text": [
            "Device set to use cpu\n"
          ]
        },
        {
          "output_type": "stream",
          "name": "stdout",
          "text": [
            "✅ Gerando documentação...\n",
            "✅ Liberando modelo...\n",
            "🧠 Gerando descrição para o campo: isFullPortraitRightFacing\n",
            "✅ Carregando modelo...\n"
          ]
        },
        {
          "output_type": "stream",
          "name": "stderr",
          "text": [
            "Device set to use cpu\n"
          ]
        },
        {
          "output_type": "stream",
          "name": "stdout",
          "text": [
            "✅ Gerando documentação...\n",
            "✅ Liberando modelo...\n",
            "🧠 Gerando descrição para o campo: isPlayableCharacter\n",
            "✅ Carregando modelo...\n"
          ]
        },
        {
          "output_type": "stream",
          "name": "stderr",
          "text": [
            "Device set to use cpu\n"
          ]
        },
        {
          "output_type": "stream",
          "name": "stdout",
          "text": [
            "✅ Gerando documentação...\n",
            "✅ Liberando modelo...\n",
            "🧠 Gerando descrição para o campo: isAvailableForTest\n",
            "✅ Carregando modelo...\n"
          ]
        },
        {
          "output_type": "stream",
          "name": "stderr",
          "text": [
            "Device set to use cpu\n"
          ]
        },
        {
          "output_type": "stream",
          "name": "stdout",
          "text": [
            "✅ Gerando documentação...\n",
            "✅ Liberando modelo...\n",
            "🧠 Gerando descrição para o campo: isBaseContent\n",
            "✅ Carregando modelo...\n"
          ]
        },
        {
          "output_type": "stream",
          "name": "stderr",
          "text": [
            "Device set to use cpu\n"
          ]
        },
        {
          "output_type": "stream",
          "name": "stdout",
          "text": [
            "✅ Gerando documentação...\n",
            "✅ Liberando modelo...\n",
            "🧠 Gerando descrição para o campo: role.uuid\n",
            "✅ Carregando modelo...\n"
          ]
        },
        {
          "output_type": "stream",
          "name": "stderr",
          "text": [
            "Device set to use cpu\n"
          ]
        },
        {
          "output_type": "stream",
          "name": "stdout",
          "text": [
            "✅ Gerando documentação...\n",
            "✅ Liberando modelo...\n",
            "🧠 Gerando descrição para o campo: role.displayName\n",
            "✅ Carregando modelo...\n"
          ]
        },
        {
          "output_type": "stream",
          "name": "stderr",
          "text": [
            "Device set to use cpu\n"
          ]
        },
        {
          "output_type": "stream",
          "name": "stdout",
          "text": [
            "✅ Gerando documentação...\n",
            "✅ Liberando modelo...\n",
            "🧠 Gerando descrição para o campo: role.description\n",
            "✅ Carregando modelo...\n"
          ]
        },
        {
          "output_type": "stream",
          "name": "stderr",
          "text": [
            "Device set to use cpu\n"
          ]
        },
        {
          "output_type": "stream",
          "name": "stdout",
          "text": [
            "✅ Gerando documentação...\n",
            "✅ Liberando modelo...\n",
            "🧠 Gerando descrição para o campo: role.displayIcon\n",
            "✅ Carregando modelo...\n"
          ]
        },
        {
          "output_type": "stream",
          "name": "stderr",
          "text": [
            "Device set to use cpu\n"
          ]
        },
        {
          "output_type": "stream",
          "name": "stdout",
          "text": [
            "✅ Gerando documentação...\n",
            "✅ Liberando modelo...\n",
            "🧠 Gerando descrição para o campo: role.assetPath\n",
            "✅ Carregando modelo...\n"
          ]
        },
        {
          "output_type": "stream",
          "name": "stderr",
          "text": [
            "Device set to use cpu\n"
          ]
        },
        {
          "output_type": "stream",
          "name": "stdout",
          "text": [
            "✅ Gerando documentação...\n",
            "✅ Liberando modelo...\n",
            "🧠 Gerando descrição para o campo: recruitmentData.counterId\n",
            "✅ Carregando modelo...\n"
          ]
        },
        {
          "output_type": "stream",
          "name": "stderr",
          "text": [
            "Device set to use cpu\n"
          ]
        },
        {
          "output_type": "stream",
          "name": "stdout",
          "text": [
            "✅ Gerando documentação...\n",
            "✅ Liberando modelo...\n",
            "🧠 Gerando descrição para o campo: recruitmentData.milestoneId\n",
            "✅ Carregando modelo...\n"
          ]
        },
        {
          "output_type": "stream",
          "name": "stderr",
          "text": [
            "Device set to use cpu\n"
          ]
        },
        {
          "output_type": "stream",
          "name": "stdout",
          "text": [
            "✅ Gerando documentação...\n",
            "✅ Liberando modelo...\n",
            "🧠 Gerando descrição para o campo: recruitmentData.milestoneThreshold\n",
            "✅ Carregando modelo...\n"
          ]
        },
        {
          "output_type": "stream",
          "name": "stderr",
          "text": [
            "Device set to use cpu\n"
          ]
        },
        {
          "output_type": "stream",
          "name": "stdout",
          "text": [
            "✅ Gerando documentação...\n",
            "✅ Liberando modelo...\n",
            "🧠 Gerando descrição para o campo: recruitmentData.useLevelVpCostOverride\n",
            "✅ Carregando modelo...\n"
          ]
        },
        {
          "output_type": "stream",
          "name": "stderr",
          "text": [
            "Device set to use cpu\n"
          ]
        },
        {
          "output_type": "stream",
          "name": "stdout",
          "text": [
            "✅ Gerando documentação...\n",
            "✅ Liberando modelo...\n",
            "🧠 Gerando descrição para o campo: recruitmentData.levelVpCostOverride\n",
            "✅ Carregando modelo...\n"
          ]
        },
        {
          "output_type": "stream",
          "name": "stderr",
          "text": [
            "Device set to use cpu\n"
          ]
        },
        {
          "output_type": "stream",
          "name": "stdout",
          "text": [
            "✅ Gerando documentação...\n",
            "✅ Liberando modelo...\n",
            "🧠 Gerando descrição para o campo: recruitmentData.startDate\n",
            "✅ Carregando modelo...\n"
          ]
        },
        {
          "output_type": "stream",
          "name": "stderr",
          "text": [
            "Device set to use cpu\n"
          ]
        },
        {
          "output_type": "stream",
          "name": "stdout",
          "text": [
            "✅ Gerando documentação...\n",
            "✅ Liberando modelo...\n",
            "🧠 Gerando descrição para o campo: recruitmentData.endDate\n",
            "✅ Carregando modelo...\n"
          ]
        },
        {
          "output_type": "stream",
          "name": "stderr",
          "text": [
            "Device set to use cpu\n"
          ]
        },
        {
          "output_type": "stream",
          "name": "stdout",
          "text": [
            "✅ Gerando documentação...\n",
            "✅ Liberando modelo...\n",
            "🧠 Gerando descrição para o campo: abilities\n",
            "✅ Carregando modelo...\n"
          ]
        },
        {
          "output_type": "stream",
          "name": "stderr",
          "text": [
            "Device set to use cpu\n"
          ]
        },
        {
          "output_type": "stream",
          "name": "stdout",
          "text": [
            "✅ Gerando documentação...\n",
            "✅ Liberando modelo...\n",
            "🧠 Gerando descrição para o campo: voiceLine\n",
            "✅ Carregando modelo...\n"
          ]
        },
        {
          "output_type": "stream",
          "name": "stderr",
          "text": [
            "Device set to use cpu\n"
          ]
        },
        {
          "output_type": "stream",
          "name": "stdout",
          "text": [
            "✅ Gerando documentação...\n",
            "✅ Liberando modelo...\n",
            "✅ Documentação gerada para tejo.json\n",
            "📄 Gerando documentação para: omen.json\n",
            "✅ Carregando modelo...\n"
          ]
        },
        {
          "output_type": "stream",
          "name": "stderr",
          "text": [
            "Device set to use cpu\n"
          ]
        },
        {
          "output_type": "stream",
          "name": "stdout",
          "text": [
            "✅ Gerando documentação...\n",
            "✅ Liberando modelo...\n",
            "🧠 Gerando descrição para o campo: uuid\n",
            "✅ Carregando modelo...\n"
          ]
        },
        {
          "output_type": "stream",
          "name": "stderr",
          "text": [
            "Device set to use cpu\n"
          ]
        },
        {
          "output_type": "stream",
          "name": "stdout",
          "text": [
            "✅ Gerando documentação...\n",
            "✅ Liberando modelo...\n",
            "🧠 Gerando descrição para o campo: displayName\n",
            "✅ Carregando modelo...\n"
          ]
        },
        {
          "output_type": "stream",
          "name": "stderr",
          "text": [
            "Device set to use cpu\n"
          ]
        },
        {
          "output_type": "stream",
          "name": "stdout",
          "text": [
            "✅ Gerando documentação...\n",
            "✅ Liberando modelo...\n",
            "🧠 Gerando descrição para o campo: description\n",
            "✅ Carregando modelo...\n"
          ]
        },
        {
          "output_type": "stream",
          "name": "stderr",
          "text": [
            "Device set to use cpu\n"
          ]
        },
        {
          "output_type": "stream",
          "name": "stdout",
          "text": [
            "✅ Gerando documentação...\n",
            "✅ Liberando modelo...\n",
            "🧠 Gerando descrição para o campo: developerName\n",
            "✅ Carregando modelo...\n"
          ]
        },
        {
          "output_type": "stream",
          "name": "stderr",
          "text": [
            "Device set to use cpu\n"
          ]
        },
        {
          "output_type": "stream",
          "name": "stdout",
          "text": [
            "✅ Gerando documentação...\n",
            "✅ Liberando modelo...\n",
            "🧠 Gerando descrição para o campo: releaseDate\n",
            "✅ Carregando modelo...\n"
          ]
        },
        {
          "output_type": "stream",
          "name": "stderr",
          "text": [
            "Device set to use cpu\n"
          ]
        },
        {
          "output_type": "stream",
          "name": "stdout",
          "text": [
            "✅ Gerando documentação...\n",
            "✅ Liberando modelo...\n",
            "🧠 Gerando descrição para o campo: characterTags\n",
            "✅ Carregando modelo...\n"
          ]
        },
        {
          "output_type": "stream",
          "name": "stderr",
          "text": [
            "Device set to use cpu\n"
          ]
        },
        {
          "output_type": "stream",
          "name": "stdout",
          "text": [
            "✅ Gerando documentação...\n",
            "✅ Liberando modelo...\n",
            "🧠 Gerando descrição para o campo: displayIcon\n",
            "✅ Carregando modelo...\n"
          ]
        },
        {
          "output_type": "stream",
          "name": "stderr",
          "text": [
            "Device set to use cpu\n"
          ]
        },
        {
          "output_type": "stream",
          "name": "stdout",
          "text": [
            "✅ Gerando documentação...\n",
            "✅ Liberando modelo...\n",
            "🧠 Gerando descrição para o campo: displayIconSmall\n",
            "✅ Carregando modelo...\n"
          ]
        },
        {
          "output_type": "stream",
          "name": "stderr",
          "text": [
            "Device set to use cpu\n"
          ]
        },
        {
          "output_type": "stream",
          "name": "stdout",
          "text": [
            "✅ Gerando documentação...\n",
            "✅ Liberando modelo...\n",
            "🧠 Gerando descrição para o campo: bustPortrait\n",
            "✅ Carregando modelo...\n"
          ]
        },
        {
          "output_type": "stream",
          "name": "stderr",
          "text": [
            "Device set to use cpu\n"
          ]
        },
        {
          "output_type": "stream",
          "name": "stdout",
          "text": [
            "✅ Gerando documentação...\n",
            "✅ Liberando modelo...\n",
            "🧠 Gerando descrição para o campo: fullPortrait\n",
            "✅ Carregando modelo...\n"
          ]
        },
        {
          "output_type": "stream",
          "name": "stderr",
          "text": [
            "Device set to use cpu\n"
          ]
        },
        {
          "output_type": "stream",
          "name": "stdout",
          "text": [
            "✅ Gerando documentação...\n",
            "✅ Liberando modelo...\n",
            "🧠 Gerando descrição para o campo: fullPortraitV2\n",
            "✅ Carregando modelo...\n"
          ]
        },
        {
          "output_type": "stream",
          "name": "stderr",
          "text": [
            "Device set to use cpu\n"
          ]
        },
        {
          "output_type": "stream",
          "name": "stdout",
          "text": [
            "✅ Gerando documentação...\n",
            "✅ Liberando modelo...\n",
            "🧠 Gerando descrição para o campo: killfeedPortrait\n",
            "✅ Carregando modelo...\n"
          ]
        },
        {
          "output_type": "stream",
          "name": "stderr",
          "text": [
            "Device set to use cpu\n"
          ]
        },
        {
          "output_type": "stream",
          "name": "stdout",
          "text": [
            "✅ Gerando documentação...\n",
            "✅ Liberando modelo...\n",
            "🧠 Gerando descrição para o campo: background\n",
            "✅ Carregando modelo...\n"
          ]
        },
        {
          "output_type": "stream",
          "name": "stderr",
          "text": [
            "Device set to use cpu\n"
          ]
        },
        {
          "output_type": "stream",
          "name": "stdout",
          "text": [
            "✅ Gerando documentação...\n",
            "✅ Liberando modelo...\n",
            "🧠 Gerando descrição para o campo: backgroundGradientColors\n",
            "✅ Carregando modelo...\n"
          ]
        },
        {
          "output_type": "stream",
          "name": "stderr",
          "text": [
            "Device set to use cpu\n"
          ]
        },
        {
          "output_type": "stream",
          "name": "stdout",
          "text": [
            "✅ Gerando documentação...\n",
            "✅ Liberando modelo...\n",
            "🧠 Gerando descrição para o campo: assetPath\n",
            "✅ Carregando modelo...\n"
          ]
        },
        {
          "output_type": "stream",
          "name": "stderr",
          "text": [
            "Device set to use cpu\n"
          ]
        },
        {
          "output_type": "stream",
          "name": "stdout",
          "text": [
            "✅ Gerando documentação...\n",
            "✅ Liberando modelo...\n",
            "🧠 Gerando descrição para o campo: isFullPortraitRightFacing\n",
            "✅ Carregando modelo...\n"
          ]
        },
        {
          "output_type": "stream",
          "name": "stderr",
          "text": [
            "Device set to use cpu\n"
          ]
        },
        {
          "output_type": "stream",
          "name": "stdout",
          "text": [
            "✅ Gerando documentação...\n",
            "✅ Liberando modelo...\n",
            "🧠 Gerando descrição para o campo: isPlayableCharacter\n",
            "✅ Carregando modelo...\n"
          ]
        },
        {
          "output_type": "stream",
          "name": "stderr",
          "text": [
            "Device set to use cpu\n"
          ]
        },
        {
          "output_type": "stream",
          "name": "stdout",
          "text": [
            "✅ Gerando documentação...\n",
            "✅ Liberando modelo...\n",
            "🧠 Gerando descrição para o campo: isAvailableForTest\n",
            "✅ Carregando modelo...\n"
          ]
        },
        {
          "output_type": "stream",
          "name": "stderr",
          "text": [
            "Device set to use cpu\n"
          ]
        },
        {
          "output_type": "stream",
          "name": "stdout",
          "text": [
            "✅ Gerando documentação...\n",
            "✅ Liberando modelo...\n",
            "🧠 Gerando descrição para o campo: isBaseContent\n",
            "✅ Carregando modelo...\n"
          ]
        },
        {
          "output_type": "stream",
          "name": "stderr",
          "text": [
            "Device set to use cpu\n"
          ]
        },
        {
          "output_type": "stream",
          "name": "stdout",
          "text": [
            "✅ Gerando documentação...\n",
            "✅ Liberando modelo...\n",
            "🧠 Gerando descrição para o campo: role.uuid\n",
            "✅ Carregando modelo...\n"
          ]
        },
        {
          "output_type": "stream",
          "name": "stderr",
          "text": [
            "Device set to use cpu\n"
          ]
        },
        {
          "output_type": "stream",
          "name": "stdout",
          "text": [
            "✅ Gerando documentação...\n",
            "✅ Liberando modelo...\n",
            "🧠 Gerando descrição para o campo: role.displayName\n",
            "✅ Carregando modelo...\n"
          ]
        },
        {
          "output_type": "stream",
          "name": "stderr",
          "text": [
            "Device set to use cpu\n"
          ]
        },
        {
          "output_type": "stream",
          "name": "stdout",
          "text": [
            "✅ Gerando documentação...\n",
            "✅ Liberando modelo...\n",
            "🧠 Gerando descrição para o campo: role.description\n",
            "✅ Carregando modelo...\n"
          ]
        },
        {
          "output_type": "stream",
          "name": "stderr",
          "text": [
            "Device set to use cpu\n"
          ]
        },
        {
          "output_type": "stream",
          "name": "stdout",
          "text": [
            "✅ Gerando documentação...\n",
            "✅ Liberando modelo...\n",
            "🧠 Gerando descrição para o campo: role.displayIcon\n",
            "✅ Carregando modelo...\n"
          ]
        },
        {
          "output_type": "stream",
          "name": "stderr",
          "text": [
            "Device set to use cpu\n"
          ]
        },
        {
          "output_type": "stream",
          "name": "stdout",
          "text": [
            "✅ Gerando documentação...\n",
            "✅ Liberando modelo...\n",
            "🧠 Gerando descrição para o campo: role.assetPath\n",
            "✅ Carregando modelo...\n"
          ]
        },
        {
          "output_type": "stream",
          "name": "stderr",
          "text": [
            "Device set to use cpu\n"
          ]
        },
        {
          "output_type": "stream",
          "name": "stdout",
          "text": [
            "✅ Gerando documentação...\n",
            "✅ Liberando modelo...\n",
            "🧠 Gerando descrição para o campo: recruitmentData\n",
            "✅ Carregando modelo...\n"
          ]
        },
        {
          "output_type": "stream",
          "name": "stderr",
          "text": [
            "Device set to use cpu\n"
          ]
        },
        {
          "output_type": "stream",
          "name": "stdout",
          "text": [
            "✅ Gerando documentação...\n",
            "✅ Liberando modelo...\n",
            "🧠 Gerando descrição para o campo: abilities\n",
            "✅ Carregando modelo...\n"
          ]
        },
        {
          "output_type": "stream",
          "name": "stderr",
          "text": [
            "Device set to use cpu\n"
          ]
        },
        {
          "output_type": "stream",
          "name": "stdout",
          "text": [
            "✅ Gerando documentação...\n",
            "✅ Liberando modelo...\n",
            "🧠 Gerando descrição para o campo: voiceLine\n",
            "✅ Carregando modelo...\n"
          ]
        },
        {
          "output_type": "stream",
          "name": "stderr",
          "text": [
            "Device set to use cpu\n"
          ]
        },
        {
          "output_type": "stream",
          "name": "stdout",
          "text": [
            "✅ Gerando documentação...\n",
            "✅ Liberando modelo...\n",
            "✅ Documentação gerada para omen.json\n",
            "📄 Gerando documentação para: fade.json\n",
            "✅ Carregando modelo...\n"
          ]
        },
        {
          "output_type": "stream",
          "name": "stderr",
          "text": [
            "Device set to use cpu\n"
          ]
        },
        {
          "output_type": "stream",
          "name": "stdout",
          "text": [
            "✅ Gerando documentação...\n",
            "✅ Liberando modelo...\n",
            "🧠 Gerando descrição para o campo: uuid\n",
            "✅ Carregando modelo...\n"
          ]
        },
        {
          "output_type": "stream",
          "name": "stderr",
          "text": [
            "Device set to use cpu\n"
          ]
        },
        {
          "output_type": "stream",
          "name": "stdout",
          "text": [
            "✅ Gerando documentação...\n",
            "✅ Liberando modelo...\n",
            "🧠 Gerando descrição para o campo: displayName\n",
            "✅ Carregando modelo...\n"
          ]
        },
        {
          "output_type": "stream",
          "name": "stderr",
          "text": [
            "Device set to use cpu\n"
          ]
        },
        {
          "output_type": "stream",
          "name": "stdout",
          "text": [
            "✅ Gerando documentação...\n",
            "✅ Liberando modelo...\n",
            "🧠 Gerando descrição para o campo: description\n",
            "✅ Carregando modelo...\n"
          ]
        },
        {
          "output_type": "stream",
          "name": "stderr",
          "text": [
            "Device set to use cpu\n"
          ]
        },
        {
          "output_type": "stream",
          "name": "stdout",
          "text": [
            "✅ Gerando documentação...\n",
            "✅ Liberando modelo...\n",
            "🧠 Gerando descrição para o campo: developerName\n",
            "✅ Carregando modelo...\n"
          ]
        },
        {
          "output_type": "stream",
          "name": "stderr",
          "text": [
            "Device set to use cpu\n"
          ]
        },
        {
          "output_type": "stream",
          "name": "stdout",
          "text": [
            "✅ Gerando documentação...\n",
            "✅ Liberando modelo...\n",
            "🧠 Gerando descrição para o campo: releaseDate\n",
            "✅ Carregando modelo...\n"
          ]
        },
        {
          "output_type": "stream",
          "name": "stderr",
          "text": [
            "Device set to use cpu\n"
          ]
        },
        {
          "output_type": "stream",
          "name": "stdout",
          "text": [
            "✅ Gerando documentação...\n",
            "✅ Liberando modelo...\n",
            "🧠 Gerando descrição para o campo: characterTags\n",
            "✅ Carregando modelo...\n"
          ]
        },
        {
          "output_type": "stream",
          "name": "stderr",
          "text": [
            "Device set to use cpu\n"
          ]
        },
        {
          "output_type": "stream",
          "name": "stdout",
          "text": [
            "✅ Gerando documentação...\n",
            "✅ Liberando modelo...\n",
            "🧠 Gerando descrição para o campo: displayIcon\n",
            "✅ Carregando modelo...\n"
          ]
        },
        {
          "output_type": "stream",
          "name": "stderr",
          "text": [
            "Device set to use cpu\n"
          ]
        },
        {
          "output_type": "stream",
          "name": "stdout",
          "text": [
            "✅ Gerando documentação...\n",
            "✅ Liberando modelo...\n",
            "🧠 Gerando descrição para o campo: displayIconSmall\n",
            "✅ Carregando modelo...\n"
          ]
        },
        {
          "output_type": "stream",
          "name": "stderr",
          "text": [
            "Device set to use cpu\n"
          ]
        },
        {
          "output_type": "stream",
          "name": "stdout",
          "text": [
            "✅ Gerando documentação...\n",
            "✅ Liberando modelo...\n",
            "🧠 Gerando descrição para o campo: bustPortrait\n",
            "✅ Carregando modelo...\n"
          ]
        },
        {
          "output_type": "stream",
          "name": "stderr",
          "text": [
            "Device set to use cpu\n"
          ]
        },
        {
          "output_type": "stream",
          "name": "stdout",
          "text": [
            "✅ Gerando documentação...\n",
            "✅ Liberando modelo...\n",
            "🧠 Gerando descrição para o campo: fullPortrait\n",
            "✅ Carregando modelo...\n"
          ]
        },
        {
          "output_type": "stream",
          "name": "stderr",
          "text": [
            "Device set to use cpu\n"
          ]
        },
        {
          "output_type": "stream",
          "name": "stdout",
          "text": [
            "✅ Gerando documentação...\n",
            "✅ Liberando modelo...\n",
            "🧠 Gerando descrição para o campo: fullPortraitV2\n",
            "✅ Carregando modelo...\n"
          ]
        },
        {
          "output_type": "stream",
          "name": "stderr",
          "text": [
            "Device set to use cpu\n"
          ]
        },
        {
          "output_type": "stream",
          "name": "stdout",
          "text": [
            "✅ Gerando documentação...\n",
            "✅ Liberando modelo...\n",
            "🧠 Gerando descrição para o campo: killfeedPortrait\n",
            "✅ Carregando modelo...\n"
          ]
        },
        {
          "output_type": "stream",
          "name": "stderr",
          "text": [
            "Device set to use cpu\n"
          ]
        },
        {
          "output_type": "stream",
          "name": "stdout",
          "text": [
            "✅ Gerando documentação...\n",
            "✅ Liberando modelo...\n",
            "🧠 Gerando descrição para o campo: background\n",
            "✅ Carregando modelo...\n"
          ]
        },
        {
          "output_type": "stream",
          "name": "stderr",
          "text": [
            "Device set to use cpu\n"
          ]
        },
        {
          "output_type": "stream",
          "name": "stdout",
          "text": [
            "✅ Gerando documentação...\n",
            "✅ Liberando modelo...\n",
            "🧠 Gerando descrição para o campo: backgroundGradientColors\n",
            "✅ Carregando modelo...\n"
          ]
        },
        {
          "output_type": "stream",
          "name": "stderr",
          "text": [
            "Device set to use cpu\n"
          ]
        },
        {
          "output_type": "stream",
          "name": "stdout",
          "text": [
            "✅ Gerando documentação...\n",
            "✅ Liberando modelo...\n",
            "🧠 Gerando descrição para o campo: assetPath\n",
            "✅ Carregando modelo...\n"
          ]
        },
        {
          "output_type": "stream",
          "name": "stderr",
          "text": [
            "Device set to use cpu\n"
          ]
        },
        {
          "output_type": "stream",
          "name": "stdout",
          "text": [
            "✅ Gerando documentação...\n",
            "✅ Liberando modelo...\n",
            "🧠 Gerando descrição para o campo: isFullPortraitRightFacing\n",
            "✅ Carregando modelo...\n"
          ]
        },
        {
          "output_type": "stream",
          "name": "stderr",
          "text": [
            "Device set to use cpu\n"
          ]
        },
        {
          "output_type": "stream",
          "name": "stdout",
          "text": [
            "✅ Gerando documentação...\n",
            "✅ Liberando modelo...\n",
            "🧠 Gerando descrição para o campo: isPlayableCharacter\n",
            "✅ Carregando modelo...\n"
          ]
        },
        {
          "output_type": "stream",
          "name": "stderr",
          "text": [
            "Device set to use cpu\n"
          ]
        },
        {
          "output_type": "stream",
          "name": "stdout",
          "text": [
            "✅ Gerando documentação...\n",
            "✅ Liberando modelo...\n",
            "🧠 Gerando descrição para o campo: isAvailableForTest\n",
            "✅ Carregando modelo...\n"
          ]
        },
        {
          "output_type": "stream",
          "name": "stderr",
          "text": [
            "Device set to use cpu\n"
          ]
        },
        {
          "output_type": "stream",
          "name": "stdout",
          "text": [
            "✅ Gerando documentação...\n",
            "✅ Liberando modelo...\n",
            "🧠 Gerando descrição para o campo: isBaseContent\n",
            "✅ Carregando modelo...\n"
          ]
        },
        {
          "output_type": "stream",
          "name": "stderr",
          "text": [
            "Device set to use cpu\n"
          ]
        },
        {
          "output_type": "stream",
          "name": "stdout",
          "text": [
            "✅ Gerando documentação...\n",
            "✅ Liberando modelo...\n",
            "🧠 Gerando descrição para o campo: role.uuid\n",
            "✅ Carregando modelo...\n"
          ]
        },
        {
          "output_type": "stream",
          "name": "stderr",
          "text": [
            "Device set to use cpu\n"
          ]
        },
        {
          "output_type": "stream",
          "name": "stdout",
          "text": [
            "✅ Gerando documentação...\n",
            "✅ Liberando modelo...\n",
            "🧠 Gerando descrição para o campo: role.displayName\n",
            "✅ Carregando modelo...\n"
          ]
        },
        {
          "output_type": "stream",
          "name": "stderr",
          "text": [
            "Device set to use cpu\n"
          ]
        },
        {
          "output_type": "stream",
          "name": "stdout",
          "text": [
            "✅ Gerando documentação...\n",
            "✅ Liberando modelo...\n",
            "🧠 Gerando descrição para o campo: role.description\n",
            "✅ Carregando modelo...\n"
          ]
        },
        {
          "output_type": "stream",
          "name": "stderr",
          "text": [
            "Device set to use cpu\n"
          ]
        },
        {
          "output_type": "stream",
          "name": "stdout",
          "text": [
            "✅ Gerando documentação...\n",
            "✅ Liberando modelo...\n",
            "🧠 Gerando descrição para o campo: role.displayIcon\n",
            "✅ Carregando modelo...\n"
          ]
        },
        {
          "output_type": "stream",
          "name": "stderr",
          "text": [
            "Device set to use cpu\n"
          ]
        },
        {
          "output_type": "stream",
          "name": "stdout",
          "text": [
            "✅ Gerando documentação...\n",
            "✅ Liberando modelo...\n",
            "🧠 Gerando descrição para o campo: role.assetPath\n",
            "✅ Carregando modelo...\n"
          ]
        },
        {
          "output_type": "stream",
          "name": "stderr",
          "text": [
            "Device set to use cpu\n"
          ]
        },
        {
          "output_type": "stream",
          "name": "stdout",
          "text": [
            "✅ Gerando documentação...\n",
            "✅ Liberando modelo...\n",
            "🧠 Gerando descrição para o campo: recruitmentData\n",
            "✅ Carregando modelo...\n"
          ]
        },
        {
          "output_type": "stream",
          "name": "stderr",
          "text": [
            "Device set to use cpu\n"
          ]
        },
        {
          "output_type": "stream",
          "name": "stdout",
          "text": [
            "✅ Gerando documentação...\n",
            "✅ Liberando modelo...\n",
            "🧠 Gerando descrição para o campo: abilities\n",
            "✅ Carregando modelo...\n"
          ]
        },
        {
          "output_type": "stream",
          "name": "stderr",
          "text": [
            "Device set to use cpu\n"
          ]
        },
        {
          "output_type": "stream",
          "name": "stdout",
          "text": [
            "✅ Gerando documentação...\n",
            "✅ Liberando modelo...\n",
            "🧠 Gerando descrição para o campo: voiceLine\n",
            "✅ Carregando modelo...\n"
          ]
        },
        {
          "output_type": "stream",
          "name": "stderr",
          "text": [
            "Device set to use cpu\n"
          ]
        },
        {
          "output_type": "stream",
          "name": "stdout",
          "text": [
            "✅ Gerando documentação...\n",
            "✅ Liberando modelo...\n",
            "✅ Documentação gerada para fade.json\n",
            "📄 Gerando documentação para: deadlock.json\n",
            "✅ Carregando modelo...\n"
          ]
        },
        {
          "output_type": "stream",
          "name": "stderr",
          "text": [
            "Device set to use cpu\n"
          ]
        },
        {
          "output_type": "stream",
          "name": "stdout",
          "text": [
            "✅ Gerando documentação...\n",
            "✅ Liberando modelo...\n",
            "🧠 Gerando descrição para o campo: uuid\n",
            "✅ Carregando modelo...\n"
          ]
        },
        {
          "output_type": "stream",
          "name": "stderr",
          "text": [
            "Device set to use cpu\n"
          ]
        },
        {
          "output_type": "stream",
          "name": "stdout",
          "text": [
            "✅ Gerando documentação...\n",
            "✅ Liberando modelo...\n",
            "🧠 Gerando descrição para o campo: displayName\n",
            "✅ Carregando modelo...\n"
          ]
        },
        {
          "output_type": "stream",
          "name": "stderr",
          "text": [
            "Device set to use cpu\n"
          ]
        },
        {
          "output_type": "stream",
          "name": "stdout",
          "text": [
            "✅ Gerando documentação...\n",
            "✅ Liberando modelo...\n",
            "🧠 Gerando descrição para o campo: description\n",
            "✅ Carregando modelo...\n"
          ]
        },
        {
          "output_type": "stream",
          "name": "stderr",
          "text": [
            "Device set to use cpu\n"
          ]
        },
        {
          "output_type": "stream",
          "name": "stdout",
          "text": [
            "✅ Gerando documentação...\n",
            "✅ Liberando modelo...\n",
            "🧠 Gerando descrição para o campo: developerName\n",
            "✅ Carregando modelo...\n"
          ]
        },
        {
          "output_type": "stream",
          "name": "stderr",
          "text": [
            "Device set to use cpu\n"
          ]
        },
        {
          "output_type": "stream",
          "name": "stdout",
          "text": [
            "✅ Gerando documentação...\n",
            "✅ Liberando modelo...\n",
            "🧠 Gerando descrição para o campo: releaseDate\n",
            "✅ Carregando modelo...\n"
          ]
        },
        {
          "output_type": "stream",
          "name": "stderr",
          "text": [
            "Device set to use cpu\n"
          ]
        },
        {
          "output_type": "stream",
          "name": "stdout",
          "text": [
            "✅ Gerando documentação...\n",
            "✅ Liberando modelo...\n",
            "🧠 Gerando descrição para o campo: characterTags\n",
            "✅ Carregando modelo...\n"
          ]
        },
        {
          "output_type": "stream",
          "name": "stderr",
          "text": [
            "Device set to use cpu\n"
          ]
        },
        {
          "output_type": "stream",
          "name": "stdout",
          "text": [
            "✅ Gerando documentação...\n",
            "✅ Liberando modelo...\n",
            "🧠 Gerando descrição para o campo: displayIcon\n",
            "✅ Carregando modelo...\n"
          ]
        },
        {
          "output_type": "stream",
          "name": "stderr",
          "text": [
            "Device set to use cpu\n"
          ]
        },
        {
          "output_type": "stream",
          "name": "stdout",
          "text": [
            "✅ Gerando documentação...\n",
            "✅ Liberando modelo...\n",
            "🧠 Gerando descrição para o campo: displayIconSmall\n",
            "✅ Carregando modelo...\n"
          ]
        },
        {
          "output_type": "stream",
          "name": "stderr",
          "text": [
            "Device set to use cpu\n"
          ]
        },
        {
          "output_type": "stream",
          "name": "stdout",
          "text": [
            "✅ Gerando documentação...\n",
            "✅ Liberando modelo...\n",
            "🧠 Gerando descrição para o campo: bustPortrait\n",
            "✅ Carregando modelo...\n"
          ]
        },
        {
          "output_type": "stream",
          "name": "stderr",
          "text": [
            "Device set to use cpu\n"
          ]
        },
        {
          "output_type": "stream",
          "name": "stdout",
          "text": [
            "✅ Gerando documentação...\n",
            "✅ Liberando modelo...\n",
            "🧠 Gerando descrição para o campo: fullPortrait\n",
            "✅ Carregando modelo...\n"
          ]
        },
        {
          "output_type": "stream",
          "name": "stderr",
          "text": [
            "Device set to use cpu\n"
          ]
        },
        {
          "output_type": "stream",
          "name": "stdout",
          "text": [
            "✅ Gerando documentação...\n",
            "✅ Liberando modelo...\n",
            "🧠 Gerando descrição para o campo: fullPortraitV2\n",
            "✅ Carregando modelo...\n"
          ]
        },
        {
          "output_type": "stream",
          "name": "stderr",
          "text": [
            "Device set to use cpu\n"
          ]
        },
        {
          "output_type": "stream",
          "name": "stdout",
          "text": [
            "✅ Gerando documentação...\n",
            "✅ Liberando modelo...\n",
            "🧠 Gerando descrição para o campo: killfeedPortrait\n",
            "✅ Carregando modelo...\n"
          ]
        },
        {
          "output_type": "stream",
          "name": "stderr",
          "text": [
            "Device set to use cpu\n"
          ]
        },
        {
          "output_type": "stream",
          "name": "stdout",
          "text": [
            "✅ Gerando documentação...\n",
            "✅ Liberando modelo...\n",
            "🧠 Gerando descrição para o campo: background\n",
            "✅ Carregando modelo...\n"
          ]
        },
        {
          "output_type": "stream",
          "name": "stderr",
          "text": [
            "Device set to use cpu\n"
          ]
        },
        {
          "output_type": "stream",
          "name": "stdout",
          "text": [
            "✅ Gerando documentação...\n",
            "✅ Liberando modelo...\n",
            "🧠 Gerando descrição para o campo: backgroundGradientColors\n",
            "✅ Carregando modelo...\n"
          ]
        },
        {
          "output_type": "stream",
          "name": "stderr",
          "text": [
            "Device set to use cpu\n"
          ]
        },
        {
          "output_type": "stream",
          "name": "stdout",
          "text": [
            "✅ Gerando documentação...\n",
            "✅ Liberando modelo...\n",
            "🧠 Gerando descrição para o campo: assetPath\n",
            "✅ Carregando modelo...\n"
          ]
        },
        {
          "output_type": "stream",
          "name": "stderr",
          "text": [
            "Device set to use cpu\n"
          ]
        },
        {
          "output_type": "stream",
          "name": "stdout",
          "text": [
            "✅ Gerando documentação...\n",
            "✅ Liberando modelo...\n",
            "🧠 Gerando descrição para o campo: isFullPortraitRightFacing\n",
            "✅ Carregando modelo...\n"
          ]
        },
        {
          "output_type": "stream",
          "name": "stderr",
          "text": [
            "Device set to use cpu\n"
          ]
        },
        {
          "output_type": "stream",
          "name": "stdout",
          "text": [
            "✅ Gerando documentação...\n",
            "✅ Liberando modelo...\n",
            "🧠 Gerando descrição para o campo: isPlayableCharacter\n",
            "✅ Carregando modelo...\n"
          ]
        },
        {
          "output_type": "stream",
          "name": "stderr",
          "text": [
            "Device set to use cpu\n"
          ]
        },
        {
          "output_type": "stream",
          "name": "stdout",
          "text": [
            "✅ Gerando documentação...\n",
            "✅ Liberando modelo...\n",
            "🧠 Gerando descrição para o campo: isAvailableForTest\n",
            "✅ Carregando modelo...\n"
          ]
        },
        {
          "output_type": "stream",
          "name": "stderr",
          "text": [
            "Device set to use cpu\n"
          ]
        },
        {
          "output_type": "stream",
          "name": "stdout",
          "text": [
            "✅ Gerando documentação...\n",
            "✅ Liberando modelo...\n",
            "🧠 Gerando descrição para o campo: isBaseContent\n",
            "✅ Carregando modelo...\n"
          ]
        },
        {
          "output_type": "stream",
          "name": "stderr",
          "text": [
            "Device set to use cpu\n"
          ]
        },
        {
          "output_type": "stream",
          "name": "stdout",
          "text": [
            "✅ Gerando documentação...\n",
            "✅ Liberando modelo...\n",
            "🧠 Gerando descrição para o campo: role.uuid\n",
            "✅ Carregando modelo...\n"
          ]
        },
        {
          "output_type": "stream",
          "name": "stderr",
          "text": [
            "Device set to use cpu\n"
          ]
        },
        {
          "output_type": "stream",
          "name": "stdout",
          "text": [
            "✅ Gerando documentação...\n",
            "✅ Liberando modelo...\n",
            "🧠 Gerando descrição para o campo: role.displayName\n",
            "✅ Carregando modelo...\n"
          ]
        },
        {
          "output_type": "stream",
          "name": "stderr",
          "text": [
            "Device set to use cpu\n"
          ]
        },
        {
          "output_type": "stream",
          "name": "stdout",
          "text": [
            "✅ Gerando documentação...\n",
            "✅ Liberando modelo...\n",
            "🧠 Gerando descrição para o campo: role.description\n",
            "✅ Carregando modelo...\n"
          ]
        },
        {
          "output_type": "stream",
          "name": "stderr",
          "text": [
            "Device set to use cpu\n"
          ]
        },
        {
          "output_type": "stream",
          "name": "stdout",
          "text": [
            "✅ Gerando documentação...\n",
            "✅ Liberando modelo...\n",
            "🧠 Gerando descrição para o campo: role.displayIcon\n",
            "✅ Carregando modelo...\n"
          ]
        },
        {
          "output_type": "stream",
          "name": "stderr",
          "text": [
            "Device set to use cpu\n"
          ]
        },
        {
          "output_type": "stream",
          "name": "stdout",
          "text": [
            "✅ Gerando documentação...\n",
            "✅ Liberando modelo...\n",
            "🧠 Gerando descrição para o campo: role.assetPath\n",
            "✅ Carregando modelo...\n"
          ]
        },
        {
          "output_type": "stream",
          "name": "stderr",
          "text": [
            "Device set to use cpu\n"
          ]
        },
        {
          "output_type": "stream",
          "name": "stdout",
          "text": [
            "✅ Gerando documentação...\n",
            "✅ Liberando modelo...\n",
            "🧠 Gerando descrição para o campo: recruitmentData.counterId\n",
            "✅ Carregando modelo...\n"
          ]
        },
        {
          "output_type": "stream",
          "name": "stderr",
          "text": [
            "Device set to use cpu\n"
          ]
        },
        {
          "output_type": "stream",
          "name": "stdout",
          "text": [
            "✅ Gerando documentação...\n",
            "✅ Liberando modelo...\n",
            "🧠 Gerando descrição para o campo: recruitmentData.milestoneId\n",
            "✅ Carregando modelo...\n"
          ]
        },
        {
          "output_type": "stream",
          "name": "stderr",
          "text": [
            "Device set to use cpu\n"
          ]
        },
        {
          "output_type": "stream",
          "name": "stdout",
          "text": [
            "✅ Gerando documentação...\n",
            "✅ Liberando modelo...\n",
            "🧠 Gerando descrição para o campo: recruitmentData.milestoneThreshold\n",
            "✅ Carregando modelo...\n"
          ]
        },
        {
          "output_type": "stream",
          "name": "stderr",
          "text": [
            "Device set to use cpu\n"
          ]
        },
        {
          "output_type": "stream",
          "name": "stdout",
          "text": [
            "✅ Gerando documentação...\n",
            "✅ Liberando modelo...\n",
            "🧠 Gerando descrição para o campo: recruitmentData.useLevelVpCostOverride\n",
            "✅ Carregando modelo...\n"
          ]
        },
        {
          "output_type": "stream",
          "name": "stderr",
          "text": [
            "Device set to use cpu\n"
          ]
        },
        {
          "output_type": "stream",
          "name": "stdout",
          "text": [
            "✅ Gerando documentação...\n",
            "✅ Liberando modelo...\n",
            "🧠 Gerando descrição para o campo: recruitmentData.levelVpCostOverride\n",
            "✅ Carregando modelo...\n"
          ]
        },
        {
          "output_type": "stream",
          "name": "stderr",
          "text": [
            "Device set to use cpu\n"
          ]
        },
        {
          "output_type": "stream",
          "name": "stdout",
          "text": [
            "✅ Gerando documentação...\n",
            "✅ Liberando modelo...\n",
            "🧠 Gerando descrição para o campo: recruitmentData.startDate\n",
            "✅ Carregando modelo...\n"
          ]
        },
        {
          "output_type": "stream",
          "name": "stderr",
          "text": [
            "Device set to use cpu\n"
          ]
        },
        {
          "output_type": "stream",
          "name": "stdout",
          "text": [
            "✅ Gerando documentação...\n",
            "✅ Liberando modelo...\n",
            "🧠 Gerando descrição para o campo: recruitmentData.endDate\n",
            "✅ Carregando modelo...\n"
          ]
        },
        {
          "output_type": "stream",
          "name": "stderr",
          "text": [
            "Device set to use cpu\n"
          ]
        },
        {
          "output_type": "stream",
          "name": "stdout",
          "text": [
            "✅ Gerando documentação...\n",
            "✅ Liberando modelo...\n",
            "🧠 Gerando descrição para o campo: abilities\n",
            "✅ Carregando modelo...\n"
          ]
        },
        {
          "output_type": "stream",
          "name": "stderr",
          "text": [
            "Device set to use cpu\n"
          ]
        },
        {
          "output_type": "stream",
          "name": "stdout",
          "text": [
            "✅ Gerando documentação...\n",
            "✅ Liberando modelo...\n",
            "🧠 Gerando descrição para o campo: voiceLine\n",
            "✅ Carregando modelo...\n"
          ]
        },
        {
          "output_type": "stream",
          "name": "stderr",
          "text": [
            "Device set to use cpu\n"
          ]
        },
        {
          "output_type": "stream",
          "name": "stdout",
          "text": [
            "✅ Gerando documentação...\n",
            "✅ Liberando modelo...\n",
            "✅ Documentação gerada para deadlock.json\n",
            "📄 Gerando documentação para: gekko.json\n",
            "✅ Carregando modelo...\n"
          ]
        },
        {
          "output_type": "stream",
          "name": "stderr",
          "text": [
            "Device set to use cpu\n"
          ]
        },
        {
          "output_type": "stream",
          "name": "stdout",
          "text": [
            "✅ Gerando documentação...\n",
            "✅ Liberando modelo...\n",
            "🧠 Gerando descrição para o campo: uuid\n",
            "✅ Carregando modelo...\n"
          ]
        },
        {
          "output_type": "stream",
          "name": "stderr",
          "text": [
            "Device set to use cpu\n"
          ]
        },
        {
          "output_type": "stream",
          "name": "stdout",
          "text": [
            "✅ Gerando documentação...\n",
            "✅ Liberando modelo...\n",
            "🧠 Gerando descrição para o campo: displayName\n",
            "✅ Carregando modelo...\n"
          ]
        },
        {
          "output_type": "stream",
          "name": "stderr",
          "text": [
            "Device set to use cpu\n"
          ]
        },
        {
          "output_type": "stream",
          "name": "stdout",
          "text": [
            "✅ Gerando documentação...\n",
            "✅ Liberando modelo...\n",
            "🧠 Gerando descrição para o campo: description\n",
            "✅ Carregando modelo...\n"
          ]
        },
        {
          "output_type": "stream",
          "name": "stderr",
          "text": [
            "Device set to use cpu\n"
          ]
        },
        {
          "output_type": "stream",
          "name": "stdout",
          "text": [
            "✅ Gerando documentação...\n",
            "✅ Liberando modelo...\n",
            "🧠 Gerando descrição para o campo: developerName\n",
            "✅ Carregando modelo...\n"
          ]
        },
        {
          "output_type": "stream",
          "name": "stderr",
          "text": [
            "Device set to use cpu\n"
          ]
        },
        {
          "output_type": "stream",
          "name": "stdout",
          "text": [
            "✅ Gerando documentação...\n",
            "✅ Liberando modelo...\n",
            "🧠 Gerando descrição para o campo: releaseDate\n",
            "✅ Carregando modelo...\n"
          ]
        },
        {
          "output_type": "stream",
          "name": "stderr",
          "text": [
            "Device set to use cpu\n"
          ]
        },
        {
          "output_type": "stream",
          "name": "stdout",
          "text": [
            "✅ Gerando documentação...\n",
            "✅ Liberando modelo...\n",
            "🧠 Gerando descrição para o campo: characterTags\n",
            "✅ Carregando modelo...\n"
          ]
        },
        {
          "output_type": "stream",
          "name": "stderr",
          "text": [
            "Device set to use cpu\n"
          ]
        },
        {
          "output_type": "stream",
          "name": "stdout",
          "text": [
            "✅ Gerando documentação...\n",
            "✅ Liberando modelo...\n",
            "🧠 Gerando descrição para o campo: displayIcon\n",
            "✅ Carregando modelo...\n"
          ]
        },
        {
          "output_type": "stream",
          "name": "stderr",
          "text": [
            "Device set to use cpu\n"
          ]
        },
        {
          "output_type": "stream",
          "name": "stdout",
          "text": [
            "✅ Gerando documentação...\n",
            "✅ Liberando modelo...\n",
            "🧠 Gerando descrição para o campo: displayIconSmall\n",
            "✅ Carregando modelo...\n"
          ]
        },
        {
          "output_type": "stream",
          "name": "stderr",
          "text": [
            "Device set to use cpu\n"
          ]
        },
        {
          "output_type": "stream",
          "name": "stdout",
          "text": [
            "✅ Gerando documentação...\n",
            "✅ Liberando modelo...\n",
            "🧠 Gerando descrição para o campo: bustPortrait\n",
            "✅ Carregando modelo...\n"
          ]
        },
        {
          "output_type": "stream",
          "name": "stderr",
          "text": [
            "Device set to use cpu\n"
          ]
        },
        {
          "output_type": "stream",
          "name": "stdout",
          "text": [
            "✅ Gerando documentação...\n",
            "✅ Liberando modelo...\n",
            "🧠 Gerando descrição para o campo: fullPortrait\n",
            "✅ Carregando modelo...\n"
          ]
        },
        {
          "output_type": "stream",
          "name": "stderr",
          "text": [
            "Device set to use cpu\n"
          ]
        },
        {
          "output_type": "stream",
          "name": "stdout",
          "text": [
            "✅ Gerando documentação...\n",
            "✅ Liberando modelo...\n",
            "🧠 Gerando descrição para o campo: fullPortraitV2\n",
            "✅ Carregando modelo...\n"
          ]
        },
        {
          "output_type": "stream",
          "name": "stderr",
          "text": [
            "Device set to use cpu\n"
          ]
        },
        {
          "output_type": "stream",
          "name": "stdout",
          "text": [
            "✅ Gerando documentação...\n",
            "✅ Liberando modelo...\n",
            "🧠 Gerando descrição para o campo: killfeedPortrait\n",
            "✅ Carregando modelo...\n"
          ]
        },
        {
          "output_type": "stream",
          "name": "stderr",
          "text": [
            "Device set to use cpu\n"
          ]
        },
        {
          "output_type": "stream",
          "name": "stdout",
          "text": [
            "✅ Gerando documentação...\n",
            "✅ Liberando modelo...\n",
            "🧠 Gerando descrição para o campo: background\n",
            "✅ Carregando modelo...\n"
          ]
        },
        {
          "output_type": "stream",
          "name": "stderr",
          "text": [
            "Device set to use cpu\n"
          ]
        },
        {
          "output_type": "stream",
          "name": "stdout",
          "text": [
            "✅ Gerando documentação...\n",
            "✅ Liberando modelo...\n",
            "🧠 Gerando descrição para o campo: backgroundGradientColors\n",
            "✅ Carregando modelo...\n"
          ]
        },
        {
          "output_type": "stream",
          "name": "stderr",
          "text": [
            "Device set to use cpu\n"
          ]
        },
        {
          "output_type": "stream",
          "name": "stdout",
          "text": [
            "✅ Gerando documentação...\n",
            "✅ Liberando modelo...\n",
            "🧠 Gerando descrição para o campo: assetPath\n",
            "✅ Carregando modelo...\n"
          ]
        },
        {
          "output_type": "stream",
          "name": "stderr",
          "text": [
            "Device set to use cpu\n"
          ]
        },
        {
          "output_type": "stream",
          "name": "stdout",
          "text": [
            "✅ Gerando documentação...\n",
            "✅ Liberando modelo...\n",
            "🧠 Gerando descrição para o campo: isFullPortraitRightFacing\n",
            "✅ Carregando modelo...\n"
          ]
        },
        {
          "output_type": "stream",
          "name": "stderr",
          "text": [
            "Device set to use cpu\n"
          ]
        },
        {
          "output_type": "stream",
          "name": "stdout",
          "text": [
            "✅ Gerando documentação...\n",
            "✅ Liberando modelo...\n",
            "🧠 Gerando descrição para o campo: isPlayableCharacter\n",
            "✅ Carregando modelo...\n"
          ]
        },
        {
          "output_type": "stream",
          "name": "stderr",
          "text": [
            "Device set to use cpu\n"
          ]
        },
        {
          "output_type": "stream",
          "name": "stdout",
          "text": [
            "✅ Gerando documentação...\n",
            "✅ Liberando modelo...\n",
            "🧠 Gerando descrição para o campo: isAvailableForTest\n",
            "✅ Carregando modelo...\n"
          ]
        },
        {
          "output_type": "stream",
          "name": "stderr",
          "text": [
            "Device set to use cpu\n"
          ]
        },
        {
          "output_type": "stream",
          "name": "stdout",
          "text": [
            "✅ Gerando documentação...\n",
            "✅ Liberando modelo...\n",
            "🧠 Gerando descrição para o campo: isBaseContent\n",
            "✅ Carregando modelo...\n"
          ]
        },
        {
          "output_type": "stream",
          "name": "stderr",
          "text": [
            "Device set to use cpu\n"
          ]
        },
        {
          "output_type": "stream",
          "name": "stdout",
          "text": [
            "✅ Gerando documentação...\n",
            "✅ Liberando modelo...\n",
            "🧠 Gerando descrição para o campo: role.uuid\n",
            "✅ Carregando modelo...\n"
          ]
        },
        {
          "output_type": "stream",
          "name": "stderr",
          "text": [
            "Device set to use cpu\n"
          ]
        },
        {
          "output_type": "stream",
          "name": "stdout",
          "text": [
            "✅ Gerando documentação...\n",
            "✅ Liberando modelo...\n",
            "🧠 Gerando descrição para o campo: role.displayName\n",
            "✅ Carregando modelo...\n"
          ]
        },
        {
          "output_type": "stream",
          "name": "stderr",
          "text": [
            "Device set to use cpu\n"
          ]
        },
        {
          "output_type": "stream",
          "name": "stdout",
          "text": [
            "✅ Gerando documentação...\n",
            "✅ Liberando modelo...\n",
            "🧠 Gerando descrição para o campo: role.description\n",
            "✅ Carregando modelo...\n"
          ]
        },
        {
          "output_type": "stream",
          "name": "stderr",
          "text": [
            "Device set to use cpu\n"
          ]
        },
        {
          "output_type": "stream",
          "name": "stdout",
          "text": [
            "✅ Gerando documentação...\n",
            "✅ Liberando modelo...\n",
            "🧠 Gerando descrição para o campo: role.displayIcon\n",
            "✅ Carregando modelo...\n"
          ]
        },
        {
          "output_type": "stream",
          "name": "stderr",
          "text": [
            "Device set to use cpu\n"
          ]
        },
        {
          "output_type": "stream",
          "name": "stdout",
          "text": [
            "✅ Gerando documentação...\n",
            "✅ Liberando modelo...\n",
            "🧠 Gerando descrição para o campo: role.assetPath\n",
            "✅ Carregando modelo...\n"
          ]
        },
        {
          "output_type": "stream",
          "name": "stderr",
          "text": [
            "Device set to use cpu\n"
          ]
        },
        {
          "output_type": "stream",
          "name": "stdout",
          "text": [
            "✅ Gerando documentação...\n",
            "✅ Liberando modelo...\n",
            "🧠 Gerando descrição para o campo: recruitmentData\n",
            "✅ Carregando modelo...\n"
          ]
        },
        {
          "output_type": "stream",
          "name": "stderr",
          "text": [
            "Device set to use cpu\n"
          ]
        },
        {
          "output_type": "stream",
          "name": "stdout",
          "text": [
            "✅ Gerando documentação...\n",
            "✅ Liberando modelo...\n",
            "🧠 Gerando descrição para o campo: abilities\n",
            "✅ Carregando modelo...\n"
          ]
        },
        {
          "output_type": "stream",
          "name": "stderr",
          "text": [
            "Device set to use cpu\n"
          ]
        },
        {
          "output_type": "stream",
          "name": "stdout",
          "text": [
            "✅ Gerando documentação...\n",
            "✅ Liberando modelo...\n",
            "🧠 Gerando descrição para o campo: voiceLine\n",
            "✅ Carregando modelo...\n"
          ]
        },
        {
          "output_type": "stream",
          "name": "stderr",
          "text": [
            "Device set to use cpu\n"
          ]
        },
        {
          "output_type": "stream",
          "name": "stdout",
          "text": [
            "✅ Gerando documentação...\n",
            "✅ Liberando modelo...\n",
            "✅ Documentação gerada para gekko.json\n",
            "📄 Gerando documentação para: killjoy.json\n",
            "✅ Carregando modelo...\n"
          ]
        },
        {
          "output_type": "stream",
          "name": "stderr",
          "text": [
            "Device set to use cpu\n"
          ]
        },
        {
          "output_type": "stream",
          "name": "stdout",
          "text": [
            "✅ Gerando documentação...\n",
            "✅ Liberando modelo...\n",
            "🧠 Gerando descrição para o campo: uuid\n",
            "✅ Carregando modelo...\n"
          ]
        },
        {
          "output_type": "stream",
          "name": "stderr",
          "text": [
            "Device set to use cpu\n"
          ]
        },
        {
          "output_type": "stream",
          "name": "stdout",
          "text": [
            "✅ Gerando documentação...\n",
            "✅ Liberando modelo...\n",
            "🧠 Gerando descrição para o campo: displayName\n",
            "✅ Carregando modelo...\n"
          ]
        },
        {
          "output_type": "stream",
          "name": "stderr",
          "text": [
            "Device set to use cpu\n"
          ]
        },
        {
          "output_type": "stream",
          "name": "stdout",
          "text": [
            "✅ Gerando documentação...\n",
            "✅ Liberando modelo...\n",
            "🧠 Gerando descrição para o campo: description\n",
            "✅ Carregando modelo...\n"
          ]
        },
        {
          "output_type": "stream",
          "name": "stderr",
          "text": [
            "Device set to use cpu\n"
          ]
        },
        {
          "output_type": "stream",
          "name": "stdout",
          "text": [
            "✅ Gerando documentação...\n",
            "✅ Liberando modelo...\n",
            "🧠 Gerando descrição para o campo: developerName\n",
            "✅ Carregando modelo...\n"
          ]
        },
        {
          "output_type": "stream",
          "name": "stderr",
          "text": [
            "Device set to use cpu\n"
          ]
        },
        {
          "output_type": "stream",
          "name": "stdout",
          "text": [
            "✅ Gerando documentação...\n",
            "✅ Liberando modelo...\n",
            "🧠 Gerando descrição para o campo: releaseDate\n",
            "✅ Carregando modelo...\n"
          ]
        },
        {
          "output_type": "stream",
          "name": "stderr",
          "text": [
            "Device set to use cpu\n"
          ]
        },
        {
          "output_type": "stream",
          "name": "stdout",
          "text": [
            "✅ Gerando documentação...\n",
            "✅ Liberando modelo...\n",
            "🧠 Gerando descrição para o campo: characterTags\n",
            "✅ Carregando modelo...\n"
          ]
        },
        {
          "output_type": "stream",
          "name": "stderr",
          "text": [
            "Device set to use cpu\n"
          ]
        },
        {
          "output_type": "stream",
          "name": "stdout",
          "text": [
            "✅ Gerando documentação...\n",
            "✅ Liberando modelo...\n",
            "🧠 Gerando descrição para o campo: displayIcon\n",
            "✅ Carregando modelo...\n"
          ]
        },
        {
          "output_type": "stream",
          "name": "stderr",
          "text": [
            "Device set to use cpu\n"
          ]
        },
        {
          "output_type": "stream",
          "name": "stdout",
          "text": [
            "✅ Gerando documentação...\n",
            "✅ Liberando modelo...\n",
            "🧠 Gerando descrição para o campo: displayIconSmall\n",
            "✅ Carregando modelo...\n"
          ]
        },
        {
          "output_type": "stream",
          "name": "stderr",
          "text": [
            "Device set to use cpu\n"
          ]
        },
        {
          "output_type": "stream",
          "name": "stdout",
          "text": [
            "✅ Gerando documentação...\n",
            "✅ Liberando modelo...\n",
            "🧠 Gerando descrição para o campo: bustPortrait\n",
            "✅ Carregando modelo...\n"
          ]
        },
        {
          "output_type": "stream",
          "name": "stderr",
          "text": [
            "Device set to use cpu\n"
          ]
        },
        {
          "output_type": "stream",
          "name": "stdout",
          "text": [
            "✅ Gerando documentação...\n",
            "✅ Liberando modelo...\n",
            "🧠 Gerando descrição para o campo: fullPortrait\n",
            "✅ Carregando modelo...\n"
          ]
        },
        {
          "output_type": "stream",
          "name": "stderr",
          "text": [
            "Device set to use cpu\n"
          ]
        },
        {
          "output_type": "stream",
          "name": "stdout",
          "text": [
            "✅ Gerando documentação...\n",
            "✅ Liberando modelo...\n",
            "🧠 Gerando descrição para o campo: fullPortraitV2\n",
            "✅ Carregando modelo...\n"
          ]
        },
        {
          "output_type": "stream",
          "name": "stderr",
          "text": [
            "Device set to use cpu\n"
          ]
        },
        {
          "output_type": "stream",
          "name": "stdout",
          "text": [
            "✅ Gerando documentação...\n",
            "✅ Liberando modelo...\n",
            "🧠 Gerando descrição para o campo: killfeedPortrait\n",
            "✅ Carregando modelo...\n"
          ]
        },
        {
          "output_type": "stream",
          "name": "stderr",
          "text": [
            "Device set to use cpu\n"
          ]
        },
        {
          "output_type": "stream",
          "name": "stdout",
          "text": [
            "✅ Gerando documentação...\n",
            "✅ Liberando modelo...\n",
            "🧠 Gerando descrição para o campo: background\n",
            "✅ Carregando modelo...\n"
          ]
        },
        {
          "output_type": "stream",
          "name": "stderr",
          "text": [
            "Device set to use cpu\n"
          ]
        },
        {
          "output_type": "stream",
          "name": "stdout",
          "text": [
            "✅ Gerando documentação...\n",
            "✅ Liberando modelo...\n",
            "🧠 Gerando descrição para o campo: backgroundGradientColors\n",
            "✅ Carregando modelo...\n"
          ]
        },
        {
          "output_type": "stream",
          "name": "stderr",
          "text": [
            "Device set to use cpu\n"
          ]
        },
        {
          "output_type": "stream",
          "name": "stdout",
          "text": [
            "✅ Gerando documentação...\n",
            "✅ Liberando modelo...\n",
            "🧠 Gerando descrição para o campo: assetPath\n",
            "✅ Carregando modelo...\n"
          ]
        },
        {
          "output_type": "stream",
          "name": "stderr",
          "text": [
            "Device set to use cpu\n"
          ]
        },
        {
          "output_type": "stream",
          "name": "stdout",
          "text": [
            "✅ Gerando documentação...\n",
            "✅ Liberando modelo...\n",
            "🧠 Gerando descrição para o campo: isFullPortraitRightFacing\n",
            "✅ Carregando modelo...\n"
          ]
        },
        {
          "output_type": "stream",
          "name": "stderr",
          "text": [
            "Device set to use cpu\n"
          ]
        },
        {
          "output_type": "stream",
          "name": "stdout",
          "text": [
            "✅ Gerando documentação...\n",
            "✅ Liberando modelo...\n",
            "🧠 Gerando descrição para o campo: isPlayableCharacter\n",
            "✅ Carregando modelo...\n"
          ]
        },
        {
          "output_type": "stream",
          "name": "stderr",
          "text": [
            "Device set to use cpu\n"
          ]
        },
        {
          "output_type": "stream",
          "name": "stdout",
          "text": [
            "✅ Gerando documentação...\n",
            "✅ Liberando modelo...\n",
            "🧠 Gerando descrição para o campo: isAvailableForTest\n",
            "✅ Carregando modelo...\n"
          ]
        },
        {
          "output_type": "stream",
          "name": "stderr",
          "text": [
            "Device set to use cpu\n"
          ]
        },
        {
          "output_type": "stream",
          "name": "stdout",
          "text": [
            "✅ Gerando documentação...\n",
            "✅ Liberando modelo...\n",
            "🧠 Gerando descrição para o campo: isBaseContent\n",
            "✅ Carregando modelo...\n"
          ]
        },
        {
          "output_type": "stream",
          "name": "stderr",
          "text": [
            "Device set to use cpu\n"
          ]
        },
        {
          "output_type": "stream",
          "name": "stdout",
          "text": [
            "✅ Gerando documentação...\n",
            "✅ Liberando modelo...\n",
            "🧠 Gerando descrição para o campo: role.uuid\n",
            "✅ Carregando modelo...\n"
          ]
        },
        {
          "output_type": "stream",
          "name": "stderr",
          "text": [
            "Device set to use cpu\n"
          ]
        },
        {
          "output_type": "stream",
          "name": "stdout",
          "text": [
            "✅ Gerando documentação...\n",
            "✅ Liberando modelo...\n",
            "🧠 Gerando descrição para o campo: role.displayName\n",
            "✅ Carregando modelo...\n"
          ]
        },
        {
          "output_type": "stream",
          "name": "stderr",
          "text": [
            "Device set to use cpu\n"
          ]
        },
        {
          "output_type": "stream",
          "name": "stdout",
          "text": [
            "✅ Gerando documentação...\n",
            "✅ Liberando modelo...\n",
            "🧠 Gerando descrição para o campo: role.description\n",
            "✅ Carregando modelo...\n"
          ]
        },
        {
          "output_type": "stream",
          "name": "stderr",
          "text": [
            "Device set to use cpu\n"
          ]
        },
        {
          "output_type": "stream",
          "name": "stdout",
          "text": [
            "✅ Gerando documentação...\n",
            "✅ Liberando modelo...\n",
            "🧠 Gerando descrição para o campo: role.displayIcon\n",
            "✅ Carregando modelo...\n"
          ]
        },
        {
          "output_type": "stream",
          "name": "stderr",
          "text": [
            "Device set to use cpu\n"
          ]
        },
        {
          "output_type": "stream",
          "name": "stdout",
          "text": [
            "✅ Gerando documentação...\n",
            "✅ Liberando modelo...\n",
            "🧠 Gerando descrição para o campo: role.assetPath\n",
            "✅ Carregando modelo...\n"
          ]
        },
        {
          "output_type": "stream",
          "name": "stderr",
          "text": [
            "Device set to use cpu\n"
          ]
        },
        {
          "output_type": "stream",
          "name": "stdout",
          "text": [
            "✅ Gerando documentação...\n",
            "✅ Liberando modelo...\n",
            "🧠 Gerando descrição para o campo: recruitmentData\n",
            "✅ Carregando modelo...\n"
          ]
        },
        {
          "output_type": "stream",
          "name": "stderr",
          "text": [
            "Device set to use cpu\n"
          ]
        },
        {
          "output_type": "stream",
          "name": "stdout",
          "text": [
            "✅ Gerando documentação...\n",
            "✅ Liberando modelo...\n",
            "🧠 Gerando descrição para o campo: abilities\n",
            "✅ Carregando modelo...\n"
          ]
        },
        {
          "output_type": "stream",
          "name": "stderr",
          "text": [
            "Device set to use cpu\n"
          ]
        },
        {
          "output_type": "stream",
          "name": "stdout",
          "text": [
            "✅ Gerando documentação...\n",
            "✅ Liberando modelo...\n",
            "🧠 Gerando descrição para o campo: voiceLine\n",
            "✅ Carregando modelo...\n"
          ]
        },
        {
          "output_type": "stream",
          "name": "stderr",
          "text": [
            "Device set to use cpu\n"
          ]
        },
        {
          "output_type": "stream",
          "name": "stdout",
          "text": [
            "✅ Gerando documentação...\n",
            "✅ Liberando modelo...\n",
            "✅ Documentação gerada para killjoy.json\n",
            "📄 Gerando documentação para: vyse.json\n",
            "✅ Carregando modelo...\n"
          ]
        },
        {
          "output_type": "stream",
          "name": "stderr",
          "text": [
            "Device set to use cpu\n"
          ]
        },
        {
          "output_type": "stream",
          "name": "stdout",
          "text": [
            "✅ Gerando documentação...\n",
            "✅ Liberando modelo...\n",
            "🧠 Gerando descrição para o campo: uuid\n",
            "✅ Carregando modelo...\n"
          ]
        },
        {
          "output_type": "stream",
          "name": "stderr",
          "text": [
            "Device set to use cpu\n"
          ]
        },
        {
          "output_type": "stream",
          "name": "stdout",
          "text": [
            "✅ Gerando documentação...\n",
            "✅ Liberando modelo...\n",
            "🧠 Gerando descrição para o campo: displayName\n",
            "✅ Carregando modelo...\n"
          ]
        },
        {
          "output_type": "stream",
          "name": "stderr",
          "text": [
            "Device set to use cpu\n"
          ]
        },
        {
          "output_type": "stream",
          "name": "stdout",
          "text": [
            "✅ Gerando documentação...\n",
            "✅ Liberando modelo...\n",
            "🧠 Gerando descrição para o campo: description\n",
            "✅ Carregando modelo...\n"
          ]
        },
        {
          "output_type": "stream",
          "name": "stderr",
          "text": [
            "Device set to use cpu\n"
          ]
        },
        {
          "output_type": "stream",
          "name": "stdout",
          "text": [
            "✅ Gerando documentação...\n",
            "✅ Liberando modelo...\n",
            "🧠 Gerando descrição para o campo: developerName\n",
            "✅ Carregando modelo...\n"
          ]
        },
        {
          "output_type": "stream",
          "name": "stderr",
          "text": [
            "Device set to use cpu\n"
          ]
        },
        {
          "output_type": "stream",
          "name": "stdout",
          "text": [
            "✅ Gerando documentação...\n",
            "✅ Liberando modelo...\n",
            "🧠 Gerando descrição para o campo: releaseDate\n",
            "✅ Carregando modelo...\n"
          ]
        },
        {
          "output_type": "stream",
          "name": "stderr",
          "text": [
            "Device set to use cpu\n"
          ]
        },
        {
          "output_type": "stream",
          "name": "stdout",
          "text": [
            "✅ Gerando documentação...\n",
            "✅ Liberando modelo...\n",
            "🧠 Gerando descrição para o campo: characterTags\n",
            "✅ Carregando modelo...\n"
          ]
        },
        {
          "output_type": "stream",
          "name": "stderr",
          "text": [
            "Device set to use cpu\n"
          ]
        },
        {
          "output_type": "stream",
          "name": "stdout",
          "text": [
            "✅ Gerando documentação...\n",
            "✅ Liberando modelo...\n",
            "🧠 Gerando descrição para o campo: displayIcon\n",
            "✅ Carregando modelo...\n"
          ]
        },
        {
          "output_type": "stream",
          "name": "stderr",
          "text": [
            "Device set to use cpu\n"
          ]
        },
        {
          "output_type": "stream",
          "name": "stdout",
          "text": [
            "✅ Gerando documentação...\n",
            "✅ Liberando modelo...\n",
            "🧠 Gerando descrição para o campo: displayIconSmall\n",
            "✅ Carregando modelo...\n"
          ]
        },
        {
          "output_type": "stream",
          "name": "stderr",
          "text": [
            "Device set to use cpu\n"
          ]
        },
        {
          "output_type": "stream",
          "name": "stdout",
          "text": [
            "✅ Gerando documentação...\n",
            "✅ Liberando modelo...\n",
            "🧠 Gerando descrição para o campo: bustPortrait\n",
            "✅ Carregando modelo...\n"
          ]
        },
        {
          "output_type": "stream",
          "name": "stderr",
          "text": [
            "Device set to use cpu\n"
          ]
        },
        {
          "output_type": "stream",
          "name": "stdout",
          "text": [
            "✅ Gerando documentação...\n",
            "✅ Liberando modelo...\n",
            "🧠 Gerando descrição para o campo: fullPortrait\n",
            "✅ Carregando modelo...\n"
          ]
        },
        {
          "output_type": "stream",
          "name": "stderr",
          "text": [
            "Device set to use cpu\n"
          ]
        },
        {
          "output_type": "stream",
          "name": "stdout",
          "text": [
            "✅ Gerando documentação...\n",
            "✅ Liberando modelo...\n",
            "🧠 Gerando descrição para o campo: fullPortraitV2\n",
            "✅ Carregando modelo...\n"
          ]
        },
        {
          "output_type": "stream",
          "name": "stderr",
          "text": [
            "Device set to use cpu\n"
          ]
        },
        {
          "output_type": "stream",
          "name": "stdout",
          "text": [
            "✅ Gerando documentação...\n",
            "✅ Liberando modelo...\n",
            "🧠 Gerando descrição para o campo: killfeedPortrait\n",
            "✅ Carregando modelo...\n"
          ]
        },
        {
          "output_type": "stream",
          "name": "stderr",
          "text": [
            "Device set to use cpu\n"
          ]
        },
        {
          "output_type": "stream",
          "name": "stdout",
          "text": [
            "✅ Gerando documentação...\n",
            "✅ Liberando modelo...\n",
            "🧠 Gerando descrição para o campo: background\n",
            "✅ Carregando modelo...\n"
          ]
        },
        {
          "output_type": "stream",
          "name": "stderr",
          "text": [
            "Device set to use cpu\n"
          ]
        },
        {
          "output_type": "stream",
          "name": "stdout",
          "text": [
            "✅ Gerando documentação...\n",
            "✅ Liberando modelo...\n",
            "🧠 Gerando descrição para o campo: backgroundGradientColors\n",
            "✅ Carregando modelo...\n"
          ]
        },
        {
          "output_type": "stream",
          "name": "stderr",
          "text": [
            "Device set to use cpu\n"
          ]
        },
        {
          "output_type": "stream",
          "name": "stdout",
          "text": [
            "✅ Gerando documentação...\n",
            "✅ Liberando modelo...\n",
            "🧠 Gerando descrição para o campo: assetPath\n",
            "✅ Carregando modelo...\n"
          ]
        },
        {
          "output_type": "stream",
          "name": "stderr",
          "text": [
            "Device set to use cpu\n"
          ]
        },
        {
          "output_type": "stream",
          "name": "stdout",
          "text": [
            "✅ Gerando documentação...\n",
            "✅ Liberando modelo...\n",
            "🧠 Gerando descrição para o campo: isFullPortraitRightFacing\n",
            "✅ Carregando modelo...\n"
          ]
        },
        {
          "output_type": "stream",
          "name": "stderr",
          "text": [
            "Device set to use cpu\n"
          ]
        },
        {
          "output_type": "stream",
          "name": "stdout",
          "text": [
            "✅ Gerando documentação...\n",
            "✅ Liberando modelo...\n",
            "🧠 Gerando descrição para o campo: isPlayableCharacter\n",
            "✅ Carregando modelo...\n"
          ]
        },
        {
          "output_type": "stream",
          "name": "stderr",
          "text": [
            "Device set to use cpu\n"
          ]
        },
        {
          "output_type": "stream",
          "name": "stdout",
          "text": [
            "✅ Gerando documentação...\n",
            "✅ Liberando modelo...\n",
            "🧠 Gerando descrição para o campo: isAvailableForTest\n",
            "✅ Carregando modelo...\n"
          ]
        },
        {
          "output_type": "stream",
          "name": "stderr",
          "text": [
            "Device set to use cpu\n"
          ]
        },
        {
          "output_type": "stream",
          "name": "stdout",
          "text": [
            "✅ Gerando documentação...\n",
            "✅ Liberando modelo...\n",
            "🧠 Gerando descrição para o campo: isBaseContent\n",
            "✅ Carregando modelo...\n"
          ]
        },
        {
          "output_type": "stream",
          "name": "stderr",
          "text": [
            "Device set to use cpu\n"
          ]
        },
        {
          "output_type": "stream",
          "name": "stdout",
          "text": [
            "✅ Gerando documentação...\n",
            "✅ Liberando modelo...\n",
            "🧠 Gerando descrição para o campo: role.uuid\n",
            "✅ Carregando modelo...\n"
          ]
        },
        {
          "output_type": "stream",
          "name": "stderr",
          "text": [
            "Device set to use cpu\n"
          ]
        },
        {
          "output_type": "stream",
          "name": "stdout",
          "text": [
            "✅ Gerando documentação...\n",
            "✅ Liberando modelo...\n",
            "🧠 Gerando descrição para o campo: role.displayName\n",
            "✅ Carregando modelo...\n"
          ]
        },
        {
          "output_type": "stream",
          "name": "stderr",
          "text": [
            "Device set to use cpu\n"
          ]
        },
        {
          "output_type": "stream",
          "name": "stdout",
          "text": [
            "✅ Gerando documentação...\n",
            "✅ Liberando modelo...\n",
            "🧠 Gerando descrição para o campo: role.description\n",
            "✅ Carregando modelo...\n"
          ]
        },
        {
          "output_type": "stream",
          "name": "stderr",
          "text": [
            "Device set to use cpu\n"
          ]
        },
        {
          "output_type": "stream",
          "name": "stdout",
          "text": [
            "✅ Gerando documentação...\n",
            "✅ Liberando modelo...\n",
            "🧠 Gerando descrição para o campo: role.displayIcon\n",
            "✅ Carregando modelo...\n"
          ]
        },
        {
          "output_type": "stream",
          "name": "stderr",
          "text": [
            "Device set to use cpu\n"
          ]
        },
        {
          "output_type": "stream",
          "name": "stdout",
          "text": [
            "✅ Gerando documentação...\n",
            "✅ Liberando modelo...\n",
            "🧠 Gerando descrição para o campo: role.assetPath\n",
            "✅ Carregando modelo...\n"
          ]
        },
        {
          "output_type": "stream",
          "name": "stderr",
          "text": [
            "Device set to use cpu\n"
          ]
        },
        {
          "output_type": "stream",
          "name": "stdout",
          "text": [
            "✅ Gerando documentação...\n",
            "✅ Liberando modelo...\n",
            "🧠 Gerando descrição para o campo: recruitmentData.counterId\n",
            "✅ Carregando modelo...\n"
          ]
        },
        {
          "output_type": "stream",
          "name": "stderr",
          "text": [
            "Device set to use cpu\n"
          ]
        },
        {
          "output_type": "stream",
          "name": "stdout",
          "text": [
            "✅ Gerando documentação...\n",
            "✅ Liberando modelo...\n",
            "🧠 Gerando descrição para o campo: recruitmentData.milestoneId\n",
            "✅ Carregando modelo...\n"
          ]
        },
        {
          "output_type": "stream",
          "name": "stderr",
          "text": [
            "Device set to use cpu\n"
          ]
        },
        {
          "output_type": "stream",
          "name": "stdout",
          "text": [
            "✅ Gerando documentação...\n",
            "✅ Liberando modelo...\n",
            "🧠 Gerando descrição para o campo: recruitmentData.milestoneThreshold\n",
            "✅ Carregando modelo...\n"
          ]
        },
        {
          "output_type": "stream",
          "name": "stderr",
          "text": [
            "Device set to use cpu\n"
          ]
        },
        {
          "output_type": "stream",
          "name": "stdout",
          "text": [
            "✅ Gerando documentação...\n",
            "✅ Liberando modelo...\n",
            "🧠 Gerando descrição para o campo: recruitmentData.useLevelVpCostOverride\n",
            "✅ Carregando modelo...\n"
          ]
        },
        {
          "output_type": "stream",
          "name": "stderr",
          "text": [
            "Device set to use cpu\n"
          ]
        },
        {
          "output_type": "stream",
          "name": "stdout",
          "text": [
            "✅ Gerando documentação...\n",
            "✅ Liberando modelo...\n",
            "🧠 Gerando descrição para o campo: recruitmentData.levelVpCostOverride\n",
            "✅ Carregando modelo...\n"
          ]
        },
        {
          "output_type": "stream",
          "name": "stderr",
          "text": [
            "Device set to use cpu\n"
          ]
        },
        {
          "output_type": "stream",
          "name": "stdout",
          "text": [
            "✅ Gerando documentação...\n",
            "✅ Liberando modelo...\n",
            "🧠 Gerando descrição para o campo: recruitmentData.startDate\n",
            "✅ Carregando modelo...\n"
          ]
        },
        {
          "output_type": "stream",
          "name": "stderr",
          "text": [
            "Device set to use cpu\n"
          ]
        },
        {
          "output_type": "stream",
          "name": "stdout",
          "text": [
            "✅ Gerando documentação...\n",
            "✅ Liberando modelo...\n",
            "🧠 Gerando descrição para o campo: recruitmentData.endDate\n",
            "✅ Carregando modelo...\n"
          ]
        },
        {
          "output_type": "stream",
          "name": "stderr",
          "text": [
            "Device set to use cpu\n"
          ]
        },
        {
          "output_type": "stream",
          "name": "stdout",
          "text": [
            "✅ Gerando documentação...\n",
            "✅ Liberando modelo...\n",
            "🧠 Gerando descrição para o campo: abilities\n",
            "✅ Carregando modelo...\n"
          ]
        },
        {
          "output_type": "stream",
          "name": "stderr",
          "text": [
            "Device set to use cpu\n"
          ]
        },
        {
          "output_type": "stream",
          "name": "stdout",
          "text": [
            "✅ Gerando documentação...\n",
            "✅ Liberando modelo...\n",
            "🧠 Gerando descrição para o campo: voiceLine\n",
            "✅ Carregando modelo...\n"
          ]
        },
        {
          "output_type": "stream",
          "name": "stderr",
          "text": [
            "Device set to use cpu\n"
          ]
        },
        {
          "output_type": "stream",
          "name": "stdout",
          "text": [
            "✅ Gerando documentação...\n",
            "✅ Liberando modelo...\n",
            "✅ Documentação gerada para vyse.json\n",
            "📄 Gerando documentação para: kay_o.json\n",
            "✅ Carregando modelo...\n"
          ]
        },
        {
          "output_type": "stream",
          "name": "stderr",
          "text": [
            "Device set to use cpu\n"
          ]
        },
        {
          "output_type": "stream",
          "name": "stdout",
          "text": [
            "✅ Gerando documentação...\n",
            "✅ Liberando modelo...\n",
            "🧠 Gerando descrição para o campo: uuid\n",
            "✅ Carregando modelo...\n"
          ]
        },
        {
          "output_type": "stream",
          "name": "stderr",
          "text": [
            "Device set to use cpu\n"
          ]
        },
        {
          "output_type": "stream",
          "name": "stdout",
          "text": [
            "✅ Gerando documentação...\n",
            "✅ Liberando modelo...\n",
            "🧠 Gerando descrição para o campo: displayName\n",
            "✅ Carregando modelo...\n"
          ]
        },
        {
          "output_type": "stream",
          "name": "stderr",
          "text": [
            "Device set to use cpu\n"
          ]
        },
        {
          "output_type": "stream",
          "name": "stdout",
          "text": [
            "✅ Gerando documentação...\n",
            "✅ Liberando modelo...\n",
            "🧠 Gerando descrição para o campo: description\n",
            "✅ Carregando modelo...\n"
          ]
        },
        {
          "output_type": "stream",
          "name": "stderr",
          "text": [
            "Device set to use cpu\n"
          ]
        },
        {
          "output_type": "stream",
          "name": "stdout",
          "text": [
            "✅ Gerando documentação...\n",
            "✅ Liberando modelo...\n",
            "🧠 Gerando descrição para o campo: developerName\n",
            "✅ Carregando modelo...\n"
          ]
        },
        {
          "output_type": "stream",
          "name": "stderr",
          "text": [
            "Device set to use cpu\n"
          ]
        },
        {
          "output_type": "stream",
          "name": "stdout",
          "text": [
            "✅ Gerando documentação...\n",
            "✅ Liberando modelo...\n",
            "🧠 Gerando descrição para o campo: releaseDate\n",
            "✅ Carregando modelo...\n"
          ]
        },
        {
          "output_type": "stream",
          "name": "stderr",
          "text": [
            "Device set to use cpu\n"
          ]
        },
        {
          "output_type": "stream",
          "name": "stdout",
          "text": [
            "✅ Gerando documentação...\n",
            "✅ Liberando modelo...\n",
            "🧠 Gerando descrição para o campo: characterTags\n",
            "✅ Carregando modelo...\n"
          ]
        },
        {
          "output_type": "stream",
          "name": "stderr",
          "text": [
            "Device set to use cpu\n"
          ]
        },
        {
          "output_type": "stream",
          "name": "stdout",
          "text": [
            "✅ Gerando documentação...\n",
            "✅ Liberando modelo...\n",
            "🧠 Gerando descrição para o campo: displayIcon\n",
            "✅ Carregando modelo...\n"
          ]
        },
        {
          "output_type": "stream",
          "name": "stderr",
          "text": [
            "Device set to use cpu\n"
          ]
        },
        {
          "output_type": "stream",
          "name": "stdout",
          "text": [
            "✅ Gerando documentação...\n",
            "✅ Liberando modelo...\n",
            "🧠 Gerando descrição para o campo: displayIconSmall\n",
            "✅ Carregando modelo...\n"
          ]
        },
        {
          "output_type": "stream",
          "name": "stderr",
          "text": [
            "Device set to use cpu\n"
          ]
        },
        {
          "output_type": "stream",
          "name": "stdout",
          "text": [
            "✅ Gerando documentação...\n",
            "✅ Liberando modelo...\n",
            "🧠 Gerando descrição para o campo: bustPortrait\n",
            "✅ Carregando modelo...\n"
          ]
        },
        {
          "output_type": "stream",
          "name": "stderr",
          "text": [
            "Device set to use cpu\n"
          ]
        },
        {
          "output_type": "stream",
          "name": "stdout",
          "text": [
            "✅ Gerando documentação...\n",
            "✅ Liberando modelo...\n",
            "🧠 Gerando descrição para o campo: fullPortrait\n",
            "✅ Carregando modelo...\n"
          ]
        },
        {
          "output_type": "stream",
          "name": "stderr",
          "text": [
            "Device set to use cpu\n"
          ]
        },
        {
          "output_type": "stream",
          "name": "stdout",
          "text": [
            "✅ Gerando documentação...\n",
            "✅ Liberando modelo...\n",
            "🧠 Gerando descrição para o campo: fullPortraitV2\n",
            "✅ Carregando modelo...\n"
          ]
        },
        {
          "output_type": "stream",
          "name": "stderr",
          "text": [
            "Device set to use cpu\n"
          ]
        },
        {
          "output_type": "stream",
          "name": "stdout",
          "text": [
            "✅ Gerando documentação...\n",
            "✅ Liberando modelo...\n",
            "🧠 Gerando descrição para o campo: killfeedPortrait\n",
            "✅ Carregando modelo...\n"
          ]
        },
        {
          "output_type": "stream",
          "name": "stderr",
          "text": [
            "Device set to use cpu\n"
          ]
        },
        {
          "output_type": "stream",
          "name": "stdout",
          "text": [
            "✅ Gerando documentação...\n",
            "✅ Liberando modelo...\n",
            "🧠 Gerando descrição para o campo: background\n",
            "✅ Carregando modelo...\n"
          ]
        },
        {
          "output_type": "stream",
          "name": "stderr",
          "text": [
            "Device set to use cpu\n"
          ]
        },
        {
          "output_type": "stream",
          "name": "stdout",
          "text": [
            "✅ Gerando documentação...\n",
            "✅ Liberando modelo...\n",
            "🧠 Gerando descrição para o campo: backgroundGradientColors\n",
            "✅ Carregando modelo...\n"
          ]
        },
        {
          "output_type": "stream",
          "name": "stderr",
          "text": [
            "Device set to use cpu\n"
          ]
        },
        {
          "output_type": "stream",
          "name": "stdout",
          "text": [
            "✅ Gerando documentação...\n",
            "✅ Liberando modelo...\n",
            "🧠 Gerando descrição para o campo: assetPath\n",
            "✅ Carregando modelo...\n"
          ]
        },
        {
          "output_type": "stream",
          "name": "stderr",
          "text": [
            "Device set to use cpu\n"
          ]
        },
        {
          "output_type": "stream",
          "name": "stdout",
          "text": [
            "✅ Gerando documentação...\n",
            "✅ Liberando modelo...\n",
            "🧠 Gerando descrição para o campo: isFullPortraitRightFacing\n",
            "✅ Carregando modelo...\n"
          ]
        },
        {
          "output_type": "stream",
          "name": "stderr",
          "text": [
            "Device set to use cpu\n"
          ]
        },
        {
          "output_type": "stream",
          "name": "stdout",
          "text": [
            "✅ Gerando documentação...\n",
            "✅ Liberando modelo...\n",
            "🧠 Gerando descrição para o campo: isPlayableCharacter\n",
            "✅ Carregando modelo...\n"
          ]
        },
        {
          "output_type": "stream",
          "name": "stderr",
          "text": [
            "Device set to use cpu\n"
          ]
        },
        {
          "output_type": "stream",
          "name": "stdout",
          "text": [
            "✅ Gerando documentação...\n",
            "✅ Liberando modelo...\n",
            "🧠 Gerando descrição para o campo: isAvailableForTest\n",
            "✅ Carregando modelo...\n"
          ]
        },
        {
          "output_type": "stream",
          "name": "stderr",
          "text": [
            "Device set to use cpu\n"
          ]
        },
        {
          "output_type": "stream",
          "name": "stdout",
          "text": [
            "✅ Gerando documentação...\n",
            "✅ Liberando modelo...\n",
            "🧠 Gerando descrição para o campo: isBaseContent\n",
            "✅ Carregando modelo...\n"
          ]
        },
        {
          "output_type": "stream",
          "name": "stderr",
          "text": [
            "Device set to use cpu\n"
          ]
        },
        {
          "output_type": "stream",
          "name": "stdout",
          "text": [
            "✅ Gerando documentação...\n",
            "✅ Liberando modelo...\n",
            "🧠 Gerando descrição para o campo: role.uuid\n",
            "✅ Carregando modelo...\n"
          ]
        },
        {
          "output_type": "stream",
          "name": "stderr",
          "text": [
            "Device set to use cpu\n"
          ]
        },
        {
          "output_type": "stream",
          "name": "stdout",
          "text": [
            "✅ Gerando documentação...\n",
            "✅ Liberando modelo...\n",
            "🧠 Gerando descrição para o campo: role.displayName\n",
            "✅ Carregando modelo...\n"
          ]
        },
        {
          "output_type": "stream",
          "name": "stderr",
          "text": [
            "Device set to use cpu\n"
          ]
        },
        {
          "output_type": "stream",
          "name": "stdout",
          "text": [
            "✅ Gerando documentação...\n",
            "✅ Liberando modelo...\n",
            "🧠 Gerando descrição para o campo: role.description\n",
            "✅ Carregando modelo...\n"
          ]
        },
        {
          "output_type": "stream",
          "name": "stderr",
          "text": [
            "Device set to use cpu\n"
          ]
        },
        {
          "output_type": "stream",
          "name": "stdout",
          "text": [
            "✅ Gerando documentação...\n",
            "✅ Liberando modelo...\n",
            "🧠 Gerando descrição para o campo: role.displayIcon\n",
            "✅ Carregando modelo...\n"
          ]
        },
        {
          "output_type": "stream",
          "name": "stderr",
          "text": [
            "Device set to use cpu\n"
          ]
        },
        {
          "output_type": "stream",
          "name": "stdout",
          "text": [
            "✅ Gerando documentação...\n",
            "✅ Liberando modelo...\n",
            "🧠 Gerando descrição para o campo: role.assetPath\n",
            "✅ Carregando modelo...\n"
          ]
        },
        {
          "output_type": "stream",
          "name": "stderr",
          "text": [
            "Device set to use cpu\n"
          ]
        },
        {
          "output_type": "stream",
          "name": "stdout",
          "text": [
            "✅ Gerando documentação...\n",
            "✅ Liberando modelo...\n",
            "🧠 Gerando descrição para o campo: recruitmentData\n",
            "✅ Carregando modelo...\n"
          ]
        },
        {
          "output_type": "stream",
          "name": "stderr",
          "text": [
            "Device set to use cpu\n"
          ]
        },
        {
          "output_type": "stream",
          "name": "stdout",
          "text": [
            "✅ Gerando documentação...\n",
            "✅ Liberando modelo...\n",
            "🧠 Gerando descrição para o campo: abilities\n",
            "✅ Carregando modelo...\n"
          ]
        },
        {
          "output_type": "stream",
          "name": "stderr",
          "text": [
            "Device set to use cpu\n"
          ]
        },
        {
          "output_type": "stream",
          "name": "stdout",
          "text": [
            "✅ Gerando documentação...\n",
            "✅ Liberando modelo...\n",
            "🧠 Gerando descrição para o campo: voiceLine\n",
            "✅ Carregando modelo...\n"
          ]
        },
        {
          "output_type": "stream",
          "name": "stderr",
          "text": [
            "Device set to use cpu\n"
          ]
        },
        {
          "output_type": "stream",
          "name": "stdout",
          "text": [
            "✅ Gerando documentação...\n",
            "✅ Liberando modelo...\n",
            "✅ Documentação gerada para kay_o.json\n",
            "📄 Gerando documentação para: astra.json\n",
            "✅ Carregando modelo...\n"
          ]
        },
        {
          "output_type": "stream",
          "name": "stderr",
          "text": [
            "Device set to use cpu\n"
          ]
        },
        {
          "output_type": "stream",
          "name": "stdout",
          "text": [
            "✅ Gerando documentação...\n",
            "✅ Liberando modelo...\n",
            "🧠 Gerando descrição para o campo: uuid\n",
            "✅ Carregando modelo...\n"
          ]
        },
        {
          "output_type": "stream",
          "name": "stderr",
          "text": [
            "Device set to use cpu\n"
          ]
        },
        {
          "output_type": "stream",
          "name": "stdout",
          "text": [
            "✅ Gerando documentação...\n",
            "✅ Liberando modelo...\n",
            "🧠 Gerando descrição para o campo: displayName\n",
            "✅ Carregando modelo...\n"
          ]
        },
        {
          "output_type": "stream",
          "name": "stderr",
          "text": [
            "Device set to use cpu\n"
          ]
        },
        {
          "output_type": "stream",
          "name": "stdout",
          "text": [
            "✅ Gerando documentação...\n",
            "✅ Liberando modelo...\n",
            "🧠 Gerando descrição para o campo: description\n",
            "✅ Carregando modelo...\n"
          ]
        },
        {
          "output_type": "stream",
          "name": "stderr",
          "text": [
            "Device set to use cpu\n"
          ]
        },
        {
          "output_type": "stream",
          "name": "stdout",
          "text": [
            "✅ Gerando documentação...\n",
            "✅ Liberando modelo...\n",
            "🧠 Gerando descrição para o campo: developerName\n",
            "✅ Carregando modelo...\n"
          ]
        },
        {
          "output_type": "stream",
          "name": "stderr",
          "text": [
            "Device set to use cpu\n"
          ]
        },
        {
          "output_type": "stream",
          "name": "stdout",
          "text": [
            "✅ Gerando documentação...\n",
            "✅ Liberando modelo...\n",
            "🧠 Gerando descrição para o campo: releaseDate\n",
            "✅ Carregando modelo...\n"
          ]
        },
        {
          "output_type": "stream",
          "name": "stderr",
          "text": [
            "Device set to use cpu\n"
          ]
        },
        {
          "output_type": "stream",
          "name": "stdout",
          "text": [
            "✅ Gerando documentação...\n",
            "✅ Liberando modelo...\n",
            "🧠 Gerando descrição para o campo: characterTags\n",
            "✅ Carregando modelo...\n"
          ]
        },
        {
          "output_type": "stream",
          "name": "stderr",
          "text": [
            "Device set to use cpu\n"
          ]
        },
        {
          "output_type": "stream",
          "name": "stdout",
          "text": [
            "✅ Gerando documentação...\n",
            "✅ Liberando modelo...\n",
            "🧠 Gerando descrição para o campo: displayIcon\n",
            "✅ Carregando modelo...\n"
          ]
        },
        {
          "output_type": "stream",
          "name": "stderr",
          "text": [
            "Device set to use cpu\n"
          ]
        },
        {
          "output_type": "stream",
          "name": "stdout",
          "text": [
            "✅ Gerando documentação...\n",
            "✅ Liberando modelo...\n",
            "🧠 Gerando descrição para o campo: displayIconSmall\n",
            "✅ Carregando modelo...\n"
          ]
        },
        {
          "output_type": "stream",
          "name": "stderr",
          "text": [
            "Device set to use cpu\n"
          ]
        },
        {
          "output_type": "stream",
          "name": "stdout",
          "text": [
            "✅ Gerando documentação...\n",
            "✅ Liberando modelo...\n",
            "🧠 Gerando descrição para o campo: bustPortrait\n",
            "✅ Carregando modelo...\n"
          ]
        },
        {
          "output_type": "stream",
          "name": "stderr",
          "text": [
            "Device set to use cpu\n"
          ]
        },
        {
          "output_type": "stream",
          "name": "stdout",
          "text": [
            "✅ Gerando documentação...\n",
            "✅ Liberando modelo...\n",
            "🧠 Gerando descrição para o campo: fullPortrait\n",
            "✅ Carregando modelo...\n"
          ]
        },
        {
          "output_type": "stream",
          "name": "stderr",
          "text": [
            "Device set to use cpu\n"
          ]
        },
        {
          "output_type": "stream",
          "name": "stdout",
          "text": [
            "✅ Gerando documentação...\n",
            "✅ Liberando modelo...\n",
            "🧠 Gerando descrição para o campo: fullPortraitV2\n",
            "✅ Carregando modelo...\n"
          ]
        },
        {
          "output_type": "stream",
          "name": "stderr",
          "text": [
            "Device set to use cpu\n"
          ]
        },
        {
          "output_type": "stream",
          "name": "stdout",
          "text": [
            "✅ Gerando documentação...\n",
            "✅ Liberando modelo...\n",
            "🧠 Gerando descrição para o campo: killfeedPortrait\n",
            "✅ Carregando modelo...\n"
          ]
        },
        {
          "output_type": "stream",
          "name": "stderr",
          "text": [
            "Device set to use cpu\n"
          ]
        },
        {
          "output_type": "stream",
          "name": "stdout",
          "text": [
            "✅ Gerando documentação...\n",
            "✅ Liberando modelo...\n",
            "🧠 Gerando descrição para o campo: background\n",
            "✅ Carregando modelo...\n"
          ]
        },
        {
          "output_type": "stream",
          "name": "stderr",
          "text": [
            "Device set to use cpu\n"
          ]
        },
        {
          "output_type": "stream",
          "name": "stdout",
          "text": [
            "✅ Gerando documentação...\n",
            "✅ Liberando modelo...\n",
            "🧠 Gerando descrição para o campo: backgroundGradientColors\n",
            "✅ Carregando modelo...\n"
          ]
        },
        {
          "output_type": "stream",
          "name": "stderr",
          "text": [
            "Device set to use cpu\n"
          ]
        },
        {
          "output_type": "stream",
          "name": "stdout",
          "text": [
            "✅ Gerando documentação...\n",
            "✅ Liberando modelo...\n",
            "🧠 Gerando descrição para o campo: assetPath\n",
            "✅ Carregando modelo...\n"
          ]
        },
        {
          "output_type": "stream",
          "name": "stderr",
          "text": [
            "Device set to use cpu\n"
          ]
        },
        {
          "output_type": "stream",
          "name": "stdout",
          "text": [
            "✅ Gerando documentação...\n",
            "✅ Liberando modelo...\n",
            "🧠 Gerando descrição para o campo: isFullPortraitRightFacing\n",
            "✅ Carregando modelo...\n"
          ]
        },
        {
          "output_type": "stream",
          "name": "stderr",
          "text": [
            "Device set to use cpu\n"
          ]
        },
        {
          "output_type": "stream",
          "name": "stdout",
          "text": [
            "✅ Gerando documentação...\n",
            "✅ Liberando modelo...\n",
            "🧠 Gerando descrição para o campo: isPlayableCharacter\n",
            "✅ Carregando modelo...\n"
          ]
        },
        {
          "output_type": "stream",
          "name": "stderr",
          "text": [
            "Device set to use cpu\n"
          ]
        },
        {
          "output_type": "stream",
          "name": "stdout",
          "text": [
            "✅ Gerando documentação...\n",
            "✅ Liberando modelo...\n",
            "🧠 Gerando descrição para o campo: isAvailableForTest\n",
            "✅ Carregando modelo...\n"
          ]
        },
        {
          "output_type": "stream",
          "name": "stderr",
          "text": [
            "Device set to use cpu\n"
          ]
        },
        {
          "output_type": "stream",
          "name": "stdout",
          "text": [
            "✅ Gerando documentação...\n",
            "✅ Liberando modelo...\n",
            "🧠 Gerando descrição para o campo: isBaseContent\n",
            "✅ Carregando modelo...\n"
          ]
        },
        {
          "output_type": "stream",
          "name": "stderr",
          "text": [
            "Device set to use cpu\n"
          ]
        },
        {
          "output_type": "stream",
          "name": "stdout",
          "text": [
            "✅ Gerando documentação...\n",
            "✅ Liberando modelo...\n",
            "🧠 Gerando descrição para o campo: role.uuid\n",
            "✅ Carregando modelo...\n"
          ]
        },
        {
          "output_type": "stream",
          "name": "stderr",
          "text": [
            "Device set to use cpu\n"
          ]
        },
        {
          "output_type": "stream",
          "name": "stdout",
          "text": [
            "✅ Gerando documentação...\n",
            "✅ Liberando modelo...\n",
            "🧠 Gerando descrição para o campo: role.displayName\n",
            "✅ Carregando modelo...\n"
          ]
        },
        {
          "output_type": "stream",
          "name": "stderr",
          "text": [
            "Device set to use cpu\n"
          ]
        },
        {
          "output_type": "stream",
          "name": "stdout",
          "text": [
            "✅ Gerando documentação...\n",
            "✅ Liberando modelo...\n",
            "🧠 Gerando descrição para o campo: role.description\n",
            "✅ Carregando modelo...\n"
          ]
        },
        {
          "output_type": "stream",
          "name": "stderr",
          "text": [
            "Device set to use cpu\n"
          ]
        },
        {
          "output_type": "stream",
          "name": "stdout",
          "text": [
            "✅ Gerando documentação...\n",
            "✅ Liberando modelo...\n",
            "🧠 Gerando descrição para o campo: role.displayIcon\n",
            "✅ Carregando modelo...\n"
          ]
        },
        {
          "output_type": "stream",
          "name": "stderr",
          "text": [
            "Device set to use cpu\n"
          ]
        },
        {
          "output_type": "stream",
          "name": "stdout",
          "text": [
            "✅ Gerando documentação...\n",
            "✅ Liberando modelo...\n",
            "🧠 Gerando descrição para o campo: role.assetPath\n",
            "✅ Carregando modelo...\n"
          ]
        },
        {
          "output_type": "stream",
          "name": "stderr",
          "text": [
            "Device set to use cpu\n"
          ]
        },
        {
          "output_type": "stream",
          "name": "stdout",
          "text": [
            "✅ Gerando documentação...\n",
            "✅ Liberando modelo...\n",
            "🧠 Gerando descrição para o campo: recruitmentData\n",
            "✅ Carregando modelo...\n"
          ]
        },
        {
          "output_type": "stream",
          "name": "stderr",
          "text": [
            "Device set to use cpu\n"
          ]
        },
        {
          "output_type": "stream",
          "name": "stdout",
          "text": [
            "✅ Gerando documentação...\n",
            "✅ Liberando modelo...\n",
            "🧠 Gerando descrição para o campo: abilities\n",
            "✅ Carregando modelo...\n"
          ]
        },
        {
          "output_type": "stream",
          "name": "stderr",
          "text": [
            "Device set to use cpu\n"
          ]
        },
        {
          "output_type": "stream",
          "name": "stdout",
          "text": [
            "✅ Gerando documentação...\n",
            "✅ Liberando modelo...\n",
            "🧠 Gerando descrição para o campo: voiceLine\n",
            "✅ Carregando modelo...\n"
          ]
        },
        {
          "output_type": "stream",
          "name": "stderr",
          "text": [
            "Device set to use cpu\n"
          ]
        },
        {
          "output_type": "stream",
          "name": "stdout",
          "text": [
            "✅ Gerando documentação...\n",
            "✅ Liberando modelo...\n",
            "✅ Documentação gerada para astra.json\n",
            "📄 Gerando documentação para: cypher.json\n",
            "✅ Carregando modelo...\n"
          ]
        },
        {
          "output_type": "stream",
          "name": "stderr",
          "text": [
            "Device set to use cpu\n"
          ]
        },
        {
          "output_type": "stream",
          "name": "stdout",
          "text": [
            "✅ Gerando documentação...\n",
            "✅ Liberando modelo...\n",
            "🧠 Gerando descrição para o campo: uuid\n",
            "✅ Carregando modelo...\n"
          ]
        },
        {
          "output_type": "stream",
          "name": "stderr",
          "text": [
            "Device set to use cpu\n"
          ]
        },
        {
          "output_type": "stream",
          "name": "stdout",
          "text": [
            "✅ Gerando documentação...\n",
            "✅ Liberando modelo...\n",
            "🧠 Gerando descrição para o campo: displayName\n",
            "✅ Carregando modelo...\n"
          ]
        },
        {
          "output_type": "stream",
          "name": "stderr",
          "text": [
            "Device set to use cpu\n"
          ]
        },
        {
          "output_type": "stream",
          "name": "stdout",
          "text": [
            "✅ Gerando documentação...\n",
            "✅ Liberando modelo...\n",
            "🧠 Gerando descrição para o campo: description\n",
            "✅ Carregando modelo...\n"
          ]
        },
        {
          "output_type": "stream",
          "name": "stderr",
          "text": [
            "Device set to use cpu\n"
          ]
        },
        {
          "output_type": "stream",
          "name": "stdout",
          "text": [
            "✅ Gerando documentação...\n",
            "✅ Liberando modelo...\n",
            "🧠 Gerando descrição para o campo: developerName\n",
            "✅ Carregando modelo...\n"
          ]
        },
        {
          "output_type": "stream",
          "name": "stderr",
          "text": [
            "Device set to use cpu\n"
          ]
        },
        {
          "output_type": "stream",
          "name": "stdout",
          "text": [
            "✅ Gerando documentação...\n",
            "✅ Liberando modelo...\n",
            "🧠 Gerando descrição para o campo: releaseDate\n",
            "✅ Carregando modelo...\n"
          ]
        },
        {
          "output_type": "stream",
          "name": "stderr",
          "text": [
            "Device set to use cpu\n"
          ]
        },
        {
          "output_type": "stream",
          "name": "stdout",
          "text": [
            "✅ Gerando documentação...\n",
            "✅ Liberando modelo...\n",
            "🧠 Gerando descrição para o campo: characterTags\n",
            "✅ Carregando modelo...\n"
          ]
        },
        {
          "output_type": "stream",
          "name": "stderr",
          "text": [
            "Device set to use cpu\n"
          ]
        },
        {
          "output_type": "stream",
          "name": "stdout",
          "text": [
            "✅ Gerando documentação...\n",
            "✅ Liberando modelo...\n",
            "🧠 Gerando descrição para o campo: displayIcon\n",
            "✅ Carregando modelo...\n"
          ]
        },
        {
          "output_type": "stream",
          "name": "stderr",
          "text": [
            "Device set to use cpu\n"
          ]
        },
        {
          "output_type": "stream",
          "name": "stdout",
          "text": [
            "✅ Gerando documentação...\n",
            "✅ Liberando modelo...\n",
            "🧠 Gerando descrição para o campo: displayIconSmall\n",
            "✅ Carregando modelo...\n"
          ]
        },
        {
          "output_type": "stream",
          "name": "stderr",
          "text": [
            "Device set to use cpu\n"
          ]
        },
        {
          "output_type": "stream",
          "name": "stdout",
          "text": [
            "✅ Gerando documentação...\n",
            "✅ Liberando modelo...\n",
            "🧠 Gerando descrição para o campo: bustPortrait\n",
            "✅ Carregando modelo...\n"
          ]
        },
        {
          "output_type": "stream",
          "name": "stderr",
          "text": [
            "Device set to use cpu\n"
          ]
        },
        {
          "output_type": "stream",
          "name": "stdout",
          "text": [
            "✅ Gerando documentação...\n",
            "✅ Liberando modelo...\n",
            "🧠 Gerando descrição para o campo: fullPortrait\n",
            "✅ Carregando modelo...\n"
          ]
        },
        {
          "output_type": "stream",
          "name": "stderr",
          "text": [
            "Device set to use cpu\n"
          ]
        },
        {
          "output_type": "stream",
          "name": "stdout",
          "text": [
            "✅ Gerando documentação...\n",
            "✅ Liberando modelo...\n",
            "🧠 Gerando descrição para o campo: fullPortraitV2\n",
            "✅ Carregando modelo...\n"
          ]
        },
        {
          "output_type": "stream",
          "name": "stderr",
          "text": [
            "Device set to use cpu\n"
          ]
        },
        {
          "output_type": "stream",
          "name": "stdout",
          "text": [
            "✅ Gerando documentação...\n",
            "✅ Liberando modelo...\n",
            "🧠 Gerando descrição para o campo: killfeedPortrait\n",
            "✅ Carregando modelo...\n"
          ]
        },
        {
          "output_type": "stream",
          "name": "stderr",
          "text": [
            "Device set to use cpu\n"
          ]
        },
        {
          "output_type": "stream",
          "name": "stdout",
          "text": [
            "✅ Gerando documentação...\n",
            "✅ Liberando modelo...\n",
            "🧠 Gerando descrição para o campo: background\n",
            "✅ Carregando modelo...\n"
          ]
        },
        {
          "output_type": "stream",
          "name": "stderr",
          "text": [
            "Device set to use cpu\n"
          ]
        },
        {
          "output_type": "stream",
          "name": "stdout",
          "text": [
            "✅ Gerando documentação...\n",
            "✅ Liberando modelo...\n",
            "🧠 Gerando descrição para o campo: backgroundGradientColors\n",
            "✅ Carregando modelo...\n"
          ]
        },
        {
          "output_type": "stream",
          "name": "stderr",
          "text": [
            "Device set to use cpu\n"
          ]
        },
        {
          "output_type": "stream",
          "name": "stdout",
          "text": [
            "✅ Gerando documentação...\n",
            "✅ Liberando modelo...\n",
            "🧠 Gerando descrição para o campo: assetPath\n",
            "✅ Carregando modelo...\n"
          ]
        },
        {
          "output_type": "stream",
          "name": "stderr",
          "text": [
            "Device set to use cpu\n"
          ]
        },
        {
          "output_type": "stream",
          "name": "stdout",
          "text": [
            "✅ Gerando documentação...\n",
            "✅ Liberando modelo...\n",
            "🧠 Gerando descrição para o campo: isFullPortraitRightFacing\n",
            "✅ Carregando modelo...\n"
          ]
        },
        {
          "output_type": "stream",
          "name": "stderr",
          "text": [
            "Device set to use cpu\n"
          ]
        },
        {
          "output_type": "stream",
          "name": "stdout",
          "text": [
            "✅ Gerando documentação...\n",
            "✅ Liberando modelo...\n",
            "🧠 Gerando descrição para o campo: isPlayableCharacter\n",
            "✅ Carregando modelo...\n"
          ]
        },
        {
          "output_type": "stream",
          "name": "stderr",
          "text": [
            "Device set to use cpu\n"
          ]
        },
        {
          "output_type": "stream",
          "name": "stdout",
          "text": [
            "✅ Gerando documentação...\n",
            "✅ Liberando modelo...\n",
            "🧠 Gerando descrição para o campo: isAvailableForTest\n",
            "✅ Carregando modelo...\n"
          ]
        },
        {
          "output_type": "stream",
          "name": "stderr",
          "text": [
            "Device set to use cpu\n"
          ]
        },
        {
          "output_type": "stream",
          "name": "stdout",
          "text": [
            "✅ Gerando documentação...\n",
            "✅ Liberando modelo...\n",
            "🧠 Gerando descrição para o campo: isBaseContent\n",
            "✅ Carregando modelo...\n"
          ]
        },
        {
          "output_type": "stream",
          "name": "stderr",
          "text": [
            "Device set to use cpu\n"
          ]
        },
        {
          "output_type": "stream",
          "name": "stdout",
          "text": [
            "✅ Gerando documentação...\n",
            "✅ Liberando modelo...\n",
            "🧠 Gerando descrição para o campo: role.uuid\n",
            "✅ Carregando modelo...\n"
          ]
        },
        {
          "output_type": "stream",
          "name": "stderr",
          "text": [
            "Device set to use cpu\n"
          ]
        },
        {
          "output_type": "stream",
          "name": "stdout",
          "text": [
            "✅ Gerando documentação...\n",
            "✅ Liberando modelo...\n",
            "🧠 Gerando descrição para o campo: role.displayName\n",
            "✅ Carregando modelo...\n"
          ]
        },
        {
          "output_type": "stream",
          "name": "stderr",
          "text": [
            "Device set to use cpu\n"
          ]
        },
        {
          "output_type": "stream",
          "name": "stdout",
          "text": [
            "✅ Gerando documentação...\n",
            "✅ Liberando modelo...\n",
            "🧠 Gerando descrição para o campo: role.description\n",
            "✅ Carregando modelo...\n"
          ]
        },
        {
          "output_type": "stream",
          "name": "stderr",
          "text": [
            "Device set to use cpu\n"
          ]
        },
        {
          "output_type": "stream",
          "name": "stdout",
          "text": [
            "✅ Gerando documentação...\n",
            "✅ Liberando modelo...\n",
            "🧠 Gerando descrição para o campo: role.displayIcon\n",
            "✅ Carregando modelo...\n"
          ]
        },
        {
          "output_type": "stream",
          "name": "stderr",
          "text": [
            "Device set to use cpu\n"
          ]
        },
        {
          "output_type": "stream",
          "name": "stdout",
          "text": [
            "✅ Gerando documentação...\n",
            "✅ Liberando modelo...\n",
            "🧠 Gerando descrição para o campo: role.assetPath\n",
            "✅ Carregando modelo...\n"
          ]
        },
        {
          "output_type": "stream",
          "name": "stderr",
          "text": [
            "Device set to use cpu\n"
          ]
        },
        {
          "output_type": "stream",
          "name": "stdout",
          "text": [
            "✅ Gerando documentação...\n",
            "✅ Liberando modelo...\n",
            "🧠 Gerando descrição para o campo: recruitmentData\n",
            "✅ Carregando modelo...\n"
          ]
        },
        {
          "output_type": "stream",
          "name": "stderr",
          "text": [
            "Device set to use cpu\n"
          ]
        },
        {
          "output_type": "stream",
          "name": "stdout",
          "text": [
            "✅ Gerando documentação...\n",
            "✅ Liberando modelo...\n",
            "🧠 Gerando descrição para o campo: abilities\n",
            "✅ Carregando modelo...\n"
          ]
        },
        {
          "output_type": "stream",
          "name": "stderr",
          "text": [
            "Device set to use cpu\n"
          ]
        },
        {
          "output_type": "stream",
          "name": "stdout",
          "text": [
            "✅ Gerando documentação...\n",
            "✅ Liberando modelo...\n",
            "🧠 Gerando descrição para o campo: voiceLine\n",
            "✅ Carregando modelo...\n"
          ]
        },
        {
          "output_type": "stream",
          "name": "stderr",
          "text": [
            "Device set to use cpu\n"
          ]
        },
        {
          "output_type": "stream",
          "name": "stdout",
          "text": [
            "✅ Gerando documentação...\n",
            "✅ Liberando modelo...\n",
            "✅ Documentação gerada para cypher.json\n",
            "📄 Gerando documentação para: raze.json\n",
            "✅ Carregando modelo...\n"
          ]
        },
        {
          "output_type": "stream",
          "name": "stderr",
          "text": [
            "Device set to use cpu\n"
          ]
        },
        {
          "output_type": "stream",
          "name": "stdout",
          "text": [
            "✅ Gerando documentação...\n",
            "✅ Liberando modelo...\n",
            "🧠 Gerando descrição para o campo: uuid\n",
            "✅ Carregando modelo...\n"
          ]
        },
        {
          "output_type": "stream",
          "name": "stderr",
          "text": [
            "Device set to use cpu\n"
          ]
        },
        {
          "output_type": "stream",
          "name": "stdout",
          "text": [
            "✅ Gerando documentação...\n",
            "✅ Liberando modelo...\n",
            "🧠 Gerando descrição para o campo: displayName\n",
            "✅ Carregando modelo...\n"
          ]
        },
        {
          "output_type": "stream",
          "name": "stderr",
          "text": [
            "Device set to use cpu\n"
          ]
        },
        {
          "output_type": "stream",
          "name": "stdout",
          "text": [
            "✅ Gerando documentação...\n",
            "✅ Liberando modelo...\n",
            "🧠 Gerando descrição para o campo: description\n",
            "✅ Carregando modelo...\n"
          ]
        },
        {
          "output_type": "stream",
          "name": "stderr",
          "text": [
            "Device set to use cpu\n"
          ]
        },
        {
          "output_type": "stream",
          "name": "stdout",
          "text": [
            "✅ Gerando documentação...\n",
            "✅ Liberando modelo...\n",
            "🧠 Gerando descrição para o campo: developerName\n",
            "✅ Carregando modelo...\n"
          ]
        },
        {
          "output_type": "stream",
          "name": "stderr",
          "text": [
            "Device set to use cpu\n"
          ]
        },
        {
          "output_type": "stream",
          "name": "stdout",
          "text": [
            "✅ Gerando documentação...\n",
            "✅ Liberando modelo...\n",
            "🧠 Gerando descrição para o campo: releaseDate\n",
            "✅ Carregando modelo...\n"
          ]
        },
        {
          "output_type": "stream",
          "name": "stderr",
          "text": [
            "Device set to use cpu\n"
          ]
        },
        {
          "output_type": "stream",
          "name": "stdout",
          "text": [
            "✅ Gerando documentação...\n",
            "✅ Liberando modelo...\n",
            "🧠 Gerando descrição para o campo: characterTags\n",
            "✅ Carregando modelo...\n"
          ]
        },
        {
          "output_type": "stream",
          "name": "stderr",
          "text": [
            "Device set to use cpu\n"
          ]
        },
        {
          "output_type": "stream",
          "name": "stdout",
          "text": [
            "✅ Gerando documentação...\n",
            "✅ Liberando modelo...\n",
            "🧠 Gerando descrição para o campo: displayIcon\n",
            "✅ Carregando modelo...\n"
          ]
        },
        {
          "output_type": "stream",
          "name": "stderr",
          "text": [
            "Device set to use cpu\n"
          ]
        },
        {
          "output_type": "stream",
          "name": "stdout",
          "text": [
            "✅ Gerando documentação...\n",
            "✅ Liberando modelo...\n",
            "🧠 Gerando descrição para o campo: displayIconSmall\n",
            "✅ Carregando modelo...\n"
          ]
        },
        {
          "output_type": "stream",
          "name": "stderr",
          "text": [
            "Device set to use cpu\n"
          ]
        },
        {
          "output_type": "stream",
          "name": "stdout",
          "text": [
            "✅ Gerando documentação...\n",
            "✅ Liberando modelo...\n",
            "🧠 Gerando descrição para o campo: bustPortrait\n",
            "✅ Carregando modelo...\n"
          ]
        },
        {
          "output_type": "stream",
          "name": "stderr",
          "text": [
            "Device set to use cpu\n"
          ]
        },
        {
          "output_type": "stream",
          "name": "stdout",
          "text": [
            "✅ Gerando documentação...\n",
            "✅ Liberando modelo...\n",
            "🧠 Gerando descrição para o campo: fullPortrait\n",
            "✅ Carregando modelo...\n"
          ]
        },
        {
          "output_type": "stream",
          "name": "stderr",
          "text": [
            "Device set to use cpu\n"
          ]
        },
        {
          "output_type": "stream",
          "name": "stdout",
          "text": [
            "✅ Gerando documentação...\n",
            "✅ Liberando modelo...\n",
            "🧠 Gerando descrição para o campo: fullPortraitV2\n",
            "✅ Carregando modelo...\n"
          ]
        },
        {
          "output_type": "stream",
          "name": "stderr",
          "text": [
            "Device set to use cpu\n"
          ]
        },
        {
          "output_type": "stream",
          "name": "stdout",
          "text": [
            "✅ Gerando documentação...\n",
            "✅ Liberando modelo...\n",
            "🧠 Gerando descrição para o campo: killfeedPortrait\n",
            "✅ Carregando modelo...\n"
          ]
        },
        {
          "output_type": "stream",
          "name": "stderr",
          "text": [
            "Device set to use cpu\n"
          ]
        },
        {
          "output_type": "stream",
          "name": "stdout",
          "text": [
            "✅ Gerando documentação...\n",
            "✅ Liberando modelo...\n",
            "🧠 Gerando descrição para o campo: background\n",
            "✅ Carregando modelo...\n"
          ]
        },
        {
          "output_type": "stream",
          "name": "stderr",
          "text": [
            "Device set to use cpu\n"
          ]
        },
        {
          "output_type": "stream",
          "name": "stdout",
          "text": [
            "✅ Gerando documentação...\n",
            "✅ Liberando modelo...\n",
            "🧠 Gerando descrição para o campo: backgroundGradientColors\n",
            "✅ Carregando modelo...\n"
          ]
        },
        {
          "output_type": "stream",
          "name": "stderr",
          "text": [
            "Device set to use cpu\n"
          ]
        },
        {
          "output_type": "stream",
          "name": "stdout",
          "text": [
            "✅ Gerando documentação...\n",
            "✅ Liberando modelo...\n",
            "🧠 Gerando descrição para o campo: assetPath\n",
            "✅ Carregando modelo...\n"
          ]
        },
        {
          "output_type": "stream",
          "name": "stderr",
          "text": [
            "Device set to use cpu\n"
          ]
        },
        {
          "output_type": "stream",
          "name": "stdout",
          "text": [
            "✅ Gerando documentação...\n",
            "✅ Liberando modelo...\n",
            "🧠 Gerando descrição para o campo: isFullPortraitRightFacing\n",
            "✅ Carregando modelo...\n"
          ]
        },
        {
          "output_type": "stream",
          "name": "stderr",
          "text": [
            "Device set to use cpu\n"
          ]
        },
        {
          "output_type": "stream",
          "name": "stdout",
          "text": [
            "✅ Gerando documentação...\n",
            "✅ Liberando modelo...\n",
            "🧠 Gerando descrição para o campo: isPlayableCharacter\n",
            "✅ Carregando modelo...\n"
          ]
        },
        {
          "output_type": "stream",
          "name": "stderr",
          "text": [
            "Device set to use cpu\n"
          ]
        },
        {
          "output_type": "stream",
          "name": "stdout",
          "text": [
            "✅ Gerando documentação...\n",
            "✅ Liberando modelo...\n",
            "🧠 Gerando descrição para o campo: isAvailableForTest\n",
            "✅ Carregando modelo...\n"
          ]
        },
        {
          "output_type": "stream",
          "name": "stderr",
          "text": [
            "Device set to use cpu\n"
          ]
        },
        {
          "output_type": "stream",
          "name": "stdout",
          "text": [
            "✅ Gerando documentação...\n",
            "✅ Liberando modelo...\n",
            "🧠 Gerando descrição para o campo: isBaseContent\n",
            "✅ Carregando modelo...\n"
          ]
        },
        {
          "output_type": "stream",
          "name": "stderr",
          "text": [
            "Device set to use cpu\n"
          ]
        },
        {
          "output_type": "stream",
          "name": "stdout",
          "text": [
            "✅ Gerando documentação...\n",
            "✅ Liberando modelo...\n",
            "🧠 Gerando descrição para o campo: role.uuid\n",
            "✅ Carregando modelo...\n"
          ]
        },
        {
          "output_type": "stream",
          "name": "stderr",
          "text": [
            "Device set to use cpu\n"
          ]
        },
        {
          "output_type": "stream",
          "name": "stdout",
          "text": [
            "✅ Gerando documentação...\n",
            "✅ Liberando modelo...\n",
            "🧠 Gerando descrição para o campo: role.displayName\n",
            "✅ Carregando modelo...\n"
          ]
        },
        {
          "output_type": "stream",
          "name": "stderr",
          "text": [
            "Device set to use cpu\n"
          ]
        },
        {
          "output_type": "stream",
          "name": "stdout",
          "text": [
            "✅ Gerando documentação...\n",
            "✅ Liberando modelo...\n",
            "🧠 Gerando descrição para o campo: role.description\n",
            "✅ Carregando modelo...\n"
          ]
        },
        {
          "output_type": "stream",
          "name": "stderr",
          "text": [
            "Device set to use cpu\n"
          ]
        },
        {
          "output_type": "stream",
          "name": "stdout",
          "text": [
            "✅ Gerando documentação...\n",
            "✅ Liberando modelo...\n",
            "🧠 Gerando descrição para o campo: role.displayIcon\n",
            "✅ Carregando modelo...\n"
          ]
        },
        {
          "output_type": "stream",
          "name": "stderr",
          "text": [
            "Device set to use cpu\n"
          ]
        },
        {
          "output_type": "stream",
          "name": "stdout",
          "text": [
            "✅ Gerando documentação...\n",
            "✅ Liberando modelo...\n",
            "🧠 Gerando descrição para o campo: role.assetPath\n",
            "✅ Carregando modelo...\n"
          ]
        },
        {
          "output_type": "stream",
          "name": "stderr",
          "text": [
            "Device set to use cpu\n"
          ]
        },
        {
          "output_type": "stream",
          "name": "stdout",
          "text": [
            "✅ Gerando documentação...\n",
            "✅ Liberando modelo...\n",
            "🧠 Gerando descrição para o campo: recruitmentData\n",
            "✅ Carregando modelo...\n"
          ]
        },
        {
          "output_type": "stream",
          "name": "stderr",
          "text": [
            "Device set to use cpu\n"
          ]
        },
        {
          "output_type": "stream",
          "name": "stdout",
          "text": [
            "✅ Gerando documentação...\n",
            "✅ Liberando modelo...\n",
            "🧠 Gerando descrição para o campo: abilities\n",
            "✅ Carregando modelo...\n"
          ]
        },
        {
          "output_type": "stream",
          "name": "stderr",
          "text": [
            "Device set to use cpu\n"
          ]
        },
        {
          "output_type": "stream",
          "name": "stdout",
          "text": [
            "✅ Gerando documentação...\n",
            "✅ Liberando modelo...\n",
            "🧠 Gerando descrição para o campo: voiceLine\n",
            "✅ Carregando modelo...\n"
          ]
        },
        {
          "output_type": "stream",
          "name": "stderr",
          "text": [
            "Device set to use cpu\n"
          ]
        },
        {
          "output_type": "stream",
          "name": "stdout",
          "text": [
            "✅ Gerando documentação...\n",
            "✅ Liberando modelo...\n",
            "✅ Documentação gerada para raze.json\n",
            "📄 Gerando documentação para: neon.json\n",
            "✅ Carregando modelo...\n"
          ]
        },
        {
          "output_type": "stream",
          "name": "stderr",
          "text": [
            "Device set to use cpu\n"
          ]
        },
        {
          "output_type": "stream",
          "name": "stdout",
          "text": [
            "✅ Gerando documentação...\n",
            "✅ Liberando modelo...\n",
            "🧠 Gerando descrição para o campo: uuid\n",
            "✅ Carregando modelo...\n"
          ]
        },
        {
          "output_type": "stream",
          "name": "stderr",
          "text": [
            "Device set to use cpu\n"
          ]
        },
        {
          "output_type": "stream",
          "name": "stdout",
          "text": [
            "✅ Gerando documentação...\n",
            "✅ Liberando modelo...\n",
            "🧠 Gerando descrição para o campo: displayName\n",
            "✅ Carregando modelo...\n"
          ]
        },
        {
          "output_type": "stream",
          "name": "stderr",
          "text": [
            "Device set to use cpu\n"
          ]
        },
        {
          "output_type": "stream",
          "name": "stdout",
          "text": [
            "✅ Gerando documentação...\n",
            "✅ Liberando modelo...\n",
            "🧠 Gerando descrição para o campo: description\n",
            "✅ Carregando modelo...\n"
          ]
        },
        {
          "output_type": "stream",
          "name": "stderr",
          "text": [
            "Device set to use cpu\n"
          ]
        },
        {
          "output_type": "stream",
          "name": "stdout",
          "text": [
            "✅ Gerando documentação...\n",
            "✅ Liberando modelo...\n",
            "🧠 Gerando descrição para o campo: developerName\n",
            "✅ Carregando modelo...\n"
          ]
        },
        {
          "output_type": "stream",
          "name": "stderr",
          "text": [
            "Device set to use cpu\n"
          ]
        },
        {
          "output_type": "stream",
          "name": "stdout",
          "text": [
            "✅ Gerando documentação...\n",
            "✅ Liberando modelo...\n",
            "🧠 Gerando descrição para o campo: releaseDate\n",
            "✅ Carregando modelo...\n"
          ]
        },
        {
          "output_type": "stream",
          "name": "stderr",
          "text": [
            "Device set to use cpu\n"
          ]
        },
        {
          "output_type": "stream",
          "name": "stdout",
          "text": [
            "✅ Gerando documentação...\n",
            "✅ Liberando modelo...\n",
            "🧠 Gerando descrição para o campo: characterTags\n",
            "✅ Carregando modelo...\n"
          ]
        },
        {
          "output_type": "stream",
          "name": "stderr",
          "text": [
            "Device set to use cpu\n"
          ]
        },
        {
          "output_type": "stream",
          "name": "stdout",
          "text": [
            "✅ Gerando documentação...\n",
            "✅ Liberando modelo...\n",
            "🧠 Gerando descrição para o campo: displayIcon\n",
            "✅ Carregando modelo...\n"
          ]
        },
        {
          "output_type": "stream",
          "name": "stderr",
          "text": [
            "Device set to use cpu\n"
          ]
        },
        {
          "output_type": "stream",
          "name": "stdout",
          "text": [
            "✅ Gerando documentação...\n",
            "✅ Liberando modelo...\n",
            "🧠 Gerando descrição para o campo: displayIconSmall\n",
            "✅ Carregando modelo...\n"
          ]
        },
        {
          "output_type": "stream",
          "name": "stderr",
          "text": [
            "Device set to use cpu\n"
          ]
        },
        {
          "output_type": "stream",
          "name": "stdout",
          "text": [
            "✅ Gerando documentação...\n",
            "✅ Liberando modelo...\n",
            "🧠 Gerando descrição para o campo: bustPortrait\n",
            "✅ Carregando modelo...\n"
          ]
        },
        {
          "output_type": "stream",
          "name": "stderr",
          "text": [
            "Device set to use cpu\n"
          ]
        },
        {
          "output_type": "stream",
          "name": "stdout",
          "text": [
            "✅ Gerando documentação...\n",
            "✅ Liberando modelo...\n",
            "🧠 Gerando descrição para o campo: fullPortrait\n",
            "✅ Carregando modelo...\n"
          ]
        },
        {
          "output_type": "stream",
          "name": "stderr",
          "text": [
            "Device set to use cpu\n"
          ]
        },
        {
          "output_type": "stream",
          "name": "stdout",
          "text": [
            "✅ Gerando documentação...\n",
            "✅ Liberando modelo...\n",
            "🧠 Gerando descrição para o campo: fullPortraitV2\n",
            "✅ Carregando modelo...\n"
          ]
        },
        {
          "output_type": "stream",
          "name": "stderr",
          "text": [
            "Device set to use cpu\n"
          ]
        },
        {
          "output_type": "stream",
          "name": "stdout",
          "text": [
            "✅ Gerando documentação...\n",
            "✅ Liberando modelo...\n",
            "🧠 Gerando descrição para o campo: killfeedPortrait\n",
            "✅ Carregando modelo...\n"
          ]
        },
        {
          "output_type": "stream",
          "name": "stderr",
          "text": [
            "Device set to use cpu\n"
          ]
        },
        {
          "output_type": "stream",
          "name": "stdout",
          "text": [
            "✅ Gerando documentação...\n",
            "✅ Liberando modelo...\n",
            "🧠 Gerando descrição para o campo: background\n",
            "✅ Carregando modelo...\n"
          ]
        },
        {
          "output_type": "stream",
          "name": "stderr",
          "text": [
            "Device set to use cpu\n"
          ]
        },
        {
          "output_type": "stream",
          "name": "stdout",
          "text": [
            "✅ Gerando documentação...\n",
            "✅ Liberando modelo...\n",
            "🧠 Gerando descrição para o campo: backgroundGradientColors\n",
            "✅ Carregando modelo...\n"
          ]
        },
        {
          "output_type": "stream",
          "name": "stderr",
          "text": [
            "Device set to use cpu\n"
          ]
        },
        {
          "output_type": "stream",
          "name": "stdout",
          "text": [
            "✅ Gerando documentação...\n",
            "✅ Liberando modelo...\n",
            "🧠 Gerando descrição para o campo: assetPath\n",
            "✅ Carregando modelo...\n"
          ]
        },
        {
          "output_type": "stream",
          "name": "stderr",
          "text": [
            "Device set to use cpu\n"
          ]
        },
        {
          "output_type": "stream",
          "name": "stdout",
          "text": [
            "✅ Gerando documentação...\n",
            "✅ Liberando modelo...\n",
            "🧠 Gerando descrição para o campo: isFullPortraitRightFacing\n",
            "✅ Carregando modelo...\n"
          ]
        },
        {
          "output_type": "stream",
          "name": "stderr",
          "text": [
            "Device set to use cpu\n"
          ]
        },
        {
          "output_type": "stream",
          "name": "stdout",
          "text": [
            "✅ Gerando documentação...\n",
            "✅ Liberando modelo...\n",
            "🧠 Gerando descrição para o campo: isPlayableCharacter\n",
            "✅ Carregando modelo...\n"
          ]
        },
        {
          "output_type": "stream",
          "name": "stderr",
          "text": [
            "Device set to use cpu\n"
          ]
        },
        {
          "output_type": "stream",
          "name": "stdout",
          "text": [
            "✅ Gerando documentação...\n",
            "✅ Liberando modelo...\n",
            "🧠 Gerando descrição para o campo: isAvailableForTest\n",
            "✅ Carregando modelo...\n"
          ]
        },
        {
          "output_type": "stream",
          "name": "stderr",
          "text": [
            "Device set to use cpu\n"
          ]
        },
        {
          "output_type": "stream",
          "name": "stdout",
          "text": [
            "✅ Gerando documentação...\n",
            "✅ Liberando modelo...\n",
            "🧠 Gerando descrição para o campo: isBaseContent\n",
            "✅ Carregando modelo...\n"
          ]
        },
        {
          "output_type": "stream",
          "name": "stderr",
          "text": [
            "Device set to use cpu\n"
          ]
        },
        {
          "output_type": "stream",
          "name": "stdout",
          "text": [
            "✅ Gerando documentação...\n",
            "✅ Liberando modelo...\n",
            "🧠 Gerando descrição para o campo: role.uuid\n",
            "✅ Carregando modelo...\n"
          ]
        },
        {
          "output_type": "stream",
          "name": "stderr",
          "text": [
            "Device set to use cpu\n"
          ]
        },
        {
          "output_type": "stream",
          "name": "stdout",
          "text": [
            "✅ Gerando documentação...\n",
            "✅ Liberando modelo...\n",
            "🧠 Gerando descrição para o campo: role.displayName\n",
            "✅ Carregando modelo...\n"
          ]
        },
        {
          "output_type": "stream",
          "name": "stderr",
          "text": [
            "Device set to use cpu\n"
          ]
        },
        {
          "output_type": "stream",
          "name": "stdout",
          "text": [
            "✅ Gerando documentação...\n",
            "✅ Liberando modelo...\n",
            "🧠 Gerando descrição para o campo: role.description\n",
            "✅ Carregando modelo...\n"
          ]
        },
        {
          "output_type": "stream",
          "name": "stderr",
          "text": [
            "Device set to use cpu\n"
          ]
        },
        {
          "output_type": "stream",
          "name": "stdout",
          "text": [
            "✅ Gerando documentação...\n",
            "✅ Liberando modelo...\n",
            "🧠 Gerando descrição para o campo: role.displayIcon\n",
            "✅ Carregando modelo...\n"
          ]
        },
        {
          "output_type": "stream",
          "name": "stderr",
          "text": [
            "Device set to use cpu\n"
          ]
        },
        {
          "output_type": "stream",
          "name": "stdout",
          "text": [
            "✅ Gerando documentação...\n",
            "✅ Liberando modelo...\n",
            "🧠 Gerando descrição para o campo: role.assetPath\n",
            "✅ Carregando modelo...\n"
          ]
        },
        {
          "output_type": "stream",
          "name": "stderr",
          "text": [
            "Device set to use cpu\n"
          ]
        },
        {
          "output_type": "stream",
          "name": "stdout",
          "text": [
            "✅ Gerando documentação...\n",
            "✅ Liberando modelo...\n",
            "🧠 Gerando descrição para o campo: recruitmentData\n",
            "✅ Carregando modelo...\n"
          ]
        },
        {
          "output_type": "stream",
          "name": "stderr",
          "text": [
            "Device set to use cpu\n"
          ]
        },
        {
          "output_type": "stream",
          "name": "stdout",
          "text": [
            "✅ Gerando documentação...\n",
            "✅ Liberando modelo...\n",
            "🧠 Gerando descrição para o campo: abilities\n",
            "✅ Carregando modelo...\n"
          ]
        },
        {
          "output_type": "stream",
          "name": "stderr",
          "text": [
            "Device set to use cpu\n"
          ]
        },
        {
          "output_type": "stream",
          "name": "stdout",
          "text": [
            "✅ Gerando documentação...\n",
            "✅ Liberando modelo...\n",
            "🧠 Gerando descrição para o campo: voiceLine\n",
            "✅ Carregando modelo...\n"
          ]
        },
        {
          "output_type": "stream",
          "name": "stderr",
          "text": [
            "Device set to use cpu\n"
          ]
        },
        {
          "output_type": "stream",
          "name": "stdout",
          "text": [
            "✅ Gerando documentação...\n",
            "✅ Liberando modelo...\n",
            "✅ Documentação gerada para neon.json\n",
            "📄 Gerando documentação para: yoru.json\n",
            "✅ Carregando modelo...\n"
          ]
        },
        {
          "output_type": "stream",
          "name": "stderr",
          "text": [
            "Device set to use cpu\n"
          ]
        },
        {
          "output_type": "stream",
          "name": "stdout",
          "text": [
            "✅ Gerando documentação...\n",
            "✅ Liberando modelo...\n",
            "🧠 Gerando descrição para o campo: uuid\n",
            "✅ Carregando modelo...\n"
          ]
        },
        {
          "output_type": "stream",
          "name": "stderr",
          "text": [
            "Device set to use cpu\n"
          ]
        },
        {
          "output_type": "stream",
          "name": "stdout",
          "text": [
            "✅ Gerando documentação...\n",
            "✅ Liberando modelo...\n",
            "🧠 Gerando descrição para o campo: displayName\n",
            "✅ Carregando modelo...\n"
          ]
        },
        {
          "output_type": "stream",
          "name": "stderr",
          "text": [
            "Device set to use cpu\n"
          ]
        },
        {
          "output_type": "stream",
          "name": "stdout",
          "text": [
            "✅ Gerando documentação...\n",
            "✅ Liberando modelo...\n",
            "🧠 Gerando descrição para o campo: description\n",
            "✅ Carregando modelo...\n"
          ]
        },
        {
          "output_type": "stream",
          "name": "stderr",
          "text": [
            "Device set to use cpu\n"
          ]
        },
        {
          "output_type": "stream",
          "name": "stdout",
          "text": [
            "✅ Gerando documentação...\n",
            "✅ Liberando modelo...\n",
            "🧠 Gerando descrição para o campo: developerName\n",
            "✅ Carregando modelo...\n"
          ]
        },
        {
          "output_type": "stream",
          "name": "stderr",
          "text": [
            "Device set to use cpu\n"
          ]
        },
        {
          "output_type": "stream",
          "name": "stdout",
          "text": [
            "✅ Gerando documentação...\n",
            "✅ Liberando modelo...\n",
            "🧠 Gerando descrição para o campo: releaseDate\n",
            "✅ Carregando modelo...\n"
          ]
        },
        {
          "output_type": "stream",
          "name": "stderr",
          "text": [
            "Device set to use cpu\n"
          ]
        },
        {
          "output_type": "stream",
          "name": "stdout",
          "text": [
            "✅ Gerando documentação...\n",
            "✅ Liberando modelo...\n",
            "🧠 Gerando descrição para o campo: characterTags\n",
            "✅ Carregando modelo...\n"
          ]
        },
        {
          "output_type": "stream",
          "name": "stderr",
          "text": [
            "Device set to use cpu\n"
          ]
        },
        {
          "output_type": "stream",
          "name": "stdout",
          "text": [
            "✅ Gerando documentação...\n",
            "✅ Liberando modelo...\n",
            "🧠 Gerando descrição para o campo: displayIcon\n",
            "✅ Carregando modelo...\n"
          ]
        },
        {
          "output_type": "stream",
          "name": "stderr",
          "text": [
            "Device set to use cpu\n"
          ]
        },
        {
          "output_type": "stream",
          "name": "stdout",
          "text": [
            "✅ Gerando documentação...\n",
            "✅ Liberando modelo...\n",
            "🧠 Gerando descrição para o campo: displayIconSmall\n",
            "✅ Carregando modelo...\n"
          ]
        },
        {
          "output_type": "stream",
          "name": "stderr",
          "text": [
            "Device set to use cpu\n"
          ]
        },
        {
          "output_type": "stream",
          "name": "stdout",
          "text": [
            "✅ Gerando documentação...\n",
            "✅ Liberando modelo...\n",
            "🧠 Gerando descrição para o campo: bustPortrait\n",
            "✅ Carregando modelo...\n"
          ]
        },
        {
          "output_type": "stream",
          "name": "stderr",
          "text": [
            "Device set to use cpu\n"
          ]
        },
        {
          "output_type": "stream",
          "name": "stdout",
          "text": [
            "✅ Gerando documentação...\n",
            "✅ Liberando modelo...\n",
            "🧠 Gerando descrição para o campo: fullPortrait\n",
            "✅ Carregando modelo...\n"
          ]
        },
        {
          "output_type": "stream",
          "name": "stderr",
          "text": [
            "Device set to use cpu\n"
          ]
        },
        {
          "output_type": "stream",
          "name": "stdout",
          "text": [
            "✅ Gerando documentação...\n",
            "✅ Liberando modelo...\n",
            "🧠 Gerando descrição para o campo: fullPortraitV2\n",
            "✅ Carregando modelo...\n"
          ]
        },
        {
          "output_type": "stream",
          "name": "stderr",
          "text": [
            "Device set to use cpu\n"
          ]
        },
        {
          "output_type": "stream",
          "name": "stdout",
          "text": [
            "✅ Gerando documentação...\n",
            "✅ Liberando modelo...\n",
            "🧠 Gerando descrição para o campo: killfeedPortrait\n",
            "✅ Carregando modelo...\n"
          ]
        },
        {
          "output_type": "stream",
          "name": "stderr",
          "text": [
            "Device set to use cpu\n"
          ]
        },
        {
          "output_type": "stream",
          "name": "stdout",
          "text": [
            "✅ Gerando documentação...\n",
            "✅ Liberando modelo...\n",
            "🧠 Gerando descrição para o campo: background\n",
            "✅ Carregando modelo...\n"
          ]
        },
        {
          "output_type": "stream",
          "name": "stderr",
          "text": [
            "Device set to use cpu\n"
          ]
        },
        {
          "output_type": "stream",
          "name": "stdout",
          "text": [
            "✅ Gerando documentação...\n",
            "✅ Liberando modelo...\n",
            "🧠 Gerando descrição para o campo: backgroundGradientColors\n",
            "✅ Carregando modelo...\n"
          ]
        },
        {
          "output_type": "stream",
          "name": "stderr",
          "text": [
            "Device set to use cpu\n"
          ]
        },
        {
          "output_type": "stream",
          "name": "stdout",
          "text": [
            "✅ Gerando documentação...\n",
            "✅ Liberando modelo...\n",
            "🧠 Gerando descrição para o campo: assetPath\n",
            "✅ Carregando modelo...\n"
          ]
        },
        {
          "output_type": "stream",
          "name": "stderr",
          "text": [
            "Device set to use cpu\n"
          ]
        },
        {
          "output_type": "stream",
          "name": "stdout",
          "text": [
            "✅ Gerando documentação...\n",
            "✅ Liberando modelo...\n",
            "🧠 Gerando descrição para o campo: isFullPortraitRightFacing\n",
            "✅ Carregando modelo...\n"
          ]
        },
        {
          "output_type": "stream",
          "name": "stderr",
          "text": [
            "Device set to use cpu\n"
          ]
        },
        {
          "output_type": "stream",
          "name": "stdout",
          "text": [
            "✅ Gerando documentação...\n",
            "✅ Liberando modelo...\n",
            "🧠 Gerando descrição para o campo: isPlayableCharacter\n",
            "✅ Carregando modelo...\n"
          ]
        },
        {
          "output_type": "stream",
          "name": "stderr",
          "text": [
            "Device set to use cpu\n"
          ]
        },
        {
          "output_type": "stream",
          "name": "stdout",
          "text": [
            "✅ Gerando documentação...\n",
            "✅ Liberando modelo...\n",
            "🧠 Gerando descrição para o campo: isAvailableForTest\n",
            "✅ Carregando modelo...\n"
          ]
        },
        {
          "output_type": "stream",
          "name": "stderr",
          "text": [
            "Device set to use cpu\n"
          ]
        },
        {
          "output_type": "stream",
          "name": "stdout",
          "text": [
            "✅ Gerando documentação...\n",
            "✅ Liberando modelo...\n",
            "🧠 Gerando descrição para o campo: isBaseContent\n",
            "✅ Carregando modelo...\n"
          ]
        },
        {
          "output_type": "stream",
          "name": "stderr",
          "text": [
            "Device set to use cpu\n"
          ]
        },
        {
          "output_type": "stream",
          "name": "stdout",
          "text": [
            "✅ Gerando documentação...\n",
            "✅ Liberando modelo...\n",
            "🧠 Gerando descrição para o campo: role.uuid\n",
            "✅ Carregando modelo...\n"
          ]
        },
        {
          "output_type": "stream",
          "name": "stderr",
          "text": [
            "Device set to use cpu\n"
          ]
        },
        {
          "output_type": "stream",
          "name": "stdout",
          "text": [
            "✅ Gerando documentação...\n",
            "✅ Liberando modelo...\n",
            "🧠 Gerando descrição para o campo: role.displayName\n",
            "✅ Carregando modelo...\n"
          ]
        },
        {
          "output_type": "stream",
          "name": "stderr",
          "text": [
            "Device set to use cpu\n"
          ]
        },
        {
          "output_type": "stream",
          "name": "stdout",
          "text": [
            "✅ Gerando documentação...\n",
            "✅ Liberando modelo...\n",
            "🧠 Gerando descrição para o campo: role.description\n",
            "✅ Carregando modelo...\n"
          ]
        },
        {
          "output_type": "stream",
          "name": "stderr",
          "text": [
            "Device set to use cpu\n"
          ]
        },
        {
          "output_type": "stream",
          "name": "stdout",
          "text": [
            "✅ Gerando documentação...\n",
            "✅ Liberando modelo...\n",
            "🧠 Gerando descrição para o campo: role.displayIcon\n",
            "✅ Carregando modelo...\n"
          ]
        },
        {
          "output_type": "stream",
          "name": "stderr",
          "text": [
            "Device set to use cpu\n"
          ]
        },
        {
          "output_type": "stream",
          "name": "stdout",
          "text": [
            "✅ Gerando documentação...\n",
            "✅ Liberando modelo...\n",
            "🧠 Gerando descrição para o campo: role.assetPath\n",
            "✅ Carregando modelo...\n"
          ]
        },
        {
          "output_type": "stream",
          "name": "stderr",
          "text": [
            "Device set to use cpu\n"
          ]
        },
        {
          "output_type": "stream",
          "name": "stdout",
          "text": [
            "✅ Gerando documentação...\n",
            "✅ Liberando modelo...\n",
            "🧠 Gerando descrição para o campo: recruitmentData\n",
            "✅ Carregando modelo...\n"
          ]
        },
        {
          "output_type": "stream",
          "name": "stderr",
          "text": [
            "Device set to use cpu\n"
          ]
        },
        {
          "output_type": "stream",
          "name": "stdout",
          "text": [
            "✅ Gerando documentação...\n",
            "✅ Liberando modelo...\n",
            "🧠 Gerando descrição para o campo: abilities\n",
            "✅ Carregando modelo...\n"
          ]
        },
        {
          "output_type": "stream",
          "name": "stderr",
          "text": [
            "Device set to use cpu\n"
          ]
        },
        {
          "output_type": "stream",
          "name": "stdout",
          "text": [
            "✅ Gerando documentação...\n",
            "✅ Liberando modelo...\n",
            "🧠 Gerando descrição para o campo: voiceLine\n",
            "✅ Carregando modelo...\n"
          ]
        },
        {
          "output_type": "stream",
          "name": "stderr",
          "text": [
            "Device set to use cpu\n"
          ]
        },
        {
          "output_type": "stream",
          "name": "stdout",
          "text": [
            "✅ Gerando documentação...\n",
            "✅ Liberando modelo...\n",
            "✅ Documentação gerada para yoru.json\n",
            "📄 Gerando documentação para: reyna.json\n",
            "✅ Carregando modelo...\n"
          ]
        },
        {
          "output_type": "stream",
          "name": "stderr",
          "text": [
            "Device set to use cpu\n"
          ]
        },
        {
          "output_type": "stream",
          "name": "stdout",
          "text": [
            "✅ Gerando documentação...\n",
            "✅ Liberando modelo...\n",
            "🧠 Gerando descrição para o campo: uuid\n",
            "✅ Carregando modelo...\n"
          ]
        },
        {
          "output_type": "stream",
          "name": "stderr",
          "text": [
            "Device set to use cpu\n"
          ]
        },
        {
          "output_type": "stream",
          "name": "stdout",
          "text": [
            "✅ Gerando documentação...\n",
            "✅ Liberando modelo...\n",
            "🧠 Gerando descrição para o campo: displayName\n",
            "✅ Carregando modelo...\n"
          ]
        },
        {
          "output_type": "stream",
          "name": "stderr",
          "text": [
            "Device set to use cpu\n"
          ]
        },
        {
          "output_type": "stream",
          "name": "stdout",
          "text": [
            "✅ Gerando documentação...\n",
            "✅ Liberando modelo...\n",
            "🧠 Gerando descrição para o campo: description\n",
            "✅ Carregando modelo...\n"
          ]
        },
        {
          "output_type": "stream",
          "name": "stderr",
          "text": [
            "Device set to use cpu\n"
          ]
        },
        {
          "output_type": "stream",
          "name": "stdout",
          "text": [
            "✅ Gerando documentação...\n",
            "✅ Liberando modelo...\n",
            "🧠 Gerando descrição para o campo: developerName\n",
            "✅ Carregando modelo...\n"
          ]
        },
        {
          "output_type": "stream",
          "name": "stderr",
          "text": [
            "Device set to use cpu\n"
          ]
        },
        {
          "output_type": "stream",
          "name": "stdout",
          "text": [
            "✅ Gerando documentação...\n",
            "✅ Liberando modelo...\n",
            "🧠 Gerando descrição para o campo: releaseDate\n",
            "✅ Carregando modelo...\n"
          ]
        },
        {
          "output_type": "stream",
          "name": "stderr",
          "text": [
            "Device set to use cpu\n"
          ]
        },
        {
          "output_type": "stream",
          "name": "stdout",
          "text": [
            "✅ Gerando documentação...\n",
            "✅ Liberando modelo...\n",
            "🧠 Gerando descrição para o campo: characterTags\n",
            "✅ Carregando modelo...\n"
          ]
        },
        {
          "output_type": "stream",
          "name": "stderr",
          "text": [
            "Device set to use cpu\n"
          ]
        },
        {
          "output_type": "stream",
          "name": "stdout",
          "text": [
            "✅ Gerando documentação...\n",
            "✅ Liberando modelo...\n",
            "🧠 Gerando descrição para o campo: displayIcon\n",
            "✅ Carregando modelo...\n"
          ]
        },
        {
          "output_type": "stream",
          "name": "stderr",
          "text": [
            "Device set to use cpu\n"
          ]
        },
        {
          "output_type": "stream",
          "name": "stdout",
          "text": [
            "✅ Gerando documentação...\n",
            "✅ Liberando modelo...\n",
            "🧠 Gerando descrição para o campo: displayIconSmall\n",
            "✅ Carregando modelo...\n"
          ]
        },
        {
          "output_type": "stream",
          "name": "stderr",
          "text": [
            "Device set to use cpu\n"
          ]
        },
        {
          "output_type": "stream",
          "name": "stdout",
          "text": [
            "✅ Gerando documentação...\n",
            "✅ Liberando modelo...\n",
            "🧠 Gerando descrição para o campo: bustPortrait\n",
            "✅ Carregando modelo...\n"
          ]
        },
        {
          "output_type": "stream",
          "name": "stderr",
          "text": [
            "Device set to use cpu\n"
          ]
        },
        {
          "output_type": "stream",
          "name": "stdout",
          "text": [
            "✅ Gerando documentação...\n",
            "✅ Liberando modelo...\n",
            "🧠 Gerando descrição para o campo: fullPortrait\n",
            "✅ Carregando modelo...\n"
          ]
        },
        {
          "output_type": "stream",
          "name": "stderr",
          "text": [
            "Device set to use cpu\n"
          ]
        },
        {
          "output_type": "stream",
          "name": "stdout",
          "text": [
            "✅ Gerando documentação...\n",
            "✅ Liberando modelo...\n",
            "🧠 Gerando descrição para o campo: fullPortraitV2\n",
            "✅ Carregando modelo...\n"
          ]
        },
        {
          "output_type": "stream",
          "name": "stderr",
          "text": [
            "Device set to use cpu\n"
          ]
        },
        {
          "output_type": "stream",
          "name": "stdout",
          "text": [
            "✅ Gerando documentação...\n",
            "✅ Liberando modelo...\n",
            "🧠 Gerando descrição para o campo: killfeedPortrait\n",
            "✅ Carregando modelo...\n"
          ]
        },
        {
          "output_type": "stream",
          "name": "stderr",
          "text": [
            "Device set to use cpu\n"
          ]
        },
        {
          "output_type": "stream",
          "name": "stdout",
          "text": [
            "✅ Gerando documentação...\n",
            "✅ Liberando modelo...\n",
            "🧠 Gerando descrição para o campo: background\n",
            "✅ Carregando modelo...\n"
          ]
        },
        {
          "output_type": "stream",
          "name": "stderr",
          "text": [
            "Device set to use cpu\n"
          ]
        },
        {
          "output_type": "stream",
          "name": "stdout",
          "text": [
            "✅ Gerando documentação...\n",
            "✅ Liberando modelo...\n",
            "🧠 Gerando descrição para o campo: backgroundGradientColors\n",
            "✅ Carregando modelo...\n"
          ]
        },
        {
          "output_type": "stream",
          "name": "stderr",
          "text": [
            "Device set to use cpu\n"
          ]
        },
        {
          "output_type": "stream",
          "name": "stdout",
          "text": [
            "✅ Gerando documentação...\n",
            "✅ Liberando modelo...\n",
            "🧠 Gerando descrição para o campo: assetPath\n",
            "✅ Carregando modelo...\n"
          ]
        },
        {
          "output_type": "stream",
          "name": "stderr",
          "text": [
            "Device set to use cpu\n"
          ]
        },
        {
          "output_type": "stream",
          "name": "stdout",
          "text": [
            "✅ Gerando documentação...\n",
            "✅ Liberando modelo...\n",
            "🧠 Gerando descrição para o campo: isFullPortraitRightFacing\n",
            "✅ Carregando modelo...\n"
          ]
        },
        {
          "output_type": "stream",
          "name": "stderr",
          "text": [
            "Device set to use cpu\n"
          ]
        },
        {
          "output_type": "stream",
          "name": "stdout",
          "text": [
            "✅ Gerando documentação...\n",
            "✅ Liberando modelo...\n",
            "🧠 Gerando descrição para o campo: isPlayableCharacter\n",
            "✅ Carregando modelo...\n"
          ]
        },
        {
          "output_type": "stream",
          "name": "stderr",
          "text": [
            "Device set to use cpu\n"
          ]
        },
        {
          "output_type": "stream",
          "name": "stdout",
          "text": [
            "✅ Gerando documentação...\n",
            "✅ Liberando modelo...\n",
            "🧠 Gerando descrição para o campo: isAvailableForTest\n",
            "✅ Carregando modelo...\n"
          ]
        },
        {
          "output_type": "stream",
          "name": "stderr",
          "text": [
            "Device set to use cpu\n"
          ]
        },
        {
          "output_type": "stream",
          "name": "stdout",
          "text": [
            "✅ Gerando documentação...\n",
            "✅ Liberando modelo...\n",
            "🧠 Gerando descrição para o campo: isBaseContent\n",
            "✅ Carregando modelo...\n"
          ]
        },
        {
          "output_type": "stream",
          "name": "stderr",
          "text": [
            "Device set to use cpu\n"
          ]
        },
        {
          "output_type": "stream",
          "name": "stdout",
          "text": [
            "✅ Gerando documentação...\n",
            "✅ Liberando modelo...\n",
            "🧠 Gerando descrição para o campo: role.uuid\n",
            "✅ Carregando modelo...\n"
          ]
        },
        {
          "output_type": "stream",
          "name": "stderr",
          "text": [
            "Device set to use cpu\n"
          ]
        },
        {
          "output_type": "stream",
          "name": "stdout",
          "text": [
            "✅ Gerando documentação...\n",
            "✅ Liberando modelo...\n",
            "🧠 Gerando descrição para o campo: role.displayName\n",
            "✅ Carregando modelo...\n"
          ]
        },
        {
          "output_type": "stream",
          "name": "stderr",
          "text": [
            "Device set to use cpu\n"
          ]
        },
        {
          "output_type": "stream",
          "name": "stdout",
          "text": [
            "✅ Gerando documentação...\n",
            "✅ Liberando modelo...\n",
            "🧠 Gerando descrição para o campo: role.description\n",
            "✅ Carregando modelo...\n"
          ]
        },
        {
          "output_type": "stream",
          "name": "stderr",
          "text": [
            "Device set to use cpu\n"
          ]
        },
        {
          "output_type": "stream",
          "name": "stdout",
          "text": [
            "✅ Gerando documentação...\n",
            "✅ Liberando modelo...\n",
            "🧠 Gerando descrição para o campo: role.displayIcon\n",
            "✅ Carregando modelo...\n"
          ]
        },
        {
          "output_type": "stream",
          "name": "stderr",
          "text": [
            "Device set to use cpu\n"
          ]
        },
        {
          "output_type": "stream",
          "name": "stdout",
          "text": [
            "✅ Gerando documentação...\n",
            "✅ Liberando modelo...\n",
            "🧠 Gerando descrição para o campo: role.assetPath\n",
            "✅ Carregando modelo...\n"
          ]
        },
        {
          "output_type": "stream",
          "name": "stderr",
          "text": [
            "Device set to use cpu\n"
          ]
        },
        {
          "output_type": "stream",
          "name": "stdout",
          "text": [
            "✅ Gerando documentação...\n",
            "✅ Liberando modelo...\n",
            "🧠 Gerando descrição para o campo: recruitmentData\n",
            "✅ Carregando modelo...\n"
          ]
        },
        {
          "output_type": "stream",
          "name": "stderr",
          "text": [
            "Device set to use cpu\n"
          ]
        },
        {
          "output_type": "stream",
          "name": "stdout",
          "text": [
            "✅ Gerando documentação...\n",
            "✅ Liberando modelo...\n",
            "🧠 Gerando descrição para o campo: abilities\n",
            "✅ Carregando modelo...\n"
          ]
        },
        {
          "output_type": "stream",
          "name": "stderr",
          "text": [
            "Device set to use cpu\n"
          ]
        },
        {
          "output_type": "stream",
          "name": "stdout",
          "text": [
            "✅ Gerando documentação...\n",
            "✅ Liberando modelo...\n",
            "🧠 Gerando descrição para o campo: voiceLine\n",
            "✅ Carregando modelo...\n"
          ]
        },
        {
          "output_type": "stream",
          "name": "stderr",
          "text": [
            "Device set to use cpu\n"
          ]
        },
        {
          "output_type": "stream",
          "name": "stdout",
          "text": [
            "✅ Gerando documentação...\n",
            "✅ Liberando modelo...\n",
            "✅ Documentação gerada para reyna.json\n",
            "📄 Gerando documentação para: iso.json\n",
            "✅ Carregando modelo...\n"
          ]
        },
        {
          "output_type": "stream",
          "name": "stderr",
          "text": [
            "Device set to use cpu\n"
          ]
        },
        {
          "output_type": "stream",
          "name": "stdout",
          "text": [
            "✅ Gerando documentação...\n",
            "✅ Liberando modelo...\n",
            "🧠 Gerando descrição para o campo: uuid\n",
            "✅ Carregando modelo...\n"
          ]
        },
        {
          "output_type": "stream",
          "name": "stderr",
          "text": [
            "Device set to use cpu\n"
          ]
        },
        {
          "output_type": "stream",
          "name": "stdout",
          "text": [
            "✅ Gerando documentação...\n",
            "✅ Liberando modelo...\n",
            "🧠 Gerando descrição para o campo: displayName\n",
            "✅ Carregando modelo...\n"
          ]
        },
        {
          "output_type": "stream",
          "name": "stderr",
          "text": [
            "Device set to use cpu\n"
          ]
        },
        {
          "output_type": "stream",
          "name": "stdout",
          "text": [
            "✅ Gerando documentação...\n",
            "✅ Liberando modelo...\n",
            "🧠 Gerando descrição para o campo: description\n",
            "✅ Carregando modelo...\n"
          ]
        },
        {
          "output_type": "stream",
          "name": "stderr",
          "text": [
            "Device set to use cpu\n"
          ]
        },
        {
          "output_type": "stream",
          "name": "stdout",
          "text": [
            "✅ Gerando documentação...\n",
            "✅ Liberando modelo...\n",
            "🧠 Gerando descrição para o campo: developerName\n",
            "✅ Carregando modelo...\n"
          ]
        },
        {
          "output_type": "stream",
          "name": "stderr",
          "text": [
            "Device set to use cpu\n"
          ]
        },
        {
          "output_type": "stream",
          "name": "stdout",
          "text": [
            "✅ Gerando documentação...\n",
            "✅ Liberando modelo...\n",
            "🧠 Gerando descrição para o campo: releaseDate\n",
            "✅ Carregando modelo...\n"
          ]
        },
        {
          "output_type": "stream",
          "name": "stderr",
          "text": [
            "Device set to use cpu\n"
          ]
        },
        {
          "output_type": "stream",
          "name": "stdout",
          "text": [
            "✅ Gerando documentação...\n",
            "✅ Liberando modelo...\n",
            "🧠 Gerando descrição para o campo: characterTags\n",
            "✅ Carregando modelo...\n"
          ]
        },
        {
          "output_type": "stream",
          "name": "stderr",
          "text": [
            "Device set to use cpu\n"
          ]
        },
        {
          "output_type": "stream",
          "name": "stdout",
          "text": [
            "✅ Gerando documentação...\n",
            "✅ Liberando modelo...\n",
            "🧠 Gerando descrição para o campo: displayIcon\n",
            "✅ Carregando modelo...\n"
          ]
        },
        {
          "output_type": "stream",
          "name": "stderr",
          "text": [
            "Device set to use cpu\n"
          ]
        },
        {
          "output_type": "stream",
          "name": "stdout",
          "text": [
            "✅ Gerando documentação...\n",
            "✅ Liberando modelo...\n",
            "🧠 Gerando descrição para o campo: displayIconSmall\n",
            "✅ Carregando modelo...\n"
          ]
        },
        {
          "output_type": "stream",
          "name": "stderr",
          "text": [
            "Device set to use cpu\n"
          ]
        },
        {
          "output_type": "stream",
          "name": "stdout",
          "text": [
            "✅ Gerando documentação...\n",
            "✅ Liberando modelo...\n",
            "🧠 Gerando descrição para o campo: bustPortrait\n",
            "✅ Carregando modelo...\n"
          ]
        },
        {
          "output_type": "stream",
          "name": "stderr",
          "text": [
            "Device set to use cpu\n"
          ]
        },
        {
          "output_type": "stream",
          "name": "stdout",
          "text": [
            "✅ Gerando documentação...\n",
            "✅ Liberando modelo...\n",
            "🧠 Gerando descrição para o campo: fullPortrait\n",
            "✅ Carregando modelo...\n"
          ]
        },
        {
          "output_type": "stream",
          "name": "stderr",
          "text": [
            "Device set to use cpu\n"
          ]
        },
        {
          "output_type": "stream",
          "name": "stdout",
          "text": [
            "✅ Gerando documentação...\n",
            "✅ Liberando modelo...\n",
            "🧠 Gerando descrição para o campo: fullPortraitV2\n",
            "✅ Carregando modelo...\n"
          ]
        },
        {
          "output_type": "stream",
          "name": "stderr",
          "text": [
            "Device set to use cpu\n"
          ]
        },
        {
          "output_type": "stream",
          "name": "stdout",
          "text": [
            "✅ Gerando documentação...\n",
            "✅ Liberando modelo...\n",
            "🧠 Gerando descrição para o campo: killfeedPortrait\n",
            "✅ Carregando modelo...\n"
          ]
        },
        {
          "output_type": "stream",
          "name": "stderr",
          "text": [
            "Device set to use cpu\n"
          ]
        },
        {
          "output_type": "stream",
          "name": "stdout",
          "text": [
            "✅ Gerando documentação...\n",
            "✅ Liberando modelo...\n",
            "🧠 Gerando descrição para o campo: background\n",
            "✅ Carregando modelo...\n"
          ]
        },
        {
          "output_type": "stream",
          "name": "stderr",
          "text": [
            "Device set to use cpu\n"
          ]
        },
        {
          "output_type": "stream",
          "name": "stdout",
          "text": [
            "✅ Gerando documentação...\n",
            "✅ Liberando modelo...\n",
            "🧠 Gerando descrição para o campo: backgroundGradientColors\n",
            "✅ Carregando modelo...\n"
          ]
        },
        {
          "output_type": "stream",
          "name": "stderr",
          "text": [
            "Device set to use cpu\n"
          ]
        },
        {
          "output_type": "stream",
          "name": "stdout",
          "text": [
            "✅ Gerando documentação...\n",
            "✅ Liberando modelo...\n",
            "🧠 Gerando descrição para o campo: assetPath\n",
            "✅ Carregando modelo...\n"
          ]
        },
        {
          "output_type": "stream",
          "name": "stderr",
          "text": [
            "Device set to use cpu\n"
          ]
        },
        {
          "output_type": "stream",
          "name": "stdout",
          "text": [
            "✅ Gerando documentação...\n",
            "✅ Liberando modelo...\n",
            "🧠 Gerando descrição para o campo: isFullPortraitRightFacing\n",
            "✅ Carregando modelo...\n"
          ]
        },
        {
          "output_type": "stream",
          "name": "stderr",
          "text": [
            "Device set to use cpu\n"
          ]
        },
        {
          "output_type": "stream",
          "name": "stdout",
          "text": [
            "✅ Gerando documentação...\n",
            "✅ Liberando modelo...\n",
            "🧠 Gerando descrição para o campo: isPlayableCharacter\n",
            "✅ Carregando modelo...\n"
          ]
        },
        {
          "output_type": "stream",
          "name": "stderr",
          "text": [
            "Device set to use cpu\n"
          ]
        },
        {
          "output_type": "stream",
          "name": "stdout",
          "text": [
            "✅ Gerando documentação...\n",
            "✅ Liberando modelo...\n",
            "🧠 Gerando descrição para o campo: isAvailableForTest\n",
            "✅ Carregando modelo...\n"
          ]
        },
        {
          "output_type": "stream",
          "name": "stderr",
          "text": [
            "Device set to use cpu\n"
          ]
        },
        {
          "output_type": "stream",
          "name": "stdout",
          "text": [
            "✅ Gerando documentação...\n",
            "✅ Liberando modelo...\n",
            "🧠 Gerando descrição para o campo: isBaseContent\n",
            "✅ Carregando modelo...\n"
          ]
        },
        {
          "output_type": "stream",
          "name": "stderr",
          "text": [
            "Device set to use cpu\n"
          ]
        },
        {
          "output_type": "stream",
          "name": "stdout",
          "text": [
            "✅ Gerando documentação...\n",
            "✅ Liberando modelo...\n",
            "🧠 Gerando descrição para o campo: role.uuid\n",
            "✅ Carregando modelo...\n"
          ]
        },
        {
          "output_type": "stream",
          "name": "stderr",
          "text": [
            "Device set to use cpu\n"
          ]
        },
        {
          "output_type": "stream",
          "name": "stdout",
          "text": [
            "✅ Gerando documentação...\n",
            "✅ Liberando modelo...\n",
            "🧠 Gerando descrição para o campo: role.displayName\n",
            "✅ Carregando modelo...\n"
          ]
        },
        {
          "output_type": "stream",
          "name": "stderr",
          "text": [
            "Device set to use cpu\n"
          ]
        },
        {
          "output_type": "stream",
          "name": "stdout",
          "text": [
            "✅ Gerando documentação...\n",
            "✅ Liberando modelo...\n",
            "🧠 Gerando descrição para o campo: role.description\n",
            "✅ Carregando modelo...\n"
          ]
        },
        {
          "output_type": "stream",
          "name": "stderr",
          "text": [
            "Device set to use cpu\n"
          ]
        },
        {
          "output_type": "stream",
          "name": "stdout",
          "text": [
            "✅ Gerando documentação...\n",
            "✅ Liberando modelo...\n",
            "🧠 Gerando descrição para o campo: role.displayIcon\n",
            "✅ Carregando modelo...\n"
          ]
        },
        {
          "output_type": "stream",
          "name": "stderr",
          "text": [
            "Device set to use cpu\n"
          ]
        },
        {
          "output_type": "stream",
          "name": "stdout",
          "text": [
            "✅ Gerando documentação...\n",
            "✅ Liberando modelo...\n",
            "🧠 Gerando descrição para o campo: role.assetPath\n",
            "✅ Carregando modelo...\n"
          ]
        },
        {
          "output_type": "stream",
          "name": "stderr",
          "text": [
            "Device set to use cpu\n"
          ]
        },
        {
          "output_type": "stream",
          "name": "stdout",
          "text": [
            "✅ Gerando documentação...\n",
            "✅ Liberando modelo...\n",
            "🧠 Gerando descrição para o campo: recruitmentData.counterId\n",
            "✅ Carregando modelo...\n"
          ]
        },
        {
          "output_type": "stream",
          "name": "stderr",
          "text": [
            "Device set to use cpu\n"
          ]
        },
        {
          "output_type": "stream",
          "name": "stdout",
          "text": [
            "✅ Gerando documentação...\n",
            "✅ Liberando modelo...\n",
            "🧠 Gerando descrição para o campo: recruitmentData.milestoneId\n",
            "✅ Carregando modelo...\n"
          ]
        },
        {
          "output_type": "stream",
          "name": "stderr",
          "text": [
            "Device set to use cpu\n"
          ]
        },
        {
          "output_type": "stream",
          "name": "stdout",
          "text": [
            "✅ Gerando documentação...\n",
            "✅ Liberando modelo...\n",
            "🧠 Gerando descrição para o campo: recruitmentData.milestoneThreshold\n",
            "✅ Carregando modelo...\n"
          ]
        },
        {
          "output_type": "stream",
          "name": "stderr",
          "text": [
            "Device set to use cpu\n"
          ]
        },
        {
          "output_type": "stream",
          "name": "stdout",
          "text": [
            "✅ Gerando documentação...\n",
            "✅ Liberando modelo...\n",
            "🧠 Gerando descrição para o campo: recruitmentData.useLevelVpCostOverride\n",
            "✅ Carregando modelo...\n"
          ]
        },
        {
          "output_type": "stream",
          "name": "stderr",
          "text": [
            "Device set to use cpu\n"
          ]
        },
        {
          "output_type": "stream",
          "name": "stdout",
          "text": [
            "✅ Gerando documentação...\n",
            "✅ Liberando modelo...\n",
            "🧠 Gerando descrição para o campo: recruitmentData.levelVpCostOverride\n",
            "✅ Carregando modelo...\n"
          ]
        },
        {
          "output_type": "stream",
          "name": "stderr",
          "text": [
            "Device set to use cpu\n"
          ]
        },
        {
          "output_type": "stream",
          "name": "stdout",
          "text": [
            "✅ Gerando documentação...\n",
            "✅ Liberando modelo...\n",
            "🧠 Gerando descrição para o campo: recruitmentData.startDate\n",
            "✅ Carregando modelo...\n"
          ]
        },
        {
          "output_type": "stream",
          "name": "stderr",
          "text": [
            "Device set to use cpu\n"
          ]
        },
        {
          "output_type": "stream",
          "name": "stdout",
          "text": [
            "✅ Gerando documentação...\n",
            "✅ Liberando modelo...\n",
            "🧠 Gerando descrição para o campo: recruitmentData.endDate\n",
            "✅ Carregando modelo...\n"
          ]
        },
        {
          "output_type": "stream",
          "name": "stderr",
          "text": [
            "Device set to use cpu\n"
          ]
        },
        {
          "output_type": "stream",
          "name": "stdout",
          "text": [
            "✅ Gerando documentação...\n",
            "✅ Liberando modelo...\n",
            "🧠 Gerando descrição para o campo: abilities\n",
            "✅ Carregando modelo...\n"
          ]
        },
        {
          "output_type": "stream",
          "name": "stderr",
          "text": [
            "Device set to use cpu\n"
          ]
        },
        {
          "output_type": "stream",
          "name": "stdout",
          "text": [
            "✅ Gerando documentação...\n",
            "✅ Liberando modelo...\n",
            "🧠 Gerando descrição para o campo: voiceLine\n",
            "✅ Carregando modelo...\n"
          ]
        },
        {
          "output_type": "stream",
          "name": "stderr",
          "text": [
            "Device set to use cpu\n"
          ]
        },
        {
          "output_type": "stream",
          "name": "stdout",
          "text": [
            "✅ Gerando documentação...\n",
            "✅ Liberando modelo...\n",
            "✅ Documentação gerada para iso.json\n",
            "📄 Gerando documentação para: phoenix.json\n",
            "✅ Carregando modelo...\n"
          ]
        },
        {
          "output_type": "stream",
          "name": "stderr",
          "text": [
            "Device set to use cpu\n"
          ]
        },
        {
          "output_type": "stream",
          "name": "stdout",
          "text": [
            "✅ Gerando documentação...\n",
            "✅ Liberando modelo...\n",
            "🧠 Gerando descrição para o campo: uuid\n",
            "✅ Carregando modelo...\n"
          ]
        },
        {
          "output_type": "stream",
          "name": "stderr",
          "text": [
            "Device set to use cpu\n"
          ]
        },
        {
          "output_type": "stream",
          "name": "stdout",
          "text": [
            "✅ Gerando documentação...\n",
            "✅ Liberando modelo...\n",
            "🧠 Gerando descrição para o campo: displayName\n",
            "✅ Carregando modelo...\n"
          ]
        },
        {
          "output_type": "stream",
          "name": "stderr",
          "text": [
            "Device set to use cpu\n"
          ]
        },
        {
          "output_type": "stream",
          "name": "stdout",
          "text": [
            "✅ Gerando documentação...\n",
            "✅ Liberando modelo...\n",
            "🧠 Gerando descrição para o campo: description\n",
            "✅ Carregando modelo...\n"
          ]
        },
        {
          "output_type": "stream",
          "name": "stderr",
          "text": [
            "Device set to use cpu\n"
          ]
        },
        {
          "output_type": "stream",
          "name": "stdout",
          "text": [
            "✅ Gerando documentação...\n",
            "✅ Liberando modelo...\n",
            "🧠 Gerando descrição para o campo: developerName\n",
            "✅ Carregando modelo...\n"
          ]
        },
        {
          "output_type": "stream",
          "name": "stderr",
          "text": [
            "Device set to use cpu\n"
          ]
        },
        {
          "output_type": "stream",
          "name": "stdout",
          "text": [
            "✅ Gerando documentação...\n",
            "✅ Liberando modelo...\n",
            "🧠 Gerando descrição para o campo: releaseDate\n",
            "✅ Carregando modelo...\n"
          ]
        },
        {
          "output_type": "stream",
          "name": "stderr",
          "text": [
            "Device set to use cpu\n"
          ]
        },
        {
          "output_type": "stream",
          "name": "stdout",
          "text": [
            "✅ Gerando documentação...\n",
            "✅ Liberando modelo...\n",
            "🧠 Gerando descrição para o campo: characterTags\n",
            "✅ Carregando modelo...\n"
          ]
        },
        {
          "output_type": "stream",
          "name": "stderr",
          "text": [
            "Device set to use cpu\n"
          ]
        },
        {
          "output_type": "stream",
          "name": "stdout",
          "text": [
            "✅ Gerando documentação...\n",
            "✅ Liberando modelo...\n",
            "🧠 Gerando descrição para o campo: displayIcon\n",
            "✅ Carregando modelo...\n"
          ]
        },
        {
          "output_type": "stream",
          "name": "stderr",
          "text": [
            "Device set to use cpu\n"
          ]
        },
        {
          "output_type": "stream",
          "name": "stdout",
          "text": [
            "✅ Gerando documentação...\n",
            "✅ Liberando modelo...\n",
            "🧠 Gerando descrição para o campo: displayIconSmall\n",
            "✅ Carregando modelo...\n"
          ]
        },
        {
          "output_type": "stream",
          "name": "stderr",
          "text": [
            "Device set to use cpu\n"
          ]
        },
        {
          "output_type": "stream",
          "name": "stdout",
          "text": [
            "✅ Gerando documentação...\n",
            "✅ Liberando modelo...\n",
            "🧠 Gerando descrição para o campo: bustPortrait\n",
            "✅ Carregando modelo...\n"
          ]
        },
        {
          "output_type": "stream",
          "name": "stderr",
          "text": [
            "Device set to use cpu\n"
          ]
        },
        {
          "output_type": "stream",
          "name": "stdout",
          "text": [
            "✅ Gerando documentação...\n",
            "✅ Liberando modelo...\n",
            "🧠 Gerando descrição para o campo: fullPortrait\n",
            "✅ Carregando modelo...\n"
          ]
        },
        {
          "output_type": "stream",
          "name": "stderr",
          "text": [
            "Device set to use cpu\n"
          ]
        },
        {
          "output_type": "stream",
          "name": "stdout",
          "text": [
            "✅ Gerando documentação...\n",
            "✅ Liberando modelo...\n",
            "🧠 Gerando descrição para o campo: fullPortraitV2\n",
            "✅ Carregando modelo...\n"
          ]
        },
        {
          "output_type": "stream",
          "name": "stderr",
          "text": [
            "Device set to use cpu\n"
          ]
        },
        {
          "output_type": "stream",
          "name": "stdout",
          "text": [
            "✅ Gerando documentação...\n",
            "✅ Liberando modelo...\n",
            "🧠 Gerando descrição para o campo: killfeedPortrait\n",
            "✅ Carregando modelo...\n"
          ]
        },
        {
          "output_type": "stream",
          "name": "stderr",
          "text": [
            "Device set to use cpu\n"
          ]
        },
        {
          "output_type": "stream",
          "name": "stdout",
          "text": [
            "✅ Gerando documentação...\n",
            "✅ Liberando modelo...\n",
            "🧠 Gerando descrição para o campo: background\n",
            "✅ Carregando modelo...\n"
          ]
        },
        {
          "output_type": "stream",
          "name": "stderr",
          "text": [
            "Device set to use cpu\n"
          ]
        },
        {
          "output_type": "stream",
          "name": "stdout",
          "text": [
            "✅ Gerando documentação...\n",
            "✅ Liberando modelo...\n",
            "🧠 Gerando descrição para o campo: backgroundGradientColors\n",
            "✅ Carregando modelo...\n"
          ]
        },
        {
          "output_type": "stream",
          "name": "stderr",
          "text": [
            "Device set to use cpu\n"
          ]
        },
        {
          "output_type": "stream",
          "name": "stdout",
          "text": [
            "✅ Gerando documentação...\n",
            "✅ Liberando modelo...\n",
            "🧠 Gerando descrição para o campo: assetPath\n",
            "✅ Carregando modelo...\n"
          ]
        },
        {
          "output_type": "stream",
          "name": "stderr",
          "text": [
            "Device set to use cpu\n"
          ]
        },
        {
          "output_type": "stream",
          "name": "stdout",
          "text": [
            "✅ Gerando documentação...\n",
            "✅ Liberando modelo...\n",
            "🧠 Gerando descrição para o campo: isFullPortraitRightFacing\n",
            "✅ Carregando modelo...\n"
          ]
        },
        {
          "output_type": "stream",
          "name": "stderr",
          "text": [
            "Device set to use cpu\n"
          ]
        },
        {
          "output_type": "stream",
          "name": "stdout",
          "text": [
            "✅ Gerando documentação...\n",
            "✅ Liberando modelo...\n",
            "🧠 Gerando descrição para o campo: isPlayableCharacter\n",
            "✅ Carregando modelo...\n"
          ]
        },
        {
          "output_type": "stream",
          "name": "stderr",
          "text": [
            "Device set to use cpu\n"
          ]
        },
        {
          "output_type": "stream",
          "name": "stdout",
          "text": [
            "✅ Gerando documentação...\n",
            "✅ Liberando modelo...\n",
            "🧠 Gerando descrição para o campo: isAvailableForTest\n",
            "✅ Carregando modelo...\n"
          ]
        },
        {
          "output_type": "stream",
          "name": "stderr",
          "text": [
            "Device set to use cpu\n"
          ]
        },
        {
          "output_type": "stream",
          "name": "stdout",
          "text": [
            "✅ Gerando documentação...\n",
            "✅ Liberando modelo...\n",
            "🧠 Gerando descrição para o campo: isBaseContent\n",
            "✅ Carregando modelo...\n"
          ]
        },
        {
          "output_type": "stream",
          "name": "stderr",
          "text": [
            "Device set to use cpu\n"
          ]
        },
        {
          "output_type": "stream",
          "name": "stdout",
          "text": [
            "✅ Gerando documentação...\n",
            "✅ Liberando modelo...\n",
            "🧠 Gerando descrição para o campo: role.uuid\n",
            "✅ Carregando modelo...\n"
          ]
        },
        {
          "output_type": "stream",
          "name": "stderr",
          "text": [
            "Device set to use cpu\n"
          ]
        },
        {
          "output_type": "stream",
          "name": "stdout",
          "text": [
            "✅ Gerando documentação...\n",
            "✅ Liberando modelo...\n",
            "🧠 Gerando descrição para o campo: role.displayName\n",
            "✅ Carregando modelo...\n"
          ]
        },
        {
          "output_type": "stream",
          "name": "stderr",
          "text": [
            "Device set to use cpu\n"
          ]
        },
        {
          "output_type": "stream",
          "name": "stdout",
          "text": [
            "✅ Gerando documentação...\n",
            "✅ Liberando modelo...\n",
            "🧠 Gerando descrição para o campo: role.description\n",
            "✅ Carregando modelo...\n"
          ]
        },
        {
          "output_type": "stream",
          "name": "stderr",
          "text": [
            "Device set to use cpu\n"
          ]
        },
        {
          "output_type": "stream",
          "name": "stdout",
          "text": [
            "✅ Gerando documentação...\n",
            "✅ Liberando modelo...\n",
            "🧠 Gerando descrição para o campo: role.displayIcon\n",
            "✅ Carregando modelo...\n"
          ]
        },
        {
          "output_type": "stream",
          "name": "stderr",
          "text": [
            "Device set to use cpu\n"
          ]
        },
        {
          "output_type": "stream",
          "name": "stdout",
          "text": [
            "✅ Gerando documentação...\n",
            "✅ Liberando modelo...\n",
            "🧠 Gerando descrição para o campo: role.assetPath\n",
            "✅ Carregando modelo...\n"
          ]
        },
        {
          "output_type": "stream",
          "name": "stderr",
          "text": [
            "Device set to use cpu\n"
          ]
        },
        {
          "output_type": "stream",
          "name": "stdout",
          "text": [
            "✅ Gerando documentação...\n",
            "✅ Liberando modelo...\n",
            "🧠 Gerando descrição para o campo: recruitmentData\n",
            "✅ Carregando modelo...\n"
          ]
        },
        {
          "output_type": "stream",
          "name": "stderr",
          "text": [
            "Device set to use cpu\n"
          ]
        },
        {
          "output_type": "stream",
          "name": "stdout",
          "text": [
            "✅ Gerando documentação...\n",
            "✅ Liberando modelo...\n",
            "🧠 Gerando descrição para o campo: abilities\n",
            "✅ Carregando modelo...\n"
          ]
        },
        {
          "output_type": "stream",
          "name": "stderr",
          "text": [
            "Device set to use cpu\n"
          ]
        },
        {
          "output_type": "stream",
          "name": "stdout",
          "text": [
            "✅ Gerando documentação...\n",
            "✅ Liberando modelo...\n",
            "🧠 Gerando descrição para o campo: voiceLine\n",
            "✅ Carregando modelo...\n"
          ]
        },
        {
          "output_type": "stream",
          "name": "stderr",
          "text": [
            "Device set to use cpu\n"
          ]
        },
        {
          "output_type": "stream",
          "name": "stdout",
          "text": [
            "✅ Gerando documentação...\n",
            "✅ Liberando modelo...\n",
            "✅ Documentação gerada para phoenix.json\n",
            "📄 Gerando documentação para: harbor.json\n",
            "✅ Carregando modelo...\n"
          ]
        },
        {
          "output_type": "stream",
          "name": "stderr",
          "text": [
            "Device set to use cpu\n"
          ]
        },
        {
          "output_type": "stream",
          "name": "stdout",
          "text": [
            "✅ Gerando documentação...\n",
            "✅ Liberando modelo...\n",
            "🧠 Gerando descrição para o campo: uuid\n",
            "✅ Carregando modelo...\n"
          ]
        },
        {
          "output_type": "stream",
          "name": "stderr",
          "text": [
            "Device set to use cpu\n"
          ]
        },
        {
          "output_type": "stream",
          "name": "stdout",
          "text": [
            "✅ Gerando documentação...\n",
            "✅ Liberando modelo...\n",
            "🧠 Gerando descrição para o campo: displayName\n",
            "✅ Carregando modelo...\n"
          ]
        },
        {
          "output_type": "stream",
          "name": "stderr",
          "text": [
            "Device set to use cpu\n"
          ]
        },
        {
          "output_type": "stream",
          "name": "stdout",
          "text": [
            "✅ Gerando documentação...\n",
            "✅ Liberando modelo...\n",
            "🧠 Gerando descrição para o campo: description\n",
            "✅ Carregando modelo...\n"
          ]
        },
        {
          "output_type": "stream",
          "name": "stderr",
          "text": [
            "Device set to use cpu\n"
          ]
        },
        {
          "output_type": "stream",
          "name": "stdout",
          "text": [
            "✅ Gerando documentação...\n",
            "✅ Liberando modelo...\n",
            "🧠 Gerando descrição para o campo: developerName\n",
            "✅ Carregando modelo...\n"
          ]
        },
        {
          "output_type": "stream",
          "name": "stderr",
          "text": [
            "Device set to use cpu\n"
          ]
        },
        {
          "output_type": "stream",
          "name": "stdout",
          "text": [
            "✅ Gerando documentação...\n",
            "✅ Liberando modelo...\n",
            "🧠 Gerando descrição para o campo: releaseDate\n",
            "✅ Carregando modelo...\n"
          ]
        },
        {
          "output_type": "stream",
          "name": "stderr",
          "text": [
            "Device set to use cpu\n"
          ]
        },
        {
          "output_type": "stream",
          "name": "stdout",
          "text": [
            "✅ Gerando documentação...\n",
            "✅ Liberando modelo...\n",
            "🧠 Gerando descrição para o campo: characterTags\n",
            "✅ Carregando modelo...\n"
          ]
        },
        {
          "output_type": "stream",
          "name": "stderr",
          "text": [
            "Device set to use cpu\n"
          ]
        },
        {
          "output_type": "stream",
          "name": "stdout",
          "text": [
            "✅ Gerando documentação...\n",
            "✅ Liberando modelo...\n",
            "🧠 Gerando descrição para o campo: displayIcon\n",
            "✅ Carregando modelo...\n"
          ]
        },
        {
          "output_type": "stream",
          "name": "stderr",
          "text": [
            "Device set to use cpu\n"
          ]
        },
        {
          "output_type": "stream",
          "name": "stdout",
          "text": [
            "✅ Gerando documentação...\n",
            "✅ Liberando modelo...\n",
            "🧠 Gerando descrição para o campo: displayIconSmall\n",
            "✅ Carregando modelo...\n"
          ]
        },
        {
          "output_type": "stream",
          "name": "stderr",
          "text": [
            "Device set to use cpu\n"
          ]
        },
        {
          "output_type": "stream",
          "name": "stdout",
          "text": [
            "✅ Gerando documentação...\n",
            "✅ Liberando modelo...\n",
            "🧠 Gerando descrição para o campo: bustPortrait\n",
            "✅ Carregando modelo...\n"
          ]
        },
        {
          "output_type": "stream",
          "name": "stderr",
          "text": [
            "Device set to use cpu\n"
          ]
        },
        {
          "output_type": "stream",
          "name": "stdout",
          "text": [
            "✅ Gerando documentação...\n",
            "✅ Liberando modelo...\n",
            "🧠 Gerando descrição para o campo: fullPortrait\n",
            "✅ Carregando modelo...\n"
          ]
        },
        {
          "output_type": "stream",
          "name": "stderr",
          "text": [
            "Device set to use cpu\n"
          ]
        },
        {
          "output_type": "stream",
          "name": "stdout",
          "text": [
            "✅ Gerando documentação...\n",
            "✅ Liberando modelo...\n",
            "🧠 Gerando descrição para o campo: fullPortraitV2\n",
            "✅ Carregando modelo...\n"
          ]
        },
        {
          "output_type": "stream",
          "name": "stderr",
          "text": [
            "Device set to use cpu\n"
          ]
        },
        {
          "output_type": "stream",
          "name": "stdout",
          "text": [
            "✅ Gerando documentação...\n",
            "✅ Liberando modelo...\n",
            "🧠 Gerando descrição para o campo: killfeedPortrait\n",
            "✅ Carregando modelo...\n"
          ]
        },
        {
          "output_type": "stream",
          "name": "stderr",
          "text": [
            "Device set to use cpu\n"
          ]
        },
        {
          "output_type": "stream",
          "name": "stdout",
          "text": [
            "✅ Gerando documentação...\n",
            "✅ Liberando modelo...\n",
            "🧠 Gerando descrição para o campo: background\n",
            "✅ Carregando modelo...\n"
          ]
        },
        {
          "output_type": "stream",
          "name": "stderr",
          "text": [
            "Device set to use cpu\n"
          ]
        },
        {
          "output_type": "stream",
          "name": "stdout",
          "text": [
            "✅ Gerando documentação...\n",
            "✅ Liberando modelo...\n",
            "🧠 Gerando descrição para o campo: backgroundGradientColors\n",
            "✅ Carregando modelo...\n"
          ]
        },
        {
          "output_type": "stream",
          "name": "stderr",
          "text": [
            "Device set to use cpu\n"
          ]
        },
        {
          "output_type": "stream",
          "name": "stdout",
          "text": [
            "✅ Gerando documentação...\n",
            "✅ Liberando modelo...\n",
            "🧠 Gerando descrição para o campo: assetPath\n",
            "✅ Carregando modelo...\n"
          ]
        },
        {
          "output_type": "stream",
          "name": "stderr",
          "text": [
            "Device set to use cpu\n"
          ]
        },
        {
          "output_type": "stream",
          "name": "stdout",
          "text": [
            "✅ Gerando documentação...\n",
            "✅ Liberando modelo...\n",
            "🧠 Gerando descrição para o campo: isFullPortraitRightFacing\n",
            "✅ Carregando modelo...\n"
          ]
        },
        {
          "output_type": "stream",
          "name": "stderr",
          "text": [
            "Device set to use cpu\n"
          ]
        },
        {
          "output_type": "stream",
          "name": "stdout",
          "text": [
            "✅ Gerando documentação...\n",
            "✅ Liberando modelo...\n",
            "🧠 Gerando descrição para o campo: isPlayableCharacter\n",
            "✅ Carregando modelo...\n"
          ]
        },
        {
          "output_type": "stream",
          "name": "stderr",
          "text": [
            "Device set to use cpu\n"
          ]
        },
        {
          "output_type": "stream",
          "name": "stdout",
          "text": [
            "✅ Gerando documentação...\n",
            "✅ Liberando modelo...\n",
            "🧠 Gerando descrição para o campo: isAvailableForTest\n",
            "✅ Carregando modelo...\n"
          ]
        },
        {
          "output_type": "stream",
          "name": "stderr",
          "text": [
            "Device set to use cpu\n"
          ]
        },
        {
          "output_type": "stream",
          "name": "stdout",
          "text": [
            "✅ Gerando documentação...\n",
            "✅ Liberando modelo...\n",
            "🧠 Gerando descrição para o campo: isBaseContent\n",
            "✅ Carregando modelo...\n"
          ]
        },
        {
          "output_type": "stream",
          "name": "stderr",
          "text": [
            "Device set to use cpu\n"
          ]
        },
        {
          "output_type": "stream",
          "name": "stdout",
          "text": [
            "✅ Gerando documentação...\n",
            "✅ Liberando modelo...\n",
            "🧠 Gerando descrição para o campo: role.uuid\n",
            "✅ Carregando modelo...\n"
          ]
        },
        {
          "output_type": "stream",
          "name": "stderr",
          "text": [
            "Device set to use cpu\n"
          ]
        },
        {
          "output_type": "stream",
          "name": "stdout",
          "text": [
            "✅ Gerando documentação...\n",
            "✅ Liberando modelo...\n",
            "🧠 Gerando descrição para o campo: role.displayName\n",
            "✅ Carregando modelo...\n"
          ]
        },
        {
          "output_type": "stream",
          "name": "stderr",
          "text": [
            "Device set to use cpu\n"
          ]
        },
        {
          "output_type": "stream",
          "name": "stdout",
          "text": [
            "✅ Gerando documentação...\n",
            "✅ Liberando modelo...\n",
            "🧠 Gerando descrição para o campo: role.description\n",
            "✅ Carregando modelo...\n"
          ]
        },
        {
          "output_type": "stream",
          "name": "stderr",
          "text": [
            "Device set to use cpu\n"
          ]
        },
        {
          "output_type": "stream",
          "name": "stdout",
          "text": [
            "✅ Gerando documentação...\n",
            "✅ Liberando modelo...\n",
            "🧠 Gerando descrição para o campo: role.displayIcon\n",
            "✅ Carregando modelo...\n"
          ]
        },
        {
          "output_type": "stream",
          "name": "stderr",
          "text": [
            "Device set to use cpu\n"
          ]
        },
        {
          "output_type": "stream",
          "name": "stdout",
          "text": [
            "✅ Gerando documentação...\n",
            "✅ Liberando modelo...\n",
            "🧠 Gerando descrição para o campo: role.assetPath\n",
            "✅ Carregando modelo...\n"
          ]
        },
        {
          "output_type": "stream",
          "name": "stderr",
          "text": [
            "Device set to use cpu\n"
          ]
        },
        {
          "output_type": "stream",
          "name": "stdout",
          "text": [
            "✅ Gerando documentação...\n",
            "✅ Liberando modelo...\n",
            "🧠 Gerando descrição para o campo: recruitmentData\n",
            "✅ Carregando modelo...\n"
          ]
        },
        {
          "output_type": "stream",
          "name": "stderr",
          "text": [
            "Device set to use cpu\n"
          ]
        },
        {
          "output_type": "stream",
          "name": "stdout",
          "text": [
            "✅ Gerando documentação...\n",
            "✅ Liberando modelo...\n",
            "🧠 Gerando descrição para o campo: abilities\n",
            "✅ Carregando modelo...\n"
          ]
        },
        {
          "output_type": "stream",
          "name": "stderr",
          "text": [
            "Device set to use cpu\n"
          ]
        },
        {
          "output_type": "stream",
          "name": "stdout",
          "text": [
            "✅ Gerando documentação...\n",
            "✅ Liberando modelo...\n",
            "🧠 Gerando descrição para o campo: voiceLine\n",
            "✅ Carregando modelo...\n"
          ]
        },
        {
          "output_type": "stream",
          "name": "stderr",
          "text": [
            "Device set to use cpu\n"
          ]
        },
        {
          "output_type": "stream",
          "name": "stdout",
          "text": [
            "✅ Gerando documentação...\n",
            "✅ Liberando modelo...\n",
            "✅ Documentação gerada para harbor.json\n"
          ]
        }
      ]
    },
    {
      "cell_type": "code",
      "execution_count": 37,
      "id": "25699c6f",
      "metadata": {
        "colab": {
          "base_uri": "https://localhost:8080/",
          "height": 17
        },
        "id": "25699c6f",
        "outputId": "c42b379c-8f2a-44ed-92e0-3347d96580bb"
      },
      "outputs": [
        {
          "output_type": "display_data",
          "data": {
            "text/plain": [
              "<IPython.core.display.Javascript object>"
            ],
            "application/javascript": [
              "\n",
              "    async function download(id, filename, size) {\n",
              "      if (!google.colab.kernel.accessAllowed) {\n",
              "        return;\n",
              "      }\n",
              "      const div = document.createElement('div');\n",
              "      const label = document.createElement('label');\n",
              "      label.textContent = `Downloading \"${filename}\": `;\n",
              "      div.appendChild(label);\n",
              "      const progress = document.createElement('progress');\n",
              "      progress.max = size;\n",
              "      div.appendChild(progress);\n",
              "      document.body.appendChild(div);\n",
              "\n",
              "      const buffers = [];\n",
              "      let downloaded = 0;\n",
              "\n",
              "      const channel = await google.colab.kernel.comms.open(id);\n",
              "      // Send a message to notify the kernel that we're ready.\n",
              "      channel.send({})\n",
              "\n",
              "      for await (const message of channel.messages) {\n",
              "        // Send a message to notify the kernel that we're ready.\n",
              "        channel.send({})\n",
              "        if (message.buffers) {\n",
              "          for (const buffer of message.buffers) {\n",
              "            buffers.push(buffer);\n",
              "            downloaded += buffer.byteLength;\n",
              "            progress.value = downloaded;\n",
              "          }\n",
              "        }\n",
              "      }\n",
              "      const blob = new Blob(buffers, {type: 'application/binary'});\n",
              "      const a = document.createElement('a');\n",
              "      a.href = window.URL.createObjectURL(blob);\n",
              "      a.download = filename;\n",
              "      div.appendChild(a);\n",
              "      a.click();\n",
              "      div.remove();\n",
              "    }\n",
              "  "
            ]
          },
          "metadata": {}
        },
        {
          "output_type": "display_data",
          "data": {
            "text/plain": [
              "<IPython.core.display.Javascript object>"
            ],
            "application/javascript": [
              "download(\"download_a323f12c-9107-4a49-9821-b9c10c3ccd42\", \"documentacoes_valorant.zip\", 1040041)"
            ]
          },
          "metadata": {}
        }
      ],
      "source": [
        "\n",
        "# ✅ Compactando os arquivos .docx\n",
        "with ZipFile(\"documentacoes_valorant.zip\", \"w\") as zipf:\n",
        "    for file in os.listdir(\"docx\"):\n",
        "        zipf.write(f\"docx/{file}\", arcname=file)\n",
        "\n",
        "# ✅ Download do zip\n",
        "files.download(\"documentacoes_valorant.zip\")\n"
      ]
    }
  ],
  "metadata": {
    "colab": {
      "provenance": [],
      "include_colab_link": true
    },
    "language_info": {
      "name": "python"
    },
    "kernelspec": {
      "name": "python3",
      "display_name": "Python 3"
    },
    "widgets": {
      "application/vnd.jupyter.widget-state+json": {
        "8ce7d1b8439f49188b6fa3f53c0aad39": {
          "model_module": "@jupyter-widgets/controls",
          "model_name": "HBoxModel",
          "model_module_version": "1.5.0",
          "state": {
            "_dom_classes": [],
            "_model_module": "@jupyter-widgets/controls",
            "_model_module_version": "1.5.0",
            "_model_name": "HBoxModel",
            "_view_count": null,
            "_view_module": "@jupyter-widgets/controls",
            "_view_module_version": "1.5.0",
            "_view_name": "HBoxView",
            "box_style": "",
            "children": [
              "IPY_MODEL_e62d97dcb8834577acd2f8df9799e744",
              "IPY_MODEL_8f05806683504d1bac58e78f3fe8a52a",
              "IPY_MODEL_d6805953f9af480492ba85e5d5c35a5f"
            ],
            "layout": "IPY_MODEL_a611427967b444d7ad2adcbcca116acb"
          }
        },
        "e62d97dcb8834577acd2f8df9799e744": {
          "model_module": "@jupyter-widgets/controls",
          "model_name": "HTMLModel",
          "model_module_version": "1.5.0",
          "state": {
            "_dom_classes": [],
            "_model_module": "@jupyter-widgets/controls",
            "_model_module_version": "1.5.0",
            "_model_name": "HTMLModel",
            "_view_count": null,
            "_view_module": "@jupyter-widgets/controls",
            "_view_module_version": "1.5.0",
            "_view_name": "HTMLView",
            "description": "",
            "description_tooltip": null,
            "layout": "IPY_MODEL_e221cb3105c5492f82929ea1662bfbae",
            "placeholder": "​",
            "style": "IPY_MODEL_811027291fdf4d1ab9b9ce467b7f4fe1",
            "value": "tokenizer_config.json: 100%"
          }
        },
        "8f05806683504d1bac58e78f3fe8a52a": {
          "model_module": "@jupyter-widgets/controls",
          "model_name": "FloatProgressModel",
          "model_module_version": "1.5.0",
          "state": {
            "_dom_classes": [],
            "_model_module": "@jupyter-widgets/controls",
            "_model_module_version": "1.5.0",
            "_model_name": "FloatProgressModel",
            "_view_count": null,
            "_view_module": "@jupyter-widgets/controls",
            "_view_module_version": "1.5.0",
            "_view_name": "ProgressView",
            "bar_style": "success",
            "description": "",
            "description_tooltip": null,
            "layout": "IPY_MODEL_6dfc1f9067cb448096d4ad794c737c9b",
            "max": 2537,
            "min": 0,
            "orientation": "horizontal",
            "style": "IPY_MODEL_07354ad7c23a4474b1c68b553e48380c",
            "value": 2537
          }
        },
        "d6805953f9af480492ba85e5d5c35a5f": {
          "model_module": "@jupyter-widgets/controls",
          "model_name": "HTMLModel",
          "model_module_version": "1.5.0",
          "state": {
            "_dom_classes": [],
            "_model_module": "@jupyter-widgets/controls",
            "_model_module_version": "1.5.0",
            "_model_name": "HTMLModel",
            "_view_count": null,
            "_view_module": "@jupyter-widgets/controls",
            "_view_module_version": "1.5.0",
            "_view_name": "HTMLView",
            "description": "",
            "description_tooltip": null,
            "layout": "IPY_MODEL_daf97e3975fc432fadb6e13a038bb59a",
            "placeholder": "​",
            "style": "IPY_MODEL_483bbf7262cd4d51bb51d3879c7adc90",
            "value": " 2.54k/2.54k [00:00&lt;00:00, 51.6kB/s]"
          }
        },
        "a611427967b444d7ad2adcbcca116acb": {
          "model_module": "@jupyter-widgets/base",
          "model_name": "LayoutModel",
          "model_module_version": "1.2.0",
          "state": {
            "_model_module": "@jupyter-widgets/base",
            "_model_module_version": "1.2.0",
            "_model_name": "LayoutModel",
            "_view_count": null,
            "_view_module": "@jupyter-widgets/base",
            "_view_module_version": "1.2.0",
            "_view_name": "LayoutView",
            "align_content": null,
            "align_items": null,
            "align_self": null,
            "border": null,
            "bottom": null,
            "display": null,
            "flex": null,
            "flex_flow": null,
            "grid_area": null,
            "grid_auto_columns": null,
            "grid_auto_flow": null,
            "grid_auto_rows": null,
            "grid_column": null,
            "grid_gap": null,
            "grid_row": null,
            "grid_template_areas": null,
            "grid_template_columns": null,
            "grid_template_rows": null,
            "height": null,
            "justify_content": null,
            "justify_items": null,
            "left": null,
            "margin": null,
            "max_height": null,
            "max_width": null,
            "min_height": null,
            "min_width": null,
            "object_fit": null,
            "object_position": null,
            "order": null,
            "overflow": null,
            "overflow_x": null,
            "overflow_y": null,
            "padding": null,
            "right": null,
            "top": null,
            "visibility": null,
            "width": null
          }
        },
        "e221cb3105c5492f82929ea1662bfbae": {
          "model_module": "@jupyter-widgets/base",
          "model_name": "LayoutModel",
          "model_module_version": "1.2.0",
          "state": {
            "_model_module": "@jupyter-widgets/base",
            "_model_module_version": "1.2.0",
            "_model_name": "LayoutModel",
            "_view_count": null,
            "_view_module": "@jupyter-widgets/base",
            "_view_module_version": "1.2.0",
            "_view_name": "LayoutView",
            "align_content": null,
            "align_items": null,
            "align_self": null,
            "border": null,
            "bottom": null,
            "display": null,
            "flex": null,
            "flex_flow": null,
            "grid_area": null,
            "grid_auto_columns": null,
            "grid_auto_flow": null,
            "grid_auto_rows": null,
            "grid_column": null,
            "grid_gap": null,
            "grid_row": null,
            "grid_template_areas": null,
            "grid_template_columns": null,
            "grid_template_rows": null,
            "height": null,
            "justify_content": null,
            "justify_items": null,
            "left": null,
            "margin": null,
            "max_height": null,
            "max_width": null,
            "min_height": null,
            "min_width": null,
            "object_fit": null,
            "object_position": null,
            "order": null,
            "overflow": null,
            "overflow_x": null,
            "overflow_y": null,
            "padding": null,
            "right": null,
            "top": null,
            "visibility": null,
            "width": null
          }
        },
        "811027291fdf4d1ab9b9ce467b7f4fe1": {
          "model_module": "@jupyter-widgets/controls",
          "model_name": "DescriptionStyleModel",
          "model_module_version": "1.5.0",
          "state": {
            "_model_module": "@jupyter-widgets/controls",
            "_model_module_version": "1.5.0",
            "_model_name": "DescriptionStyleModel",
            "_view_count": null,
            "_view_module": "@jupyter-widgets/base",
            "_view_module_version": "1.2.0",
            "_view_name": "StyleView",
            "description_width": ""
          }
        },
        "6dfc1f9067cb448096d4ad794c737c9b": {
          "model_module": "@jupyter-widgets/base",
          "model_name": "LayoutModel",
          "model_module_version": "1.2.0",
          "state": {
            "_model_module": "@jupyter-widgets/base",
            "_model_module_version": "1.2.0",
            "_model_name": "LayoutModel",
            "_view_count": null,
            "_view_module": "@jupyter-widgets/base",
            "_view_module_version": "1.2.0",
            "_view_name": "LayoutView",
            "align_content": null,
            "align_items": null,
            "align_self": null,
            "border": null,
            "bottom": null,
            "display": null,
            "flex": null,
            "flex_flow": null,
            "grid_area": null,
            "grid_auto_columns": null,
            "grid_auto_flow": null,
            "grid_auto_rows": null,
            "grid_column": null,
            "grid_gap": null,
            "grid_row": null,
            "grid_template_areas": null,
            "grid_template_columns": null,
            "grid_template_rows": null,
            "height": null,
            "justify_content": null,
            "justify_items": null,
            "left": null,
            "margin": null,
            "max_height": null,
            "max_width": null,
            "min_height": null,
            "min_width": null,
            "object_fit": null,
            "object_position": null,
            "order": null,
            "overflow": null,
            "overflow_x": null,
            "overflow_y": null,
            "padding": null,
            "right": null,
            "top": null,
            "visibility": null,
            "width": null
          }
        },
        "07354ad7c23a4474b1c68b553e48380c": {
          "model_module": "@jupyter-widgets/controls",
          "model_name": "ProgressStyleModel",
          "model_module_version": "1.5.0",
          "state": {
            "_model_module": "@jupyter-widgets/controls",
            "_model_module_version": "1.5.0",
            "_model_name": "ProgressStyleModel",
            "_view_count": null,
            "_view_module": "@jupyter-widgets/base",
            "_view_module_version": "1.2.0",
            "_view_name": "StyleView",
            "bar_color": null,
            "description_width": ""
          }
        },
        "daf97e3975fc432fadb6e13a038bb59a": {
          "model_module": "@jupyter-widgets/base",
          "model_name": "LayoutModel",
          "model_module_version": "1.2.0",
          "state": {
            "_model_module": "@jupyter-widgets/base",
            "_model_module_version": "1.2.0",
            "_model_name": "LayoutModel",
            "_view_count": null,
            "_view_module": "@jupyter-widgets/base",
            "_view_module_version": "1.2.0",
            "_view_name": "LayoutView",
            "align_content": null,
            "align_items": null,
            "align_self": null,
            "border": null,
            "bottom": null,
            "display": null,
            "flex": null,
            "flex_flow": null,
            "grid_area": null,
            "grid_auto_columns": null,
            "grid_auto_flow": null,
            "grid_auto_rows": null,
            "grid_column": null,
            "grid_gap": null,
            "grid_row": null,
            "grid_template_areas": null,
            "grid_template_columns": null,
            "grid_template_rows": null,
            "height": null,
            "justify_content": null,
            "justify_items": null,
            "left": null,
            "margin": null,
            "max_height": null,
            "max_width": null,
            "min_height": null,
            "min_width": null,
            "object_fit": null,
            "object_position": null,
            "order": null,
            "overflow": null,
            "overflow_x": null,
            "overflow_y": null,
            "padding": null,
            "right": null,
            "top": null,
            "visibility": null,
            "width": null
          }
        },
        "483bbf7262cd4d51bb51d3879c7adc90": {
          "model_module": "@jupyter-widgets/controls",
          "model_name": "DescriptionStyleModel",
          "model_module_version": "1.5.0",
          "state": {
            "_model_module": "@jupyter-widgets/controls",
            "_model_module_version": "1.5.0",
            "_model_name": "DescriptionStyleModel",
            "_view_count": null,
            "_view_module": "@jupyter-widgets/base",
            "_view_module_version": "1.2.0",
            "_view_name": "StyleView",
            "description_width": ""
          }
        },
        "ec446560fa2e4d9f846ecd90465768db": {
          "model_module": "@jupyter-widgets/controls",
          "model_name": "HBoxModel",
          "model_module_version": "1.5.0",
          "state": {
            "_dom_classes": [],
            "_model_module": "@jupyter-widgets/controls",
            "_model_module_version": "1.5.0",
            "_model_name": "HBoxModel",
            "_view_count": null,
            "_view_module": "@jupyter-widgets/controls",
            "_view_module_version": "1.5.0",
            "_view_name": "HBoxView",
            "box_style": "",
            "children": [
              "IPY_MODEL_31d9c699b5f84edf89df8f4b8eff2fa7",
              "IPY_MODEL_e2fb6047a6f643cfba49bca2e024d1a8",
              "IPY_MODEL_d8d4f7dfb65948bf89b3499b794a6bb0"
            ],
            "layout": "IPY_MODEL_b77a1aa69f6f4d4b8b4ebba35031cf12"
          }
        },
        "31d9c699b5f84edf89df8f4b8eff2fa7": {
          "model_module": "@jupyter-widgets/controls",
          "model_name": "HTMLModel",
          "model_module_version": "1.5.0",
          "state": {
            "_dom_classes": [],
            "_model_module": "@jupyter-widgets/controls",
            "_model_module_version": "1.5.0",
            "_model_name": "HTMLModel",
            "_view_count": null,
            "_view_module": "@jupyter-widgets/controls",
            "_view_module_version": "1.5.0",
            "_view_name": "HTMLView",
            "description": "",
            "description_tooltip": null,
            "layout": "IPY_MODEL_3c113d5d709f4e4c975310144c8caf11",
            "placeholder": "​",
            "style": "IPY_MODEL_e5d647b19b0a49be950290a51bf34f3a",
            "value": "spiece.model: 100%"
          }
        },
        "e2fb6047a6f643cfba49bca2e024d1a8": {
          "model_module": "@jupyter-widgets/controls",
          "model_name": "FloatProgressModel",
          "model_module_version": "1.5.0",
          "state": {
            "_dom_classes": [],
            "_model_module": "@jupyter-widgets/controls",
            "_model_module_version": "1.5.0",
            "_model_name": "FloatProgressModel",
            "_view_count": null,
            "_view_module": "@jupyter-widgets/controls",
            "_view_module_version": "1.5.0",
            "_view_name": "ProgressView",
            "bar_style": "success",
            "description": "",
            "description_tooltip": null,
            "layout": "IPY_MODEL_3f1b7a65888d409693b78495372dd73e",
            "max": 791656,
            "min": 0,
            "orientation": "horizontal",
            "style": "IPY_MODEL_eb6eba5e776b453d9f425937b2ae1aab",
            "value": 791656
          }
        },
        "d8d4f7dfb65948bf89b3499b794a6bb0": {
          "model_module": "@jupyter-widgets/controls",
          "model_name": "HTMLModel",
          "model_module_version": "1.5.0",
          "state": {
            "_dom_classes": [],
            "_model_module": "@jupyter-widgets/controls",
            "_model_module_version": "1.5.0",
            "_model_name": "HTMLModel",
            "_view_count": null,
            "_view_module": "@jupyter-widgets/controls",
            "_view_module_version": "1.5.0",
            "_view_name": "HTMLView",
            "description": "",
            "description_tooltip": null,
            "layout": "IPY_MODEL_bdeae1da2b1144059211c33d9e4c69e6",
            "placeholder": "​",
            "style": "IPY_MODEL_e6d12684c08a48f0b17ac4e51a99bb4e",
            "value": " 792k/792k [00:00&lt;00:00, 4.80MB/s]"
          }
        },
        "b77a1aa69f6f4d4b8b4ebba35031cf12": {
          "model_module": "@jupyter-widgets/base",
          "model_name": "LayoutModel",
          "model_module_version": "1.2.0",
          "state": {
            "_model_module": "@jupyter-widgets/base",
            "_model_module_version": "1.2.0",
            "_model_name": "LayoutModel",
            "_view_count": null,
            "_view_module": "@jupyter-widgets/base",
            "_view_module_version": "1.2.0",
            "_view_name": "LayoutView",
            "align_content": null,
            "align_items": null,
            "align_self": null,
            "border": null,
            "bottom": null,
            "display": null,
            "flex": null,
            "flex_flow": null,
            "grid_area": null,
            "grid_auto_columns": null,
            "grid_auto_flow": null,
            "grid_auto_rows": null,
            "grid_column": null,
            "grid_gap": null,
            "grid_row": null,
            "grid_template_areas": null,
            "grid_template_columns": null,
            "grid_template_rows": null,
            "height": null,
            "justify_content": null,
            "justify_items": null,
            "left": null,
            "margin": null,
            "max_height": null,
            "max_width": null,
            "min_height": null,
            "min_width": null,
            "object_fit": null,
            "object_position": null,
            "order": null,
            "overflow": null,
            "overflow_x": null,
            "overflow_y": null,
            "padding": null,
            "right": null,
            "top": null,
            "visibility": null,
            "width": null
          }
        },
        "3c113d5d709f4e4c975310144c8caf11": {
          "model_module": "@jupyter-widgets/base",
          "model_name": "LayoutModel",
          "model_module_version": "1.2.0",
          "state": {
            "_model_module": "@jupyter-widgets/base",
            "_model_module_version": "1.2.0",
            "_model_name": "LayoutModel",
            "_view_count": null,
            "_view_module": "@jupyter-widgets/base",
            "_view_module_version": "1.2.0",
            "_view_name": "LayoutView",
            "align_content": null,
            "align_items": null,
            "align_self": null,
            "border": null,
            "bottom": null,
            "display": null,
            "flex": null,
            "flex_flow": null,
            "grid_area": null,
            "grid_auto_columns": null,
            "grid_auto_flow": null,
            "grid_auto_rows": null,
            "grid_column": null,
            "grid_gap": null,
            "grid_row": null,
            "grid_template_areas": null,
            "grid_template_columns": null,
            "grid_template_rows": null,
            "height": null,
            "justify_content": null,
            "justify_items": null,
            "left": null,
            "margin": null,
            "max_height": null,
            "max_width": null,
            "min_height": null,
            "min_width": null,
            "object_fit": null,
            "object_position": null,
            "order": null,
            "overflow": null,
            "overflow_x": null,
            "overflow_y": null,
            "padding": null,
            "right": null,
            "top": null,
            "visibility": null,
            "width": null
          }
        },
        "e5d647b19b0a49be950290a51bf34f3a": {
          "model_module": "@jupyter-widgets/controls",
          "model_name": "DescriptionStyleModel",
          "model_module_version": "1.5.0",
          "state": {
            "_model_module": "@jupyter-widgets/controls",
            "_model_module_version": "1.5.0",
            "_model_name": "DescriptionStyleModel",
            "_view_count": null,
            "_view_module": "@jupyter-widgets/base",
            "_view_module_version": "1.2.0",
            "_view_name": "StyleView",
            "description_width": ""
          }
        },
        "3f1b7a65888d409693b78495372dd73e": {
          "model_module": "@jupyter-widgets/base",
          "model_name": "LayoutModel",
          "model_module_version": "1.2.0",
          "state": {
            "_model_module": "@jupyter-widgets/base",
            "_model_module_version": "1.2.0",
            "_model_name": "LayoutModel",
            "_view_count": null,
            "_view_module": "@jupyter-widgets/base",
            "_view_module_version": "1.2.0",
            "_view_name": "LayoutView",
            "align_content": null,
            "align_items": null,
            "align_self": null,
            "border": null,
            "bottom": null,
            "display": null,
            "flex": null,
            "flex_flow": null,
            "grid_area": null,
            "grid_auto_columns": null,
            "grid_auto_flow": null,
            "grid_auto_rows": null,
            "grid_column": null,
            "grid_gap": null,
            "grid_row": null,
            "grid_template_areas": null,
            "grid_template_columns": null,
            "grid_template_rows": null,
            "height": null,
            "justify_content": null,
            "justify_items": null,
            "left": null,
            "margin": null,
            "max_height": null,
            "max_width": null,
            "min_height": null,
            "min_width": null,
            "object_fit": null,
            "object_position": null,
            "order": null,
            "overflow": null,
            "overflow_x": null,
            "overflow_y": null,
            "padding": null,
            "right": null,
            "top": null,
            "visibility": null,
            "width": null
          }
        },
        "eb6eba5e776b453d9f425937b2ae1aab": {
          "model_module": "@jupyter-widgets/controls",
          "model_name": "ProgressStyleModel",
          "model_module_version": "1.5.0",
          "state": {
            "_model_module": "@jupyter-widgets/controls",
            "_model_module_version": "1.5.0",
            "_model_name": "ProgressStyleModel",
            "_view_count": null,
            "_view_module": "@jupyter-widgets/base",
            "_view_module_version": "1.2.0",
            "_view_name": "StyleView",
            "bar_color": null,
            "description_width": ""
          }
        },
        "bdeae1da2b1144059211c33d9e4c69e6": {
          "model_module": "@jupyter-widgets/base",
          "model_name": "LayoutModel",
          "model_module_version": "1.2.0",
          "state": {
            "_model_module": "@jupyter-widgets/base",
            "_model_module_version": "1.2.0",
            "_model_name": "LayoutModel",
            "_view_count": null,
            "_view_module": "@jupyter-widgets/base",
            "_view_module_version": "1.2.0",
            "_view_name": "LayoutView",
            "align_content": null,
            "align_items": null,
            "align_self": null,
            "border": null,
            "bottom": null,
            "display": null,
            "flex": null,
            "flex_flow": null,
            "grid_area": null,
            "grid_auto_columns": null,
            "grid_auto_flow": null,
            "grid_auto_rows": null,
            "grid_column": null,
            "grid_gap": null,
            "grid_row": null,
            "grid_template_areas": null,
            "grid_template_columns": null,
            "grid_template_rows": null,
            "height": null,
            "justify_content": null,
            "justify_items": null,
            "left": null,
            "margin": null,
            "max_height": null,
            "max_width": null,
            "min_height": null,
            "min_width": null,
            "object_fit": null,
            "object_position": null,
            "order": null,
            "overflow": null,
            "overflow_x": null,
            "overflow_y": null,
            "padding": null,
            "right": null,
            "top": null,
            "visibility": null,
            "width": null
          }
        },
        "e6d12684c08a48f0b17ac4e51a99bb4e": {
          "model_module": "@jupyter-widgets/controls",
          "model_name": "DescriptionStyleModel",
          "model_module_version": "1.5.0",
          "state": {
            "_model_module": "@jupyter-widgets/controls",
            "_model_module_version": "1.5.0",
            "_model_name": "DescriptionStyleModel",
            "_view_count": null,
            "_view_module": "@jupyter-widgets/base",
            "_view_module_version": "1.2.0",
            "_view_name": "StyleView",
            "description_width": ""
          }
        },
        "cc349b180605449cbb9a6491f635021f": {
          "model_module": "@jupyter-widgets/controls",
          "model_name": "HBoxModel",
          "model_module_version": "1.5.0",
          "state": {
            "_dom_classes": [],
            "_model_module": "@jupyter-widgets/controls",
            "_model_module_version": "1.5.0",
            "_model_name": "HBoxModel",
            "_view_count": null,
            "_view_module": "@jupyter-widgets/controls",
            "_view_module_version": "1.5.0",
            "_view_name": "HBoxView",
            "box_style": "",
            "children": [
              "IPY_MODEL_f874cf9499c643a6b5645ed6198b278f",
              "IPY_MODEL_3f77125a5857451587f0ce148ec48226",
              "IPY_MODEL_15d433b0faed4ad58aed68b4898c0586"
            ],
            "layout": "IPY_MODEL_47e837c5d7344a9ebb7f3d09dc736e26"
          }
        },
        "f874cf9499c643a6b5645ed6198b278f": {
          "model_module": "@jupyter-widgets/controls",
          "model_name": "HTMLModel",
          "model_module_version": "1.5.0",
          "state": {
            "_dom_classes": [],
            "_model_module": "@jupyter-widgets/controls",
            "_model_module_version": "1.5.0",
            "_model_name": "HTMLModel",
            "_view_count": null,
            "_view_module": "@jupyter-widgets/controls",
            "_view_module_version": "1.5.0",
            "_view_name": "HTMLView",
            "description": "",
            "description_tooltip": null,
            "layout": "IPY_MODEL_522c938be4de42a1a088ae655e69b94e",
            "placeholder": "​",
            "style": "IPY_MODEL_a6109e476f854bd3a437b3d7601ffe9b",
            "value": "tokenizer.json: 100%"
          }
        },
        "3f77125a5857451587f0ce148ec48226": {
          "model_module": "@jupyter-widgets/controls",
          "model_name": "FloatProgressModel",
          "model_module_version": "1.5.0",
          "state": {
            "_dom_classes": [],
            "_model_module": "@jupyter-widgets/controls",
            "_model_module_version": "1.5.0",
            "_model_name": "FloatProgressModel",
            "_view_count": null,
            "_view_module": "@jupyter-widgets/controls",
            "_view_module_version": "1.5.0",
            "_view_name": "ProgressView",
            "bar_style": "success",
            "description": "",
            "description_tooltip": null,
            "layout": "IPY_MODEL_278a707a33e94041a6f4b2a9364fd7ff",
            "max": 2424064,
            "min": 0,
            "orientation": "horizontal",
            "style": "IPY_MODEL_6baf9d8ab2a64a4182787526e8b0bda1",
            "value": 2424064
          }
        },
        "15d433b0faed4ad58aed68b4898c0586": {
          "model_module": "@jupyter-widgets/controls",
          "model_name": "HTMLModel",
          "model_module_version": "1.5.0",
          "state": {
            "_dom_classes": [],
            "_model_module": "@jupyter-widgets/controls",
            "_model_module_version": "1.5.0",
            "_model_name": "HTMLModel",
            "_view_count": null,
            "_view_module": "@jupyter-widgets/controls",
            "_view_module_version": "1.5.0",
            "_view_name": "HTMLView",
            "description": "",
            "description_tooltip": null,
            "layout": "IPY_MODEL_3ebf7c393db84423b4480f961ed7333b",
            "placeholder": "​",
            "style": "IPY_MODEL_1bf2a708f2544d8fbaee59936cf4f684",
            "value": " 2.42M/2.42M [00:00&lt;00:00, 2.64MB/s]"
          }
        },
        "47e837c5d7344a9ebb7f3d09dc736e26": {
          "model_module": "@jupyter-widgets/base",
          "model_name": "LayoutModel",
          "model_module_version": "1.2.0",
          "state": {
            "_model_module": "@jupyter-widgets/base",
            "_model_module_version": "1.2.0",
            "_model_name": "LayoutModel",
            "_view_count": null,
            "_view_module": "@jupyter-widgets/base",
            "_view_module_version": "1.2.0",
            "_view_name": "LayoutView",
            "align_content": null,
            "align_items": null,
            "align_self": null,
            "border": null,
            "bottom": null,
            "display": null,
            "flex": null,
            "flex_flow": null,
            "grid_area": null,
            "grid_auto_columns": null,
            "grid_auto_flow": null,
            "grid_auto_rows": null,
            "grid_column": null,
            "grid_gap": null,
            "grid_row": null,
            "grid_template_areas": null,
            "grid_template_columns": null,
            "grid_template_rows": null,
            "height": null,
            "justify_content": null,
            "justify_items": null,
            "left": null,
            "margin": null,
            "max_height": null,
            "max_width": null,
            "min_height": null,
            "min_width": null,
            "object_fit": null,
            "object_position": null,
            "order": null,
            "overflow": null,
            "overflow_x": null,
            "overflow_y": null,
            "padding": null,
            "right": null,
            "top": null,
            "visibility": null,
            "width": null
          }
        },
        "522c938be4de42a1a088ae655e69b94e": {
          "model_module": "@jupyter-widgets/base",
          "model_name": "LayoutModel",
          "model_module_version": "1.2.0",
          "state": {
            "_model_module": "@jupyter-widgets/base",
            "_model_module_version": "1.2.0",
            "_model_name": "LayoutModel",
            "_view_count": null,
            "_view_module": "@jupyter-widgets/base",
            "_view_module_version": "1.2.0",
            "_view_name": "LayoutView",
            "align_content": null,
            "align_items": null,
            "align_self": null,
            "border": null,
            "bottom": null,
            "display": null,
            "flex": null,
            "flex_flow": null,
            "grid_area": null,
            "grid_auto_columns": null,
            "grid_auto_flow": null,
            "grid_auto_rows": null,
            "grid_column": null,
            "grid_gap": null,
            "grid_row": null,
            "grid_template_areas": null,
            "grid_template_columns": null,
            "grid_template_rows": null,
            "height": null,
            "justify_content": null,
            "justify_items": null,
            "left": null,
            "margin": null,
            "max_height": null,
            "max_width": null,
            "min_height": null,
            "min_width": null,
            "object_fit": null,
            "object_position": null,
            "order": null,
            "overflow": null,
            "overflow_x": null,
            "overflow_y": null,
            "padding": null,
            "right": null,
            "top": null,
            "visibility": null,
            "width": null
          }
        },
        "a6109e476f854bd3a437b3d7601ffe9b": {
          "model_module": "@jupyter-widgets/controls",
          "model_name": "DescriptionStyleModel",
          "model_module_version": "1.5.0",
          "state": {
            "_model_module": "@jupyter-widgets/controls",
            "_model_module_version": "1.5.0",
            "_model_name": "DescriptionStyleModel",
            "_view_count": null,
            "_view_module": "@jupyter-widgets/base",
            "_view_module_version": "1.2.0",
            "_view_name": "StyleView",
            "description_width": ""
          }
        },
        "278a707a33e94041a6f4b2a9364fd7ff": {
          "model_module": "@jupyter-widgets/base",
          "model_name": "LayoutModel",
          "model_module_version": "1.2.0",
          "state": {
            "_model_module": "@jupyter-widgets/base",
            "_model_module_version": "1.2.0",
            "_model_name": "LayoutModel",
            "_view_count": null,
            "_view_module": "@jupyter-widgets/base",
            "_view_module_version": "1.2.0",
            "_view_name": "LayoutView",
            "align_content": null,
            "align_items": null,
            "align_self": null,
            "border": null,
            "bottom": null,
            "display": null,
            "flex": null,
            "flex_flow": null,
            "grid_area": null,
            "grid_auto_columns": null,
            "grid_auto_flow": null,
            "grid_auto_rows": null,
            "grid_column": null,
            "grid_gap": null,
            "grid_row": null,
            "grid_template_areas": null,
            "grid_template_columns": null,
            "grid_template_rows": null,
            "height": null,
            "justify_content": null,
            "justify_items": null,
            "left": null,
            "margin": null,
            "max_height": null,
            "max_width": null,
            "min_height": null,
            "min_width": null,
            "object_fit": null,
            "object_position": null,
            "order": null,
            "overflow": null,
            "overflow_x": null,
            "overflow_y": null,
            "padding": null,
            "right": null,
            "top": null,
            "visibility": null,
            "width": null
          }
        },
        "6baf9d8ab2a64a4182787526e8b0bda1": {
          "model_module": "@jupyter-widgets/controls",
          "model_name": "ProgressStyleModel",
          "model_module_version": "1.5.0",
          "state": {
            "_model_module": "@jupyter-widgets/controls",
            "_model_module_version": "1.5.0",
            "_model_name": "ProgressStyleModel",
            "_view_count": null,
            "_view_module": "@jupyter-widgets/base",
            "_view_module_version": "1.2.0",
            "_view_name": "StyleView",
            "bar_color": null,
            "description_width": ""
          }
        },
        "3ebf7c393db84423b4480f961ed7333b": {
          "model_module": "@jupyter-widgets/base",
          "model_name": "LayoutModel",
          "model_module_version": "1.2.0",
          "state": {
            "_model_module": "@jupyter-widgets/base",
            "_model_module_version": "1.2.0",
            "_model_name": "LayoutModel",
            "_view_count": null,
            "_view_module": "@jupyter-widgets/base",
            "_view_module_version": "1.2.0",
            "_view_name": "LayoutView",
            "align_content": null,
            "align_items": null,
            "align_self": null,
            "border": null,
            "bottom": null,
            "display": null,
            "flex": null,
            "flex_flow": null,
            "grid_area": null,
            "grid_auto_columns": null,
            "grid_auto_flow": null,
            "grid_auto_rows": null,
            "grid_column": null,
            "grid_gap": null,
            "grid_row": null,
            "grid_template_areas": null,
            "grid_template_columns": null,
            "grid_template_rows": null,
            "height": null,
            "justify_content": null,
            "justify_items": null,
            "left": null,
            "margin": null,
            "max_height": null,
            "max_width": null,
            "min_height": null,
            "min_width": null,
            "object_fit": null,
            "object_position": null,
            "order": null,
            "overflow": null,
            "overflow_x": null,
            "overflow_y": null,
            "padding": null,
            "right": null,
            "top": null,
            "visibility": null,
            "width": null
          }
        },
        "1bf2a708f2544d8fbaee59936cf4f684": {
          "model_module": "@jupyter-widgets/controls",
          "model_name": "DescriptionStyleModel",
          "model_module_version": "1.5.0",
          "state": {
            "_model_module": "@jupyter-widgets/controls",
            "_model_module_version": "1.5.0",
            "_model_name": "DescriptionStyleModel",
            "_view_count": null,
            "_view_module": "@jupyter-widgets/base",
            "_view_module_version": "1.2.0",
            "_view_name": "StyleView",
            "description_width": ""
          }
        },
        "a399c90df79b4e16bb327ba6ddd008bf": {
          "model_module": "@jupyter-widgets/controls",
          "model_name": "HBoxModel",
          "model_module_version": "1.5.0",
          "state": {
            "_dom_classes": [],
            "_model_module": "@jupyter-widgets/controls",
            "_model_module_version": "1.5.0",
            "_model_name": "HBoxModel",
            "_view_count": null,
            "_view_module": "@jupyter-widgets/controls",
            "_view_module_version": "1.5.0",
            "_view_name": "HBoxView",
            "box_style": "",
            "children": [
              "IPY_MODEL_6b550fd366374a62a01110cdb293808a",
              "IPY_MODEL_529af660e5d64a5abe1291b9217787fb",
              "IPY_MODEL_2b764cecfe524cb8b07aeb54025fe4af"
            ],
            "layout": "IPY_MODEL_095d3051b12447ddbc5e8d51277accf9"
          }
        },
        "6b550fd366374a62a01110cdb293808a": {
          "model_module": "@jupyter-widgets/controls",
          "model_name": "HTMLModel",
          "model_module_version": "1.5.0",
          "state": {
            "_dom_classes": [],
            "_model_module": "@jupyter-widgets/controls",
            "_model_module_version": "1.5.0",
            "_model_name": "HTMLModel",
            "_view_count": null,
            "_view_module": "@jupyter-widgets/controls",
            "_view_module_version": "1.5.0",
            "_view_name": "HTMLView",
            "description": "",
            "description_tooltip": null,
            "layout": "IPY_MODEL_8408e1696f404297be8929027ac3fba9",
            "placeholder": "​",
            "style": "IPY_MODEL_aa12909ef0ff4e13aa73a6c500113c63",
            "value": "special_tokens_map.json: 100%"
          }
        },
        "529af660e5d64a5abe1291b9217787fb": {
          "model_module": "@jupyter-widgets/controls",
          "model_name": "FloatProgressModel",
          "model_module_version": "1.5.0",
          "state": {
            "_dom_classes": [],
            "_model_module": "@jupyter-widgets/controls",
            "_model_module_version": "1.5.0",
            "_model_name": "FloatProgressModel",
            "_view_count": null,
            "_view_module": "@jupyter-widgets/controls",
            "_view_module_version": "1.5.0",
            "_view_name": "ProgressView",
            "bar_style": "success",
            "description": "",
            "description_tooltip": null,
            "layout": "IPY_MODEL_5f262d81c11b44499d1f1ffe38f74643",
            "max": 2201,
            "min": 0,
            "orientation": "horizontal",
            "style": "IPY_MODEL_b250dd5ebe7d45a4985138ca86cfa47e",
            "value": 2201
          }
        },
        "2b764cecfe524cb8b07aeb54025fe4af": {
          "model_module": "@jupyter-widgets/controls",
          "model_name": "HTMLModel",
          "model_module_version": "1.5.0",
          "state": {
            "_dom_classes": [],
            "_model_module": "@jupyter-widgets/controls",
            "_model_module_version": "1.5.0",
            "_model_name": "HTMLModel",
            "_view_count": null,
            "_view_module": "@jupyter-widgets/controls",
            "_view_module_version": "1.5.0",
            "_view_name": "HTMLView",
            "description": "",
            "description_tooltip": null,
            "layout": "IPY_MODEL_c05b53ff432f4a9494990b7391efa8ef",
            "placeholder": "​",
            "style": "IPY_MODEL_08dd3809a5124ef5a0afa6de1ac0d2c7",
            "value": " 2.20k/2.20k [00:00&lt;00:00, 32.3kB/s]"
          }
        },
        "095d3051b12447ddbc5e8d51277accf9": {
          "model_module": "@jupyter-widgets/base",
          "model_name": "LayoutModel",
          "model_module_version": "1.2.0",
          "state": {
            "_model_module": "@jupyter-widgets/base",
            "_model_module_version": "1.2.0",
            "_model_name": "LayoutModel",
            "_view_count": null,
            "_view_module": "@jupyter-widgets/base",
            "_view_module_version": "1.2.0",
            "_view_name": "LayoutView",
            "align_content": null,
            "align_items": null,
            "align_self": null,
            "border": null,
            "bottom": null,
            "display": null,
            "flex": null,
            "flex_flow": null,
            "grid_area": null,
            "grid_auto_columns": null,
            "grid_auto_flow": null,
            "grid_auto_rows": null,
            "grid_column": null,
            "grid_gap": null,
            "grid_row": null,
            "grid_template_areas": null,
            "grid_template_columns": null,
            "grid_template_rows": null,
            "height": null,
            "justify_content": null,
            "justify_items": null,
            "left": null,
            "margin": null,
            "max_height": null,
            "max_width": null,
            "min_height": null,
            "min_width": null,
            "object_fit": null,
            "object_position": null,
            "order": null,
            "overflow": null,
            "overflow_x": null,
            "overflow_y": null,
            "padding": null,
            "right": null,
            "top": null,
            "visibility": null,
            "width": null
          }
        },
        "8408e1696f404297be8929027ac3fba9": {
          "model_module": "@jupyter-widgets/base",
          "model_name": "LayoutModel",
          "model_module_version": "1.2.0",
          "state": {
            "_model_module": "@jupyter-widgets/base",
            "_model_module_version": "1.2.0",
            "_model_name": "LayoutModel",
            "_view_count": null,
            "_view_module": "@jupyter-widgets/base",
            "_view_module_version": "1.2.0",
            "_view_name": "LayoutView",
            "align_content": null,
            "align_items": null,
            "align_self": null,
            "border": null,
            "bottom": null,
            "display": null,
            "flex": null,
            "flex_flow": null,
            "grid_area": null,
            "grid_auto_columns": null,
            "grid_auto_flow": null,
            "grid_auto_rows": null,
            "grid_column": null,
            "grid_gap": null,
            "grid_row": null,
            "grid_template_areas": null,
            "grid_template_columns": null,
            "grid_template_rows": null,
            "height": null,
            "justify_content": null,
            "justify_items": null,
            "left": null,
            "margin": null,
            "max_height": null,
            "max_width": null,
            "min_height": null,
            "min_width": null,
            "object_fit": null,
            "object_position": null,
            "order": null,
            "overflow": null,
            "overflow_x": null,
            "overflow_y": null,
            "padding": null,
            "right": null,
            "top": null,
            "visibility": null,
            "width": null
          }
        },
        "aa12909ef0ff4e13aa73a6c500113c63": {
          "model_module": "@jupyter-widgets/controls",
          "model_name": "DescriptionStyleModel",
          "model_module_version": "1.5.0",
          "state": {
            "_model_module": "@jupyter-widgets/controls",
            "_model_module_version": "1.5.0",
            "_model_name": "DescriptionStyleModel",
            "_view_count": null,
            "_view_module": "@jupyter-widgets/base",
            "_view_module_version": "1.2.0",
            "_view_name": "StyleView",
            "description_width": ""
          }
        },
        "5f262d81c11b44499d1f1ffe38f74643": {
          "model_module": "@jupyter-widgets/base",
          "model_name": "LayoutModel",
          "model_module_version": "1.2.0",
          "state": {
            "_model_module": "@jupyter-widgets/base",
            "_model_module_version": "1.2.0",
            "_model_name": "LayoutModel",
            "_view_count": null,
            "_view_module": "@jupyter-widgets/base",
            "_view_module_version": "1.2.0",
            "_view_name": "LayoutView",
            "align_content": null,
            "align_items": null,
            "align_self": null,
            "border": null,
            "bottom": null,
            "display": null,
            "flex": null,
            "flex_flow": null,
            "grid_area": null,
            "grid_auto_columns": null,
            "grid_auto_flow": null,
            "grid_auto_rows": null,
            "grid_column": null,
            "grid_gap": null,
            "grid_row": null,
            "grid_template_areas": null,
            "grid_template_columns": null,
            "grid_template_rows": null,
            "height": null,
            "justify_content": null,
            "justify_items": null,
            "left": null,
            "margin": null,
            "max_height": null,
            "max_width": null,
            "min_height": null,
            "min_width": null,
            "object_fit": null,
            "object_position": null,
            "order": null,
            "overflow": null,
            "overflow_x": null,
            "overflow_y": null,
            "padding": null,
            "right": null,
            "top": null,
            "visibility": null,
            "width": null
          }
        },
        "b250dd5ebe7d45a4985138ca86cfa47e": {
          "model_module": "@jupyter-widgets/controls",
          "model_name": "ProgressStyleModel",
          "model_module_version": "1.5.0",
          "state": {
            "_model_module": "@jupyter-widgets/controls",
            "_model_module_version": "1.5.0",
            "_model_name": "ProgressStyleModel",
            "_view_count": null,
            "_view_module": "@jupyter-widgets/base",
            "_view_module_version": "1.2.0",
            "_view_name": "StyleView",
            "bar_color": null,
            "description_width": ""
          }
        },
        "c05b53ff432f4a9494990b7391efa8ef": {
          "model_module": "@jupyter-widgets/base",
          "model_name": "LayoutModel",
          "model_module_version": "1.2.0",
          "state": {
            "_model_module": "@jupyter-widgets/base",
            "_model_module_version": "1.2.0",
            "_model_name": "LayoutModel",
            "_view_count": null,
            "_view_module": "@jupyter-widgets/base",
            "_view_module_version": "1.2.0",
            "_view_name": "LayoutView",
            "align_content": null,
            "align_items": null,
            "align_self": null,
            "border": null,
            "bottom": null,
            "display": null,
            "flex": null,
            "flex_flow": null,
            "grid_area": null,
            "grid_auto_columns": null,
            "grid_auto_flow": null,
            "grid_auto_rows": null,
            "grid_column": null,
            "grid_gap": null,
            "grid_row": null,
            "grid_template_areas": null,
            "grid_template_columns": null,
            "grid_template_rows": null,
            "height": null,
            "justify_content": null,
            "justify_items": null,
            "left": null,
            "margin": null,
            "max_height": null,
            "max_width": null,
            "min_height": null,
            "min_width": null,
            "object_fit": null,
            "object_position": null,
            "order": null,
            "overflow": null,
            "overflow_x": null,
            "overflow_y": null,
            "padding": null,
            "right": null,
            "top": null,
            "visibility": null,
            "width": null
          }
        },
        "08dd3809a5124ef5a0afa6de1ac0d2c7": {
          "model_module": "@jupyter-widgets/controls",
          "model_name": "DescriptionStyleModel",
          "model_module_version": "1.5.0",
          "state": {
            "_model_module": "@jupyter-widgets/controls",
            "_model_module_version": "1.5.0",
            "_model_name": "DescriptionStyleModel",
            "_view_count": null,
            "_view_module": "@jupyter-widgets/base",
            "_view_module_version": "1.2.0",
            "_view_name": "StyleView",
            "description_width": ""
          }
        }
      }
    }
  },
  "nbformat": 4,
  "nbformat_minor": 5
}